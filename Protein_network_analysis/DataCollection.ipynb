{
 "cells": [
  {
   "cell_type": "code",
   "execution_count": 2,
   "metadata": {},
   "outputs": [],
   "source": [
    "import pandas as pd"
   ]
  },
  {
   "cell_type": "code",
   "execution_count": 11,
   "metadata": {},
   "outputs": [],
   "source": [
    "uniqueProtein = pd.read_csv(\"/Users/desert/OneDrive - North Dakota University System/Research/Network analysis in PPI/BioGRIDdata/unique_protein.csv\"\n",
    "                            ,header=None)\n",
    "hallmarkDataset = pd.read_csv(\"/Users/desert/OneDrive - North Dakota University System/Research/Network analysis in PPI/BioGRIDdata/hallmark.csv\"\n",
    "                              ,header=None)"
   ]
  },
  {
   "cell_type": "code",
   "execution_count": 36,
   "metadata": {},
   "outputs": [
    {
     "data": {
      "text/plain": [
       "'ABCC5'"
      ]
     },
     "execution_count": 36,
     "metadata": {},
     "output_type": "execute_result"
    }
   ],
   "source": [
    "uniqueProtein.iloc[64,0]"
   ]
  },
  {
   "cell_type": "code",
   "execution_count": 26,
   "metadata": {},
   "outputs": [
    {
     "data": {
      "text/plain": [
       "0    False\n",
       "Name: 76, dtype: bool"
      ]
     },
     "execution_count": 26,
     "metadata": {},
     "output_type": "execute_result"
    }
   ],
   "source": [
    "uniqueProtein.iloc[76,].isin(hallmarkDataset)"
   ]
  },
  {
   "cell_type": "code",
   "execution_count": 48,
   "metadata": {},
   "outputs": [],
   "source": [
    "count = 0\n",
    "for i in range(0,17000):\n",
    "    if hallmarkDataset[hallmarkDataset.isin([uniqueProtein.iloc[i,0]])].stack().shape[0]>0:\n",
    "            count += 1\n"
   ]
  },
  {
   "cell_type": "code",
   "execution_count": 28,
   "metadata": {},
   "outputs": [
    {
     "data": {
      "text/plain": [
       "False"
      ]
     },
     "execution_count": 28,
     "metadata": {},
     "output_type": "execute_result"
    }
   ],
   "source": [
    "uniqueProtein.iloc[i,].isin(hallmarkDataset).bool()"
   ]
  },
  {
   "cell_type": "code",
   "execution_count": 46,
   "metadata": {},
   "outputs": [
    {
     "data": {
      "text/plain": [
       "(1,)"
      ]
     },
     "execution_count": 46,
     "metadata": {},
     "output_type": "execute_result"
    }
   ],
   "source": [
    "hallmarkDataset[hallmarkDataset.isin([\"ABCC4\"])].stack().shape"
   ]
  },
  {
   "cell_type": "code",
   "execution_count": 49,
   "metadata": {},
   "outputs": [
    {
     "data": {
      "text/plain": [
       "0  0                     HALLMARK_TNFA_SIGNALING_VIA_NFKB\n",
       "   1    http://www.broadinstitute.org/gsea/msigdb/card...\n",
       "   2                                                 JUNB\n",
       "   3                                                CXCL2\n",
       "   4                                                 ATF3\n",
       "1  0                                     HALLMARK_HYPOXIA\n",
       "   1    http://www.broadinstitute.org/gsea/msigdb/card...\n",
       "   2                                                 PGK1\n",
       "   3                                                 PDK1\n",
       "   4                                                 GBE1\n",
       "2  0                     HALLMARK_CHOLESTEROL_HOMEOSTASIS\n",
       "   1    http://www.broadinstitute.org/gsea/msigdb/card...\n",
       "   2                                                 FDPS\n",
       "   3                                              CYP51A1\n",
       "   4                                                 IDI1\n",
       "3  0                             HALLMARK_MITOTIC_SPINDLE\n",
       "   1    http://www.broadinstitute.org/gsea/msigdb/card...\n",
       "   2                                              ARHGEF2\n",
       "   3                                               CLASP1\n",
       "   4                                                KIF11\n",
       "4  0                  HALLMARK_WNT_BETA_CATENIN_SIGNALING\n",
       "   1    http://www.broadinstitute.org/gsea/msigdb/card...\n",
       "   2                                                  MYC\n",
       "   3                                               CTNNB1\n",
       "   4                                                 JAG2\n",
       "dtype: object"
      ]
     },
     "execution_count": 49,
     "metadata": {},
     "output_type": "execute_result"
    }
   ],
   "source": [
    "hallmarkDataset.iloc[0:5,0:5].stack()"
   ]
  },
  {
   "cell_type": "code",
   "execution_count": 50,
   "metadata": {},
   "outputs": [
    {
     "data": {
      "text/plain": [
       "4217"
      ]
     },
     "execution_count": 50,
     "metadata": {},
     "output_type": "execute_result"
    }
   ],
   "source": [
    "count"
   ]
  },
  {
   "cell_type": "code",
   "execution_count": null,
   "metadata": {},
   "outputs": [],
   "source": []
  }
 ],
 "metadata": {
  "kernelspec": {
   "display_name": "Python 3",
   "language": "python",
   "name": "python3"
  },
  "language_info": {
   "codemirror_mode": {
    "name": "ipython",
    "version": 3
   },
   "file_extension": ".py",
   "mimetype": "text/x-python",
   "name": "python",
   "nbconvert_exporter": "python",
   "pygments_lexer": "ipython3",
   "version": "3.6.7"
  }
 },
 "nbformat": 4,
 "nbformat_minor": 2
}
