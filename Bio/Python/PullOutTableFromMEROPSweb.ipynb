{
 "cells": [
  {
   "cell_type": "code",
   "execution_count": 28,
   "metadata": {
    "collapsed": true
   },
   "outputs": [],
   "source": [
    "import requests\n",
    "import pandas as pd\n",
    "import numpy as np"
   ]
  },
  {
   "cell_type": "markdown",
   "metadata": {},
   "source": [
    "### Serine - S1 - S1A: chymostrypsin"
   ]
  },
  {
   "cell_type": "code",
   "execution_count": 32,
   "metadata": {},
   "outputs": [],
   "source": [
    "holder = pd.DataFrame()\n",
    "for i in range(0,999):\n",
    "    url = \"https://www.ebi.ac.uk/merops/cgi-bin/structure?mid=S01.\"+\"{0:0=3d}\".format(i)\n",
    "    html = requests.get(url).content\n",
    "    df_list = pd.read_html(html)\n",
    "    df = df_list[-1]\n",
    "    holder = pd.concat([holder,df])"
   ]
  },
  {
   "cell_type": "code",
   "execution_count": 33,
   "metadata": {},
   "outputs": [],
   "source": [
    "pd.DataFrame(holder.iloc[:,2].unique()).to_csv(\"/Users/desert/Desktop/temp/temp.csv\")"
   ]
  },
  {
   "cell_type": "markdown",
   "metadata": {
    "collapsed": true
   },
   "source": [
    "### Cysteine - C1 - C1A:  papain"
   ]
  },
  {
   "cell_type": "code",
   "execution_count": 34,
   "metadata": {
    "collapsed": true
   },
   "outputs": [],
   "source": [
    "holder = pd.DataFrame()\n",
    "for i in range(0,999):\n",
    "    url = \"https://www.ebi.ac.uk/merops/cgi-bin/structure?mid=C01.\"+\"{0:0=3d}\".format(i)\n",
    "    html = requests.get(url).content\n",
    "    df_list = pd.read_html(html)\n",
    "    df = df_list[-1]\n",
    "    holder = pd.concat([holder,df])"
   ]
  },
  {
   "cell_type": "code",
   "execution_count": 35,
   "metadata": {
    "collapsed": true
   },
   "outputs": [],
   "source": [
    "pd.DataFrame(holder.iloc[:,2].unique()).to_csv(\"/Users/desert/Desktop/temp/temp.csv\")"
   ]
  },
  {
   "cell_type": "code",
   "execution_count": null,
   "metadata": {
    "collapsed": true
   },
   "outputs": [],
   "source": []
  }
 ],
 "metadata": {
  "kernelspec": {
   "display_name": "Python 3",
   "language": "python",
   "name": "python3"
  },
  "language_info": {
   "codemirror_mode": {
    "name": "ipython",
    "version": 3
   },
   "file_extension": ".py",
   "mimetype": "text/x-python",
   "name": "python",
   "nbconvert_exporter": "python",
   "pygments_lexer": "ipython3",
   "version": "3.6.2"
  }
 },
 "nbformat": 4,
 "nbformat_minor": 2
}
