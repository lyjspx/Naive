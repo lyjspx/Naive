{
 "cells": [
  {
   "cell_type": "code",
   "execution_count": 1,
   "metadata": {
    "collapsed": true
   },
   "outputs": [],
   "source": [
    "line_container = list()\n",
    "with open(\"ToxB_TCAP371_GBS50MAF1_PC5Kmodel_effect.txt\", \"r\") as f:\n",
    "    for line in f:\n",
    "        line_container.append(line.strip(\"\\n\"))"
   ]
  },
  {
   "cell_type": "code",
   "execution_count": 2,
   "metadata": {},
   "outputs": [
    {
     "data": {
      "text/plain": [
       "['Trait\\tMarker\\tLocus\\tSite\\tAllele\\tEffect\\tObs',\n",
       " 'ToxB\\tS1A_1145442\\t1A\\t1145442\\tA\\t0.02272\\t8',\n",
       " 'ToxB\\tS1A_1145442\\t1A\\t1145442\\tG\\t0\\t343']"
      ]
     },
     "execution_count": 2,
     "metadata": {},
     "output_type": "execute_result"
    }
   ],
   "source": [
    "line_container[0:3]"
   ]
  },
  {
   "cell_type": "code",
   "execution_count": 3,
   "metadata": {
    "collapsed": true
   },
   "outputs": [],
   "source": [
    "new_line_container = list()\n",
    "new_line_container.append(line_container[0])\n",
    "n=1\n",
    "while n < len(line_container):\n",
    "    new_line_container.append(line_container[n]+line_container[n+1])\n",
    "    n += 2\n",
    "    "
   ]
  },
  {
   "cell_type": "code",
   "execution_count": 4,
   "metadata": {},
   "outputs": [
    {
     "data": {
      "text/plain": [
       "['ToxB\\tS1A_1145442\\t1A\\t1145442\\tA\\t0.02272\\t8ToxB\\tS1A_1145442\\t1A\\t1145442\\tG\\t0\\t343',\n",
       " 'ToxB\\tS1A_1145499\\t1A\\t1145499\\tC\\t-5.4948E-2\\t337ToxB\\tS1A_1145499\\t1A\\t1145499\\tT\\t0\\t15']"
      ]
     },
     "execution_count": 4,
     "metadata": {},
     "output_type": "execute_result"
    }
   ],
   "source": [
    "new_line_container[1:3]"
   ]
  },
  {
   "cell_type": "code",
   "execution_count": 5,
   "metadata": {},
   "outputs": [
    {
     "data": {
      "text/plain": [
       "68295"
      ]
     },
     "execution_count": 5,
     "metadata": {},
     "output_type": "execute_result"
    }
   ],
   "source": [
    "len(new_line_container)"
   ]
  },
  {
   "cell_type": "code",
   "execution_count": 6,
   "metadata": {
    "collapsed": true
   },
   "outputs": [],
   "source": [
    "with open(\"ToxB_K_model_effect.txt\", \"w\") as wf:\n",
    "    for line in new_line_container:\n",
    "        wf.write(line + \"\\n\")"
   ]
  },
  {
   "cell_type": "code",
   "execution_count": null,
   "metadata": {
    "collapsed": true
   },
   "outputs": [],
   "source": []
  }
 ],
 "metadata": {
  "kernelspec": {
   "display_name": "Python 3",
   "language": "python",
   "name": "python3"
  },
  "language_info": {
   "codemirror_mode": {
    "name": "ipython",
    "version": 3
   },
   "file_extension": ".py",
   "mimetype": "text/x-python",
   "name": "python",
   "nbconvert_exporter": "python",
   "pygments_lexer": "ipython3",
   "version": "3.6.3"
  }
 },
 "nbformat": 4,
 "nbformat_minor": 2
}
