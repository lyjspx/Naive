{
 "cells": [
  {
   "cell_type": "markdown",
   "metadata": {},
   "source": [
    "# Assignment 3 - Yuan Liu"
   ]
  },
  {
   "cell_type": "code",
   "execution_count": 2,
   "metadata": {},
   "outputs": [],
   "source": [
    "import scipy.io as sio \n",
    "import numpy as np\n",
    "import networkx as nx\n",
    "import matplotlib.pyplot as plt #for ploting\n",
    "import math #logarithmic  computation\n",
    "import powerlaw \n",
    "matFile = sio.loadmat(\"Homo_sapiens.mat\") # read mat file"
   ]
  },
  {
   "cell_type": "code",
   "execution_count": 195,
   "metadata": {},
   "outputs": [
    {
     "data": {
      "text/plain": [
       "{'__header__': b'MATLAB 5.0 MAT-file Platform: posix, Created on: Thu Nov 12 18:54:12 2015',\n",
       " '__version__': '1.0',\n",
       " '__globals__': [],\n",
       " 'group': <3890x50 sparse matrix of type '<class 'numpy.float64'>'\n",
       " \twith 6640 stored elements in Compressed Sparse Column format>,\n",
       " 'network': <3890x3890 sparse matrix of type '<class 'numpy.float64'>'\n",
       " \twith 76584 stored elements in Compressed Sparse Column format>}"
      ]
     },
     "execution_count": 195,
     "metadata": {},
     "output_type": "execute_result"
    }
   ],
   "source": [
    "matFile # take a look at file"
   ]
  },
  {
   "cell_type": "code",
   "execution_count": 3,
   "metadata": {},
   "outputs": [],
   "source": [
    "G = nx.from_numpy_matrix(matFile[\"network\"].todense()) # convert sprase to dense"
   ]
  },
  {
   "cell_type": "code",
   "execution_count": 197,
   "metadata": {},
   "outputs": [
    {
     "data": {
      "image/png": "[encoded data removed]",
      "text/plain": [
       "<matplotlib.figure.Figure at 0x1830106b00>"
      ]
     },
     "metadata": {},
     "output_type": "display_data"
    }
   ],
   "source": [
    "nx.draw(G)\n",
    "plt.show()"
   ]
  },
  {
   "cell_type": "markdown",
   "metadata": {},
   "source": [
    "## Plot the network"
   ]
  },
  {
   "cell_type": "code",
   "execution_count": 68,
   "metadata": {},
   "outputs": [
    {
     "data": {
      "text/plain": [
       "False"
      ]
     },
     "execution_count": 68,
     "metadata": {},
     "output_type": "execute_result"
    }
   ],
   "source": [
    "nx.is_connected(G)"
   ]
  },
  {
   "cell_type": "markdown",
   "metadata": {},
   "source": [
    "## The network is not connected"
   ]
  },
  {
   "cell_type": "code",
   "execution_count": 53,
   "metadata": {},
   "outputs": [
    {
     "data": {
      "text/plain": [
       "35"
      ]
     },
     "execution_count": 53,
     "metadata": {},
     "output_type": "execute_result"
    }
   ],
   "source": [
    "numConCompo=nx.number_connected_components(G)\n",
    "numConCompo"
   ]
  },
  {
   "cell_type": "markdown",
   "metadata": {},
   "source": [
    "## In a total of 35 connected components in this network"
   ]
  },
  {
   "cell_type": "code",
   "execution_count": 4,
   "metadata": {},
   "outputs": [],
   "source": [
    "degreeCentrality = nx.degree_centrality(G)\n",
    "eigenCentrality = nx.eigenvector_centrality(G)\n",
    "closenessCentrality = nx.closeness_centrality(G)\n",
    "harmonicCentrality = nx.harmonic_centrality(G)\n",
    "betweenCentrality = nx.betweenness_centrality(G)\n",
    "pageRank = nx.pagerank(G)\n",
    "clusteringCoefficient = nx.clustering(G)"
   ]
  },
  {
   "cell_type": "markdown",
   "metadata": {},
   "source": [
    "## compute the necessary statistics to delineate this network centrality "
   ]
  },
  {
   "cell_type": "code",
   "execution_count": 14,
   "metadata": {},
   "outputs": [],
   "source": [
    "with open(\"centrality.csv\",\"w\") as wf:\n",
    "    wf.write(\",\".join([\"node\",\"degree centrality\",\"eigenvector centrality\",\"closeness centrality\",\"harmonic centrality\",\"betweeness centrality\", \"page rank\",\"clustering coefficient\"]))\n",
    "    wf.write(\"\\n\")\n",
    "    for i in range(0,len(degreeCentrality)):\n",
    "        wf.write(\",\".join([str(i),str(degreeCentrality[i]),str(eigenCentrality[i]),str(closenessCentrality[i]),str(harmonicCentrality[i]),str(betweenCentrality[i]),str(pageRank[i]),str(clusteringCoefficient[i])]))\n",
    "        wf.write(\"\\n\")"
   ]
  },
  {
   "cell_type": "markdown",
   "metadata": {},
   "source": [
    "## Output centrality of nodes to a file"
   ]
  },
  {
   "cell_type": "code",
   "execution_count": 188,
   "metadata": {},
   "outputs": [
    {
     "data": {
      "text/plain": [
       "Text(0.5,1,'clustering cofficient')"
      ]
     },
     "execution_count": 188,
     "metadata": {},
     "output_type": "execute_result"
    },
    {
     "data": {
      "image/png": "[encoded data removed]",
      "text/plain": [
       "<matplotlib.figure.Figure at 0x182f9b46a0>"
      ]
     },
     "metadata": {
      "needs_background": "light"
     },
     "output_type": "display_data"
    }
   ],
   "source": [
    "#Test line\n",
    "_ , axs = plt.subplots(1, 7, sharey=True, tight_layout=True,figsize=(14,6))\n",
    "_ , _ , _ = axs[0].hist(closenessCentrality.values(),20)\n",
    "_ , _ , _ = axs[1].hist(eigenCentrality.values(),50)\n",
    "_ , _ , _ = axs[2].hist(degreeCentrality.values(),100)\n",
    "_ , _ , _ = axs[3].hist(harmonicCentrality.values(),50)\n",
    "_ , _ , _ = axs[4].hist(betweenCentrality.values(),200)\n",
    "_ , _ , _ = axs[5].hist(pageRank.values(),50)\n",
    "_ , _ , _ = axs[6].hist(clusteringCoefficient.values(),50)\n",
    "axs[0].set_ylabel(\"frequency\")\n",
    "axs[0].set_title(\"closeness centrality\")\n",
    "axs[1].set_title(\"eigenvector centrality\")\n",
    "axs[2].set_title(\"degree centrality\")\n",
    "axs[3].set_title(\"harmonic centrality\")\n",
    "axs[4].set_title(\"between centrality\")\n",
    "axs[5].set_title(\"page rank\")\n",
    "axs[6].set_title(\"clustering cofficient\")"
   ]
  },
  {
   "cell_type": "markdown",
   "metadata": {},
   "source": [
    "## closeness and harmonic centralities distribute a bell shape\n",
    "## eigenvector, degree, between centrality, page rank, and clustering cofficient are more likely to follow power law."
   ]
  },
  {
   "cell_type": "code",
   "execution_count": 7,
   "metadata": {},
   "outputs": [],
   "source": [
    "degreeCentrality = nx.degree_centrality(G)\n",
    "degreeCentralityValue = list(degreeCentrality.values())"
   ]
  },
  {
   "cell_type": "code",
   "execution_count": 9,
   "metadata": {},
   "outputs": [
    {
     "name": "stderr",
     "output_type": "stream",
     "text": [
      "Calculating best minimal value for power law fit\n"
     ]
    }
   ],
   "source": [
    "results=powerlaw.Fit(degreeCentralityValue)"
   ]
  },
  {
   "cell_type": "code",
   "execution_count": 16,
   "metadata": {},
   "outputs": [
    {
     "data": {
      "text/plain": [
       "<matplotlib.axes._subplots.AxesSubplot at 0x181aa17748>"
      ]
     },
     "execution_count": 16,
     "metadata": {},
     "output_type": "execute_result"
    },
    {
     "data": {
      "image/png": "[encoded data removed]",
      "text/plain": [
       "<matplotlib.figure.Figure at 0x181a9b0a90>"
      ]
     },
     "metadata": {
      "needs_background": "light"
     },
     "output_type": "display_data"
    }
   ],
   "source": [
    "results.plot_pdf()\n",
    "results.power_law.plot_pdf()"
   ]
  },
  {
   "cell_type": "markdown",
   "metadata": {},
   "source": [
    "## A straight line trend can be observed. Even though it is not a perfect straight line, it is still a good fit."
   ]
  },
  {
   "cell_type": "code",
   "execution_count": 191,
   "metadata": {},
   "outputs": [
    {
     "data": {
      "text/plain": [
       "(-0.34965162343024914, 0.5578641371787154)"
      ]
     },
     "execution_count": 191,
     "metadata": {},
     "output_type": "execute_result"
    }
   ],
   "source": [
    "results.distribution_compare(\"power_law\",\"lognormal\")"
   ]
  },
  {
   "cell_type": "code",
   "execution_count": 192,
   "metadata": {},
   "outputs": [
    {
     "data": {
      "text/plain": [
       "(146296.49517878177, 0.0)"
      ]
     },
     "execution_count": 192,
     "metadata": {},
     "output_type": "execute_result"
    }
   ],
   "source": [
    "results.distribution_compare('power_law', 'lognormal_positive')"
   ]
  },
  {
   "cell_type": "markdown",
   "metadata": {},
   "source": [
    "## Two comparisons were conducted to investigate other possible distributions followed by degree centrality. The power_law distribution fits better over lognormal_positive distribution. Comparasion between power_law and lognormal distribution is not significant"
   ]
  },
  {
   "cell_type": "code",
   "execution_count": null,
   "metadata": {},
   "outputs": [],
   "source": []
  }
 ],
 "metadata": {
  "kernelspec": {
   "display_name": "Python 3",
   "language": "python",
   "name": "python3"
  },
  "language_info": {
   "codemirror_mode": {
    "name": "ipython",
    "version": 3
   },
   "file_extension": ".py",
   "mimetype": "text/x-python",
   "name": "python",
   "nbconvert_exporter": "python",
   "pygments_lexer": "ipython3",
   "version": "3.6.7"
  }
 },
 "nbformat": 4,
 "nbformat_minor": 2
}
