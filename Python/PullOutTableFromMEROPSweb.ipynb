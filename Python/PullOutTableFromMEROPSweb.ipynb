{
 "cells": [
  {
   "cell_type": "code",
   "execution_count": 2,
   "metadata": {
    "collapsed": true
   },
   "outputs": [],
   "source": [
    "import requests\n",
    "import pandas as pd\n",
    "import numpy as np"
   ]
  },
  {
   "cell_type": "markdown",
   "metadata": {},
   "source": [
    "### Serine - S1 - S1A: chymostrypsin"
   ]
  },
  {
   "cell_type": "code",
   "execution_count": 32,
   "metadata": {
    "collapsed": true
   },
   "outputs": [],
   "source": [
    "holder = pd.DataFrame()\n",
    "for i in range(0,999):\n",
    "    url = \"https://www.ebi.ac.uk/merops/cgi-bin/structure?mid=S01.\"+\"{0:0=3d}\".format(i)\n",
    "    html = requests.get(url).content\n",
    "    df_list = pd.read_html(html)\n",
    "    df = df_list[-1]\n",
    "    holder = pd.concat([holder,df])"
   ]
  },
  {
   "cell_type": "code",
   "execution_count": 33,
   "metadata": {
    "collapsed": true
   },
   "outputs": [],
   "source": [
    "pd.DataFrame(holder.iloc[:,2].unique()).to_csv(\"/Users/desert/Desktop/temp/temp.csv\")"
   ]
  },
  {
   "cell_type": "markdown",
   "metadata": {
    "collapsed": true
   },
   "source": [
    "### Cysteine - C1 - C1A:  papain"
   ]
  },
  {
   "cell_type": "code",
   "execution_count": 34,
   "metadata": {
    "collapsed": true
   },
   "outputs": [],
   "source": [
    "holder = pd.DataFrame()\n",
    "for i in range(0,999):\n",
    "    url = \"https://www.ebi.ac.uk/merops/cgi-bin/structure?mid=C01.\"+\"{0:0=3d}\".format(i)\n",
    "    html = requests.get(url).content\n",
    "    df_list = pd.read_html(html)\n",
    "    df = df_list[-1]\n",
    "    holder = pd.concat([holder,df])"
   ]
  },
  {
   "cell_type": "code",
   "execution_count": 35,
   "metadata": {
    "collapsed": true
   },
   "outputs": [],
   "source": [
    "pd.DataFrame(holder.iloc[:,2].unique()).to_csv(\"/Users/desert/Desktop/temp/temp.csv\")"
   ]
  },
  {
   "cell_type": "markdown",
   "metadata": {
    "collapsed": true
   },
   "source": [
    "## Pull out summary table"
   ]
  },
  {
   "cell_type": "code",
   "execution_count": 4,
   "metadata": {
    "collapsed": true
   },
   "outputs": [],
   "source": [
    "url = \"https://www.ebi.ac.uk/merops/cgi-bin/family_index?type=P\"\n",
    "html = requests.get(url).content\n",
    "df_list = pd.read_html(html)\n",
    "df = df_list[-1]\n",
    "#holder = pd.concat([holder,df])"
   ]
  },
  {
   "cell_type": "code",
   "execution_count": 22,
   "metadata": {},
   "outputs": [
    {
     "data": {
      "text/plain": [
       "array(['Aspartic (A) Peptidases', 'FAMILY', 'A1', 'A2', 'A3', 'A5', 'A8',\n",
       "       'A9', 'A11', 'A22', 'A24', 'A25', 'A26', 'A28', 'A31', 'A32', 'A36',\n",
       "       'A37', 'Cysteine (C) Peptidases', 'C1', 'C2', 'C3', 'C4', 'C5',\n",
       "       'C6', 'C7', 'C8', 'C9', 'C10', 'C11', 'C12', 'C13', 'C14', 'C15',\n",
       "       'C16', 'C18', 'C19', 'C21', 'C23', 'C24', 'C25', 'C26', 'C27',\n",
       "       'C28', 'C30', 'C31', 'C32', 'C33', 'C36', 'C37', 'C39', 'C40',\n",
       "       'C42', 'C44', 'C45', 'C46', 'C47', 'C48', 'C49', 'C50', 'C51',\n",
       "       'C53', 'C54', 'C55', 'C56', 'C57', 'C58', 'C59', 'C60', 'C62',\n",
       "       'C63', 'C64', 'C65', 'C66', 'C67', 'C69', 'C70', 'C71', 'C74',\n",
       "       'C75', 'C76', 'C78', 'C79', 'C80', 'C82', 'C83', 'C84', 'C85',\n",
       "       'C86', 'C87', 'C89', 'C93', 'C95', 'C96', 'C97', 'C98', 'C99',\n",
       "       'C100', 'C101', 'C102', 'C104', 'C105', 'C106', 'C107', 'C108',\n",
       "       'C110', 'C111', 'C113', 'C115', 'C116', 'C117', 'C118', 'C119',\n",
       "       'C120', 'C121', 'Glutamic (G) Peptidases', 'G1', 'G2', 'G3',\n",
       "       'Metallo (M) Peptidases', 'M1', 'M2', 'M3', 'M4', 'M5', 'M6', 'M7',\n",
       "       'M8', 'M9', 'M10', 'M11', 'M12', 'M13', 'M14', 'M15', 'M16', 'M17',\n",
       "       'M18', 'M19', 'M20', 'M23', 'M24', 'M26', 'M27', 'M28', 'M29',\n",
       "       'M30', 'M32', 'M34', 'M35', 'M36', 'M38', 'M41', 'M42', 'M43',\n",
       "       'M44', 'M48', 'M49', 'M50', 'M54', 'M55', 'M56', 'M57', 'M60',\n",
       "       'M61', 'M64', 'M66', 'M67', 'M72', 'M73', 'M74', 'M75', 'M76',\n",
       "       'M77', 'M78', 'M79', 'M80', 'M81', 'M82', 'M84', 'M85', 'M86',\n",
       "       'M87', 'M88', 'M90', 'M91', 'M93', 'M95', 'M96', 'M97', 'M98',\n",
       "       'M99', 'M100', 'M101', 'M102', 'M103',\n",
       "       'Asparagine (N) Peptide Lyases', 'N1', 'N2', 'N4', 'N5', 'N6', 'N7',\n",
       "       'N8', 'N9', 'N10', 'N11', 'Mixed (P) Peptidases', 'P1', 'P2',\n",
       "       'Serine (S) Peptidases', 'S1', 'S3', 'S6', 'S7', 'S8', 'S9', 'S10',\n",
       "       'S11', 'S12', 'S13', 'S14', 'S15', 'S16', 'S21', 'S24', 'S26',\n",
       "       'S28', 'S29', 'S30', 'S31', 'S32', 'S33', 'S37', 'S39', 'S41',\n",
       "       'S45', 'S46', 'S48', 'S49', 'S50', 'S51', 'S53', 'S54', 'S55',\n",
       "       'S59', 'S60', 'S62', 'S64', 'S65', 'S66', 'S68', 'S69', 'S71',\n",
       "       'S72', 'S73', 'S74', 'S75', 'S77', 'S78', 'S79', 'S80', 'S81',\n",
       "       'S82', 'S85', 'Threonine (T) Peptidases', 'T1', 'T2', 'T3', 'T5',\n",
       "       'T7', 'T8', 'Peptidases of Unknown Catalytic Type', 'U32', 'U40',\n",
       "       'U49', 'U56', 'U57', 'U69', 'U72', 'U74', 'U75'], dtype=object)"
      ]
     },
     "execution_count": 22,
     "metadata": {},
     "output_type": "execute_result"
    }
   ],
   "source": [
    "df.iloc[:,0].dropna().unique()"
   ]
  },
  {
   "cell_type": "code",
   "execution_count": 37,
   "metadata": {},
   "outputs": [
    {
     "data": {
      "text/plain": [
       "['A2', 'A3', 'A5', 'A8']"
      ]
     },
     "execution_count": 37,
     "metadata": {},
     "output_type": "execute_result"
    }
   ],
   "source": [
    "#filterign criteria\n",
    "#1. drop NA\n",
    "#2. unique\n",
    "#3. drop length > 3\n",
    "#list(filter(lambda x:(len(x)<4),df.iloc[:,0].dropna().unique()))[0:4]"
   ]
  },
  {
   "cell_type": "code",
   "execution_count": 32,
   "metadata": {
    "collapsed": true
   },
   "outputs": [],
   "source": [
    "familyList = pd.DataFrame(list(filter(lambda x:(len(x)<4),df.iloc[:,0].dropna().unique())))"
   ]
  },
  {
   "cell_type": "code",
   "execution_count": 38,
   "metadata": {},
   "outputs": [
    {
     "data": {
      "text/html": [
       "<div>\n",
       "<style>\n",
       "    .dataframe thead tr:only-child th {\n",
       "        text-align: right;\n",
       "    }\n",
       "\n",
       "    .dataframe thead th {\n",
       "        text-align: left;\n",
       "    }\n",
       "\n",
       "    .dataframe tbody tr th {\n",
       "        vertical-align: top;\n",
       "    }\n",
       "</style>\n",
       "<table border=\"1\" class=\"dataframe\">\n",
       "  <thead>\n",
       "    <tr style=\"text-align: right;\">\n",
       "      <th></th>\n",
       "      <th>family</th>\n",
       "      <th>fam</th>\n",
       "      <th>sub fam</th>\n",
       "    </tr>\n",
       "  </thead>\n",
       "  <tbody>\n",
       "    <tr>\n",
       "      <th>0</th>\n",
       "      <td>A1</td>\n",
       "      <td>A</td>\n",
       "      <td>1</td>\n",
       "    </tr>\n",
       "    <tr>\n",
       "      <th>1</th>\n",
       "      <td>A2</td>\n",
       "      <td>A</td>\n",
       "      <td>2</td>\n",
       "    </tr>\n",
       "    <tr>\n",
       "      <th>2</th>\n",
       "      <td>A3</td>\n",
       "      <td>A</td>\n",
       "      <td>3</td>\n",
       "    </tr>\n",
       "    <tr>\n",
       "      <th>3</th>\n",
       "      <td>A5</td>\n",
       "      <td>A</td>\n",
       "      <td>5</td>\n",
       "    </tr>\n",
       "    <tr>\n",
       "      <th>4</th>\n",
       "      <td>A8</td>\n",
       "      <td>A</td>\n",
       "      <td>8</td>\n",
       "    </tr>\n",
       "  </tbody>\n",
       "</table>\n",
       "</div>"
      ],
      "text/plain": [
       "  family fam sub fam\n",
       "0     A1   A       1\n",
       "1     A2   A       2\n",
       "2     A3   A       3\n",
       "3     A5   A       5\n",
       "4     A8   A       8"
      ]
     },
     "execution_count": 38,
     "metadata": {},
     "output_type": "execute_result"
    }
   ],
   "source": [
    "#split A99 -> A99, A, and 99\n",
    "allAvaFamily = familyList.apply(lambda x: pd.Series([x[0], x[0][0],x[0][1:len(x[0])]], \n",
    "                                                    index=['family', 'fam','sub fam']),axis=1)\n",
    "allAvaFamily[0:5]"
   ]
  },
  {
   "cell_type": "markdown",
   "metadata": {},
   "source": [
    "#### ↓Collect all PDB entries in MEROPS and record their family"
   ]
  },
  {
   "cell_type": "code",
   "execution_count": 52,
   "metadata": {},
   "outputs": [
    {
     "data": {
      "text/plain": [
       "'A'"
      ]
     },
     "execution_count": 52,
     "metadata": {},
     "output_type": "execute_result"
    }
   ],
   "source": [
    "allAvaFamily.iloc[0,1]"
   ]
  },
  {
   "cell_type": "code",
   "execution_count": 51,
   "metadata": {},
   "outputs": [
    {
     "data": {
      "text/plain": [
       "'01'"
      ]
     },
     "execution_count": 51,
     "metadata": {},
     "output_type": "execute_result"
    }
   ],
   "source": [
    "\"{0:0=2d}\".format(int(allAvaFamily.iloc[0,2]))"
   ]
  },
  {
   "cell_type": "code",
   "execution_count": 65,
   "metadata": {
    "collapsed": true
   },
   "outputs": [],
   "source": [
    "holder = pd.DataFrame()\n",
    "for i in range(0,2):\n",
    "    url = \"https://www.ebi.ac.uk/merops/cgi-bin/structure?mid=\"+allAvaFamily.iloc[0,1]+ \\\n",
    "        \"{0:0=2d}\".format(int(allAvaFamily.iloc[0,2]))+\".\"+\"{0:0=3d}\".format(i)\n",
    "    html = requests.get(url).content\n",
    "    df_list = pd.read_html(html)\n",
    "    df = df_list[-1]\n",
    "    df[\"family\"] = allAvaFamily.iloc[0,0]\n",
    "    holder = pd.concat([holder,df])"
   ]
  },
  {
   "cell_type": "code",
   "execution_count": 66,
   "metadata": {},
   "outputs": [
    {
     "data": {
      "text/html": [
       "<div>\n",
       "<style>\n",
       "    .dataframe thead tr:only-child th {\n",
       "        text-align: right;\n",
       "    }\n",
       "\n",
       "    .dataframe thead th {\n",
       "        text-align: left;\n",
       "    }\n",
       "\n",
       "    .dataframe tbody tr th {\n",
       "        vertical-align: top;\n",
       "    }\n",
       "</style>\n",
       "<table border=\"1\" class=\"dataframe\">\n",
       "  <thead>\n",
       "    <tr style=\"text-align: right;\">\n",
       "      <th></th>\n",
       "      <th>0</th>\n",
       "      <th>1</th>\n",
       "      <th>2</th>\n",
       "      <th>3</th>\n",
       "      <th>4</th>\n",
       "      <th>5</th>\n",
       "      <th>6</th>\n",
       "      <th>7</th>\n",
       "      <th>8</th>\n",
       "      <th>family</th>\n",
       "    </tr>\n",
       "  </thead>\n",
       "  <tbody>\n",
       "    <tr>\n",
       "      <th>0</th>\n",
       "      <td>TERTIARY STRUCTURE DATA</td>\n",
       "      <td>NaN</td>\n",
       "      <td>NaN</td>\n",
       "      <td>NaN</td>\n",
       "      <td>NaN</td>\n",
       "      <td>NaN</td>\n",
       "      <td>NaN</td>\n",
       "      <td>NaN</td>\n",
       "      <td>NaN</td>\n",
       "      <td>A1</td>\n",
       "    </tr>\n",
       "    <tr>\n",
       "      <th>1</th>\n",
       "      <td>Comment</td>\n",
       "      <td>Resolution</td>\n",
       "      <td>PDB</td>\n",
       "      <td>PDBe</td>\n",
       "      <td>SCOP</td>\n",
       "      <td>CATH</td>\n",
       "      <td>PDBSum</td>\n",
       "      <td>Proteopedia</td>\n",
       "      <td>Reference</td>\n",
       "      <td>A1</td>\n",
       "    </tr>\n",
       "    <tr>\n",
       "      <th>0</th>\n",
       "      <td>TERTIARY STRUCTURE DATA</td>\n",
       "      <td>NaN</td>\n",
       "      <td>NaN</td>\n",
       "      <td>NaN</td>\n",
       "      <td>NaN</td>\n",
       "      <td>NaN</td>\n",
       "      <td>NaN</td>\n",
       "      <td>NaN</td>\n",
       "      <td>NaN</td>\n",
       "      <td>A1</td>\n",
       "    </tr>\n",
       "    <tr>\n",
       "      <th>1</th>\n",
       "      <td>Comment</td>\n",
       "      <td>Resolution</td>\n",
       "      <td>PDB</td>\n",
       "      <td>PDBe</td>\n",
       "      <td>SCOP</td>\n",
       "      <td>CATH</td>\n",
       "      <td>PDBSum</td>\n",
       "      <td>Proteopedia</td>\n",
       "      <td>Reference</td>\n",
       "      <td>A1</td>\n",
       "    </tr>\n",
       "    <tr>\n",
       "      <th>2</th>\n",
       "      <td>Homo sapiens</td>\n",
       "      <td>NaN</td>\n",
       "      <td>NaN</td>\n",
       "      <td>NaN</td>\n",
       "      <td>NaN</td>\n",
       "      <td>NaN</td>\n",
       "      <td>NaN</td>\n",
       "      <td>NaN</td>\n",
       "      <td>NaN</td>\n",
       "      <td>A1</td>\n",
       "    </tr>\n",
       "    <tr>\n",
       "      <th>3</th>\n",
       "      <td>Uropepsin</td>\n",
       "      <td>2.45 Å</td>\n",
       "      <td>1FLH</td>\n",
       "      <td>1FLH</td>\n",
       "      <td>1FLH</td>\n",
       "      <td>1FLH</td>\n",
       "      <td>1FLH</td>\n",
       "      <td>1FLH</td>\n",
       "      <td>Canduri et al., 2001</td>\n",
       "      <td>A1</td>\n",
       "    </tr>\n",
       "    <tr>\n",
       "      <th>4</th>\n",
       "      <td>pepsin 3A</td>\n",
       "      <td>2.20 Å</td>\n",
       "      <td>1PSN</td>\n",
       "      <td>1PSN</td>\n",
       "      <td>1PSN</td>\n",
       "      <td>1PSN</td>\n",
       "      <td>1PSN</td>\n",
       "      <td>1PSN</td>\n",
       "      <td>Fujinaga et al., 1995</td>\n",
       "      <td>A1</td>\n",
       "    </tr>\n",
       "    <tr>\n",
       "      <th>5</th>\n",
       "      <td>pepsin 3A; complex with pepstatin</td>\n",
       "      <td>2.00 Å</td>\n",
       "      <td>1PSO</td>\n",
       "      <td>1PSO</td>\n",
       "      <td>1PSO</td>\n",
       "      <td>1PSO</td>\n",
       "      <td>1PSO</td>\n",
       "      <td>1PSO</td>\n",
       "      <td>Fujinaga et al., 1995</td>\n",
       "      <td>A1</td>\n",
       "    </tr>\n",
       "    <tr>\n",
       "      <th>6</th>\n",
       "      <td>complex with phosphonate inhibitor Iva-Val-Val...</td>\n",
       "      <td>1.96 Å</td>\n",
       "      <td>1QRP</td>\n",
       "      <td>1QRP</td>\n",
       "      <td>1QRP</td>\n",
       "      <td>1QRP</td>\n",
       "      <td>1QRP</td>\n",
       "      <td>1QRP</td>\n",
       "      <td>Fujinaga et al., 2000</td>\n",
       "      <td>A1</td>\n",
       "    </tr>\n",
       "    <tr>\n",
       "      <th>7</th>\n",
       "      <td>Sus scrofa</td>\n",
       "      <td>NaN</td>\n",
       "      <td>NaN</td>\n",
       "      <td>NaN</td>\n",
       "      <td>NaN</td>\n",
       "      <td>NaN</td>\n",
       "      <td>NaN</td>\n",
       "      <td>NaN</td>\n",
       "      <td>NaN</td>\n",
       "      <td>A1</td>\n",
       "    </tr>\n",
       "    <tr>\n",
       "      <th>8</th>\n",
       "      <td>complex with Ascaris suum pepsin inhibitor-3</td>\n",
       "      <td>2.45 Å</td>\n",
       "      <td>1F34</td>\n",
       "      <td>1F34</td>\n",
       "      <td>1F34</td>\n",
       "      <td>1F34</td>\n",
       "      <td>1F34</td>\n",
       "      <td>1F34</td>\n",
       "      <td>Ng et al., 2000</td>\n",
       "      <td>A1</td>\n",
       "    </tr>\n",
       "    <tr>\n",
       "      <th>9</th>\n",
       "      <td>complex with A-62905</td>\n",
       "      <td>2.90 Å</td>\n",
       "      <td>1PSA</td>\n",
       "      <td>1PSA</td>\n",
       "      <td>1PSA</td>\n",
       "      <td>1PSA</td>\n",
       "      <td>1PSA</td>\n",
       "      <td>1PSA</td>\n",
       "      <td>Chen et al., 1992</td>\n",
       "      <td>A1</td>\n",
       "    </tr>\n",
       "    <tr>\n",
       "      <th>10</th>\n",
       "      <td>effect of dimethyl sulphoxide</td>\n",
       "      <td>3.00 Å</td>\n",
       "      <td>1YX9</td>\n",
       "      <td>1YX9</td>\n",
       "      <td>1YX9</td>\n",
       "      <td>1YX9</td>\n",
       "      <td>1YX9</td>\n",
       "      <td>1YX9</td>\n",
       "      <td>Kesavulu et al., 2005</td>\n",
       "      <td>A1</td>\n",
       "    </tr>\n",
       "    <tr>\n",
       "      <th>11</th>\n",
       "      <td>precursor</td>\n",
       "      <td>1.80 Å</td>\n",
       "      <td>2PSG</td>\n",
       "      <td>2PSG</td>\n",
       "      <td>2PSG</td>\n",
       "      <td>2PSG</td>\n",
       "      <td>2PSG</td>\n",
       "      <td>2PSG</td>\n",
       "      <td>Sielecki et al., 1991</td>\n",
       "      <td>A1</td>\n",
       "    </tr>\n",
       "    <tr>\n",
       "      <th>12</th>\n",
       "      <td>mature peptidase</td>\n",
       "      <td>2.30 Å</td>\n",
       "      <td>3PEP</td>\n",
       "      <td>3PEP</td>\n",
       "      <td>3PEP</td>\n",
       "      <td>3PEP</td>\n",
       "      <td>3PEP</td>\n",
       "      <td>3PEP</td>\n",
       "      <td>Abad-Zapatero et al., 1990</td>\n",
       "      <td>A1</td>\n",
       "    </tr>\n",
       "    <tr>\n",
       "      <th>13</th>\n",
       "      <td>precursor</td>\n",
       "      <td>1.65 Å</td>\n",
       "      <td>3PSG</td>\n",
       "      <td>3PSG</td>\n",
       "      <td>3PSG</td>\n",
       "      <td>3PSG</td>\n",
       "      <td>3PSG</td>\n",
       "      <td>3PSG</td>\n",
       "      <td>Hartsuck et al., 1992</td>\n",
       "      <td>A1</td>\n",
       "    </tr>\n",
       "    <tr>\n",
       "      <th>14</th>\n",
       "      <td>mature peptidase</td>\n",
       "      <td>1.80 Å</td>\n",
       "      <td>4PEP</td>\n",
       "      <td>4PEP</td>\n",
       "      <td>4PEP</td>\n",
       "      <td>4PEP</td>\n",
       "      <td>4PEP</td>\n",
       "      <td>4PEP</td>\n",
       "      <td>Sielecki et al., 1990</td>\n",
       "      <td>A1</td>\n",
       "    </tr>\n",
       "    <tr>\n",
       "      <th>15</th>\n",
       "      <td>mature peptidase</td>\n",
       "      <td>2.34 Å</td>\n",
       "      <td>5PEP</td>\n",
       "      <td>5PEP</td>\n",
       "      <td>5PEP</td>\n",
       "      <td>5PEP</td>\n",
       "      <td>5PEP</td>\n",
       "      <td>5PEP</td>\n",
       "      <td>Cooper et al., 1990</td>\n",
       "      <td>A1</td>\n",
       "    </tr>\n",
       "  </tbody>\n",
       "</table>\n",
       "</div>"
      ],
      "text/plain": [
       "                                                    0           1     2     3  \\\n",
       "0                             TERTIARY STRUCTURE DATA         NaN   NaN   NaN   \n",
       "1                                             Comment  Resolution   PDB  PDBe   \n",
       "0                             TERTIARY STRUCTURE DATA         NaN   NaN   NaN   \n",
       "1                                             Comment  Resolution   PDB  PDBe   \n",
       "2                                        Homo sapiens         NaN   NaN   NaN   \n",
       "3                                           Uropepsin      2.45 Å  1FLH  1FLH   \n",
       "4                                           pepsin 3A      2.20 Å  1PSN  1PSN   \n",
       "5                   pepsin 3A; complex with pepstatin      2.00 Å  1PSO  1PSO   \n",
       "6   complex with phosphonate inhibitor Iva-Val-Val...      1.96 Å  1QRP  1QRP   \n",
       "7                                          Sus scrofa         NaN   NaN   NaN   \n",
       "8        complex with Ascaris suum pepsin inhibitor-3      2.45 Å  1F34  1F34   \n",
       "9                                complex with A-62905      2.90 Å  1PSA  1PSA   \n",
       "10                      effect of dimethyl sulphoxide      3.00 Å  1YX9  1YX9   \n",
       "11                                          precursor      1.80 Å  2PSG  2PSG   \n",
       "12                                   mature peptidase      2.30 Å  3PEP  3PEP   \n",
       "13                                          precursor      1.65 Å  3PSG  3PSG   \n",
       "14                                   mature peptidase      1.80 Å  4PEP  4PEP   \n",
       "15                                   mature peptidase      2.34 Å  5PEP  5PEP   \n",
       "\n",
       "       4     5       6            7                           8 family  \n",
       "0    NaN   NaN     NaN          NaN                         NaN     A1  \n",
       "1   SCOP  CATH  PDBSum  Proteopedia                   Reference     A1  \n",
       "0    NaN   NaN     NaN          NaN                         NaN     A1  \n",
       "1   SCOP  CATH  PDBSum  Proteopedia                   Reference     A1  \n",
       "2    NaN   NaN     NaN          NaN                         NaN     A1  \n",
       "3   1FLH  1FLH    1FLH         1FLH        Canduri et al., 2001     A1  \n",
       "4   1PSN  1PSN    1PSN         1PSN       Fujinaga et al., 1995     A1  \n",
       "5   1PSO  1PSO    1PSO         1PSO       Fujinaga et al., 1995     A1  \n",
       "6   1QRP  1QRP    1QRP         1QRP       Fujinaga et al., 2000     A1  \n",
       "7    NaN   NaN     NaN          NaN                         NaN     A1  \n",
       "8   1F34  1F34    1F34         1F34             Ng et al., 2000     A1  \n",
       "9   1PSA  1PSA    1PSA         1PSA           Chen et al., 1992     A1  \n",
       "10  1YX9  1YX9    1YX9         1YX9       Kesavulu et al., 2005     A1  \n",
       "11  2PSG  2PSG    2PSG         2PSG       Sielecki et al., 1991     A1  \n",
       "12  3PEP  3PEP    3PEP         3PEP  Abad-Zapatero et al., 1990     A1  \n",
       "13  3PSG  3PSG    3PSG         3PSG       Hartsuck et al., 1992     A1  \n",
       "14  4PEP  4PEP    4PEP         4PEP       Sielecki et al., 1990     A1  \n",
       "15  5PEP  5PEP    5PEP         5PEP         Cooper et al., 1990     A1  "
      ]
     },
     "execution_count": 66,
     "metadata": {},
     "output_type": "execute_result"
    }
   ],
   "source": [
    "holder"
   ]
  },
  {
   "cell_type": "code",
   "execution_count": 60,
   "metadata": {},
   "outputs": [
    {
     "data": {
      "text/plain": [
       "'https://www.ebi.ac.uk/merops/cgi-bin/structure?mid=A01.000'"
      ]
     },
     "execution_count": 60,
     "metadata": {},
     "output_type": "execute_result"
    }
   ],
   "source": []
  },
  {
   "cell_type": "code",
   "execution_count": null,
   "metadata": {
    "collapsed": true
   },
   "outputs": [],
   "source": []
  }
 ],
 "metadata": {
  "kernelspec": {
   "display_name": "Python 3",
   "language": "python",
   "name": "python3"
  },
  "language_info": {
   "codemirror_mode": {
    "name": "ipython",
    "version": 3
   },
   "file_extension": ".py",
   "mimetype": "text/x-python",
   "name": "python",
   "nbconvert_exporter": "python",
   "pygments_lexer": "ipython3",
   "version": "3.6.2"
  }
 },
 "nbformat": 4,
 "nbformat_minor": 2
}
