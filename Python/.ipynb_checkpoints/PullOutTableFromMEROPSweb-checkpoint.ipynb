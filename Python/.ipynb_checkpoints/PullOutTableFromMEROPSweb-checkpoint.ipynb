{
 "cells": [
  {
   "cell_type": "code",
   "execution_count": 1,
   "metadata": {
    "collapsed": true
   },
   "outputs": [],
   "source": [
    "import requests\n",
    "import pandas as pd"
   ]
  },
  {
   "cell_type": "code",
   "execution_count": 18,
   "metadata": {},
   "outputs": [],
   "source": [
    "url = \"https://www.ebi.ac.uk/merops/cgi-bin/structure?mid=S01.010\"\n",
    "html = requests.get(url).content\n",
    "df_list = pd.read_html(html)\n",
    "df = df_list[-1]"
   ]
  },
  {
   "cell_type": "code",
   "execution_count": 19,
   "metadata": {},
   "outputs": [
    {
     "data": {
      "text/html": [
       "<div>\n",
       "<style>\n",
       "    .dataframe thead tr:only-child th {\n",
       "        text-align: right;\n",
       "    }\n",
       "\n",
       "    .dataframe thead th {\n",
       "        text-align: left;\n",
       "    }\n",
       "\n",
       "    .dataframe tbody tr th {\n",
       "        vertical-align: top;\n",
       "    }\n",
       "</style>\n",
       "<table border=\"1\" class=\"dataframe\">\n",
       "  <thead>\n",
       "    <tr style=\"text-align: right;\">\n",
       "      <th></th>\n",
       "      <th>0</th>\n",
       "      <th>1</th>\n",
       "      <th>2</th>\n",
       "      <th>3</th>\n",
       "      <th>4</th>\n",
       "      <th>5</th>\n",
       "      <th>6</th>\n",
       "      <th>7</th>\n",
       "      <th>8</th>\n",
       "    </tr>\n",
       "  </thead>\n",
       "  <tbody>\n",
       "    <tr>\n",
       "      <th>0</th>\n",
       "      <td>TERTIARY STRUCTURE DATA</td>\n",
       "      <td>NaN</td>\n",
       "      <td>NaN</td>\n",
       "      <td>NaN</td>\n",
       "      <td>NaN</td>\n",
       "      <td>NaN</td>\n",
       "      <td>NaN</td>\n",
       "      <td>NaN</td>\n",
       "      <td>NaN</td>\n",
       "    </tr>\n",
       "    <tr>\n",
       "      <th>1</th>\n",
       "      <td>Comment</td>\n",
       "      <td>Resolution</td>\n",
       "      <td>PDB</td>\n",
       "      <td>PDBe</td>\n",
       "      <td>SCOP</td>\n",
       "      <td>CATH</td>\n",
       "      <td>PDBSum</td>\n",
       "      <td>Proteopedia</td>\n",
       "      <td>Reference</td>\n",
       "    </tr>\n",
       "    <tr>\n",
       "      <th>2</th>\n",
       "      <td>Homo sapiens</td>\n",
       "      <td>NaN</td>\n",
       "      <td>NaN</td>\n",
       "      <td>NaN</td>\n",
       "      <td>NaN</td>\n",
       "      <td>NaN</td>\n",
       "      <td>NaN</td>\n",
       "      <td>NaN</td>\n",
       "      <td>NaN</td>\n",
       "    </tr>\n",
       "    <tr>\n",
       "      <th>3</th>\n",
       "      <td>mature peptidase</td>\n",
       "      <td>3.10 Å</td>\n",
       "      <td>1FQ3</td>\n",
       "      <td>1FQ3</td>\n",
       "      <td>1FQ3</td>\n",
       "      <td>1FQ3</td>\n",
       "      <td>1FQ3</td>\n",
       "      <td>1FQ3</td>\n",
       "      <td>Estebanez-Perpina et al., 2000</td>\n",
       "    </tr>\n",
       "    <tr>\n",
       "      <th>4</th>\n",
       "      <td>complex with acetyl-Ile-Glu-Pro-Asp aldehyde</td>\n",
       "      <td>2.00 Å</td>\n",
       "      <td>1IAU</td>\n",
       "      <td>1IAU</td>\n",
       "      <td>1IAU</td>\n",
       "      <td>1IAU</td>\n",
       "      <td>1IAU</td>\n",
       "      <td>1IAU</td>\n",
       "      <td>Rotonda et al., 2001</td>\n",
       "    </tr>\n",
       "  </tbody>\n",
       "</table>\n",
       "</div>"
      ],
      "text/plain": [
       "                                              0           1     2     3     4  \\\n",
       "0                       TERTIARY STRUCTURE DATA         NaN   NaN   NaN   NaN   \n",
       "1                                       Comment  Resolution   PDB  PDBe  SCOP   \n",
       "2                                  Homo sapiens         NaN   NaN   NaN   NaN   \n",
       "3                              mature peptidase      3.10 Å  1FQ3  1FQ3  1FQ3   \n",
       "4  complex with acetyl-Ile-Glu-Pro-Asp aldehyde      2.00 Å  1IAU  1IAU  1IAU   \n",
       "\n",
       "      5       6            7                               8  \n",
       "0   NaN     NaN          NaN                             NaN  \n",
       "1  CATH  PDBSum  Proteopedia                       Reference  \n",
       "2   NaN     NaN          NaN                             NaN  \n",
       "3  1FQ3    1FQ3         1FQ3  Estebanez-Perpina et al., 2000  \n",
       "4  1IAU    1IAU         1IAU            Rotonda et al., 2001  "
      ]
     },
     "execution_count": 19,
     "metadata": {},
     "output_type": "execute_result"
    }
   ],
   "source": [
    "df"
   ]
  },
  {
   "cell_type": "code",
   "execution_count": 20,
   "metadata": {},
   "outputs": [
    {
     "data": {
      "text/plain": [
       "[                                                   0  \\\n",
       " 0                                                PDB   \n",
       " 1                                               1IAU   \n",
       " 2  Catalytic residues are shown in ball-and-stick...   \n",
       " 3                                                NaN   \n",
       " 4                                                NaN   \n",
       " 5                                                NaN   \n",
       " 6                                                NaN   \n",
       " \n",
       "                                                    1           2  \\\n",
       " 0                                           Organism  Resolution   \n",
       " 1                                       Homo sapiens      2.00 Å   \n",
       " 2                                                NaN         NaN   \n",
       " 3  // <![CDATA[  window.name = \"avWin\";  // ]]>  ...         NaN   \n",
       " 4  Show surface  // <![CDATA[  function toggleSur...         NaN   \n",
       " 5                                                NaN         NaN   \n",
       " 6                                                NaN         NaN   \n",
       " \n",
       "                                               3  \n",
       " 0                                       Comment  \n",
       " 1  complex with acetyl-Ile-Glu-Pro-Asp aldehyde  \n",
       " 2                                           NaN  \n",
       " 3                                           NaN  \n",
       " 4                                           NaN  \n",
       " 5                                           NaN  \n",
       " 6                                           NaN  ,\n",
       "                                               0           1     2     3     4  \\\n",
       " 0                       TERTIARY STRUCTURE DATA         NaN   NaN   NaN   NaN   \n",
       " 1                                       Comment  Resolution   PDB  PDBe  SCOP   \n",
       " 2                                  Homo sapiens         NaN   NaN   NaN   NaN   \n",
       " 3                              mature peptidase      3.10 Å  1FQ3  1FQ3  1FQ3   \n",
       " 4  complex with acetyl-Ile-Glu-Pro-Asp aldehyde      2.00 Å  1IAU  1IAU  1IAU   \n",
       " \n",
       "       5       6            7                               8  \n",
       " 0   NaN     NaN          NaN                             NaN  \n",
       " 1  CATH  PDBSum  Proteopedia                       Reference  \n",
       " 2   NaN     NaN          NaN                             NaN  \n",
       " 3  1FQ3    1FQ3         1FQ3  Estebanez-Perpina et al., 2000  \n",
       " 4  1IAU    1IAU         1IAU            Rotonda et al., 2001  ]"
      ]
     },
     "execution_count": 20,
     "metadata": {},
     "output_type": "execute_result"
    }
   ],
   "source": [
    "df_list"
   ]
  },
  {
   "cell_type": "code",
   "execution_count": null,
   "metadata": {
    "collapsed": true
   },
   "outputs": [],
   "source": []
  }
 ],
 "metadata": {
  "kernelspec": {
   "display_name": "Python 3",
   "language": "python",
   "name": "python3"
  },
  "language_info": {
   "codemirror_mode": {
    "name": "ipython",
    "version": 3
   },
   "file_extension": ".py",
   "mimetype": "text/x-python",
   "name": "python",
   "nbconvert_exporter": "python",
   "pygments_lexer": "ipython3",
   "version": "3.6.2"
  }
 },
 "nbformat": 4,
 "nbformat_minor": 2
}
