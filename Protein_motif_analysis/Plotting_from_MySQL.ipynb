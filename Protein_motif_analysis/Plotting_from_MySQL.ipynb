{
 "cells": [
  {
   "cell_type": "code",
   "execution_count": 1,
   "metadata": {
    "collapsed": true
   },
   "outputs": [],
   "source": [
    "import pandas as pd\n",
    "import numpy as np\n",
    "import time\n",
    "import pymysql\n",
    "from sshtunnel import SSHTunnelForwarder"
   ]
  },
  {
   "cell_type": "code",
   "execution_count": 2,
   "metadata": {
    "collapsed": true
   },
   "outputs": [],
   "source": [
    "mysql_configure = pd.read_csv(\"/Volumes/Lab_Public/Yuan/temp/mysql_connection.csv\",index_col=0)"
   ]
  },
  {
   "cell_type": "code",
   "execution_count": 3,
   "metadata": {
    "collapsed": true
   },
   "outputs": [],
   "source": [
    "sql_hostname = mysql_configure.loc[\"sql_hostname\",][\"value\"]\n",
    "sql_username = mysql_configure.loc[\"sql_username\",][\"value\"]\n",
    "sql_password = mysql_configure.loc[\"sql_password\",][\"value\"]\n",
    "sql_main_database = mysql_configure.loc[\"sql_main_database\",][\"value\"]\n",
    "sql_port = mysql_configure.loc[\"sql_port\",][\"value\"]\n",
    "ssh_host = mysql_configure.loc[\"ssh_host\",][\"value\"]\n",
    "ssh_user = mysql_configure.loc[\"ssh_user\",][\"value\"]\n",
    "ssh_password = mysql_configure.loc[\"ssh_password\",][\"value\"]\n",
    "ssh_port = mysql_configure.loc[\"ssh_port\",][\"value\"]"
   ]
  },
  {
   "cell_type": "code",
   "execution_count": 6,
   "metadata": {},
   "outputs": [
    {
     "name": "stdout",
     "output_type": "stream",
     "text": [
      "SSH connected\n"
     ]
    }
   ],
   "source": [
    "with SSHTunnelForwarder(\n",
    "        (ssh_host, int(ssh_port)),\n",
    "        ssh_username=ssh_user,\n",
    "        ssh_password=ssh_password,\n",
    "        remote_bind_address=('127.0.0.1', int(sql_port))) as tunnel:\n",
    "    print('SSH connected')\n",
    "    conn = pymysql.connect(host='127.0.0.1', user=sql_username,\n",
    "            passwd=sql_password, db=sql_main_database,\n",
    "            port=tunnel.local_bind_port)\n",
    "    try:\n",
    "        with conn as cursor: #auto commit; no close() called\n",
    "            with cursor: # close() called here\n",
    "                sql_select = \"Select da.* FROM pdbdb.Distance_angle da, pdbdb.Site s \"\n",
    "                sql_where = \"WHERE da.pdbID = s.pdbID and da.chain = s.chain and da.ID_1=s.Seq and da.Res_1 = \\\"HIS\\\";\"    \n",
    "                sql = sql_select+sql_where\n",
    "                data = pd.read_sql_query(sql, conn)\n",
    "\n",
    "    except Exception as e: # catch exceptions\n",
    "        print(\"~~~~~~~~~~~~~~\")\n",
    "        print(e)\n",
    "    finally:\n",
    "        if conn:\n",
    "            conn.close()\n"
   ]
  },
  {
   "cell_type": "code",
   "execution_count": 82,
   "metadata": {},
   "outputs": [
    {
     "data": {
      "text/plain": [
       "'Select da.* FROM pdbdb.Distance_angle da, pdbdb.Site s WHERE (da.pdbID = s.pdbID) and (da.chain = s.chain) and (da.ID_1=s.Seq) ;'"
      ]
     },
     "execution_count": 82,
     "metadata": {},
     "output_type": "execute_result"
    }
   ],
   "source": [
    "sql"
   ]
  },
  {
   "cell_type": "code",
   "execution_count": 7,
   "metadata": {},
   "outputs": [
    {
     "data": {
      "text/plain": [
       "(9441, 9)"
      ]
     },
     "execution_count": 7,
     "metadata": {},
     "output_type": "execute_result"
    }
   ],
   "source": [
    "data.shape"
   ]
  },
  {
   "cell_type": "code",
   "execution_count": null,
   "metadata": {
    "collapsed": true
   },
   "outputs": [],
   "source": []
  }
 ],
 "metadata": {
  "kernelspec": {
   "display_name": "Python 3",
   "language": "python",
   "name": "python3"
  },
  "language_info": {
   "codemirror_mode": {
    "name": "ipython",
    "version": 3
   },
   "file_extension": ".py",
   "mimetype": "text/x-python",
   "name": "python",
   "nbconvert_exporter": "python",
   "pygments_lexer": "ipython3",
   "version": "3.6.2"
  }
 },
 "nbformat": 4,
 "nbformat_minor": 2
}
