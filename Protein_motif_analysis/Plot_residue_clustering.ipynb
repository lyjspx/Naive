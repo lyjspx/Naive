{
 "cells": [
  {
   "cell_type": "markdown",
   "metadata": {},
   "source": [
    "### Plot types of residues' spatial information\n",
    "### Active vs Nonactive\n",
    "\n",
    "##### ↓ Extract spatial information"
   ]
  },
  {
   "cell_type": "code",
   "execution_count": 1,
   "metadata": {
    "collapsed": true
   },
   "outputs": [],
   "source": [
    "from Bio.PDB import *\n",
    "import urllib.request\n",
    "import numpy as np\n",
    "import pandas as pd\n",
    "from math import sqrt\n",
    "import time\n",
    "import matplotlib.pyplot as plt"
   ]
  },
  {
   "cell_type": "code",
   "execution_count": 2,
   "metadata": {},
   "outputs": [
    {
     "name": "stdout",
     "output_type": "stream",
     "text": [
      "C:\\Users\\Administrator\\Desktop\\temp\n"
     ]
    }
   ],
   "source": [
    "cd C:\\Users\\Administrator\\Desktop\\temp"
   ]
  },
  {
   "cell_type": "code",
   "execution_count": 3,
   "metadata": {
    "collapsed": true
   },
   "outputs": [],
   "source": [
    "backbone = [\"N\",\"CA\",\"C\",\"O\"]\n",
    "aminoAcidCodes = [\"ALA\",\"ARG\",\"ASN\",\"ASP\",\"CYS\",\"GLN\",\"GLY\",\"GLU\",\"HIS\",\"ILE\",\"LEU\",\"LYS\",\n",
    "                 \"MET\",\"PHE\",\"PRO\",\"SER\",\"THR\",\"TRP\",\"TYR\",\"VAL\"]"
   ]
  },
  {
   "cell_type": "code",
   "execution_count": 120,
   "metadata": {
    "collapsed": true
   },
   "outputs": [],
   "source": [
    "peptidasesList = pd.read_csv(\"Y:/Yuan/temp/MCSA_EC3.4_peptidases.csv\")\n",
    "peptidasesList = peptidasesList[peptidasesList.iloc[:,4] == \"residue\"]\n",
    "peptidasesList = peptidasesList.reset_index(drop=True)\n",
    "bindingSiteDic = {}\n",
    "for i in range(len(peptidasesList)):\n",
    "    #print(bindingSiteDic)\n",
    "    if peptidasesList.loc[i,\"PDB\"] not in bindingSiteDic:\n",
    "        bindingSiteDic[peptidasesList.loc[i,\"PDB\"]] = {peptidasesList.loc[i,\"chain/kegg compound\"]: [peptidasesList.loc[i,\"resid/chebi id\"]]}\n",
    "    elif peptidasesList.loc[i,\"chain/kegg compound\"] not in bindingSiteDic[peptidasesList.loc[i,\"PDB\"]]:\n",
    "         bindingSiteDic[peptidasesList.loc[i,\"PDB\"]] = {peptidasesList.loc[i,\"chain/kegg compound\"]: [peptidasesList.loc[i,\"resid/chebi id\"]]}\n",
    "    else:\n",
    "        bindingSiteDic[peptidasesList.loc[i,\"PDB\"]][peptidasesList.loc[i,\"chain/kegg compound\"]].append(peptidasesList.loc[i,\"resid/chebi id\"])\n",
    "for protein in bindingSiteDic:\n",
    "    for chain in bindingSiteDic[protein]:\n",
    "        bindingSiteDic[protein][chain] = list(set(bindingSiteDic[protein][chain])) \n",
    "\n",
    "uniqueList = peptidasesList[[\"PDB\",\"chain/kegg compound\"]].drop_duplicates()"
   ]
  },
  {
   "cell_type": "code",
   "execution_count": 113,
   "metadata": {},
   "outputs": [
    {
     "data": {
      "text/html": [
       "<div>\n",
       "<style>\n",
       "    .dataframe thead tr:only-child th {\n",
       "        text-align: right;\n",
       "    }\n",
       "\n",
       "    .dataframe thead th {\n",
       "        text-align: left;\n",
       "    }\n",
       "\n",
       "    .dataframe tbody tr th {\n",
       "        vertical-align: top;\n",
       "    }\n",
       "</style>\n",
       "<table border=\"1\" class=\"dataframe\">\n",
       "  <thead>\n",
       "    <tr style=\"text-align: right;\">\n",
       "      <th></th>\n",
       "      <th>PDB</th>\n",
       "      <th>chain/kegg compound</th>\n",
       "    </tr>\n",
       "  </thead>\n",
       "  <tbody>\n",
       "    <tr>\n",
       "      <th>0</th>\n",
       "      <td>1lam</td>\n",
       "      <td>A</td>\n",
       "    </tr>\n",
       "    <tr>\n",
       "      <th>2</th>\n",
       "      <td>1lok</td>\n",
       "      <td>A</td>\n",
       "    </tr>\n",
       "    <tr>\n",
       "      <th>25</th>\n",
       "      <td>1xgm</td>\n",
       "      <td>A</td>\n",
       "    </tr>\n",
       "    <tr>\n",
       "      <th>30</th>\n",
       "      <td>1b65</td>\n",
       "      <td>A</td>\n",
       "    </tr>\n",
       "    <tr>\n",
       "      <th>36</th>\n",
       "      <td>1ei5</td>\n",
       "      <td>A</td>\n",
       "    </tr>\n",
       "    <tr>\n",
       "      <th>42</th>\n",
       "      <td>1azw</td>\n",
       "      <td>A</td>\n",
       "    </tr>\n",
       "    <tr>\n",
       "      <th>49</th>\n",
       "      <td>1a16</td>\n",
       "      <td>A</td>\n",
       "    </tr>\n",
       "    <tr>\n",
       "      <th>64</th>\n",
       "      <td>1itq</td>\n",
       "      <td>A</td>\n",
       "    </tr>\n",
       "    <tr>\n",
       "      <th>92</th>\n",
       "      <td>1fy2</td>\n",
       "      <td>A</td>\n",
       "    </tr>\n",
       "    <tr>\n",
       "      <th>97</th>\n",
       "      <td>1r44</td>\n",
       "      <td>A</td>\n",
       "    </tr>\n",
       "    <tr>\n",
       "      <th>99</th>\n",
       "      <td>1pfq</td>\n",
       "      <td>A</td>\n",
       "    </tr>\n",
       "    <tr>\n",
       "      <th>149</th>\n",
       "      <td>1whs</td>\n",
       "      <td>A</td>\n",
       "    </tr>\n",
       "    <tr>\n",
       "      <th>176</th>\n",
       "      <td>1whs</td>\n",
       "      <td>B</td>\n",
       "    </tr>\n",
       "    <tr>\n",
       "      <th>198</th>\n",
       "      <td>1m4l</td>\n",
       "      <td>A</td>\n",
       "    </tr>\n",
       "    <tr>\n",
       "      <th>240</th>\n",
       "      <td>1cg2</td>\n",
       "      <td>A</td>\n",
       "    </tr>\n",
       "    <tr>\n",
       "      <th>246</th>\n",
       "      <td>1lbu</td>\n",
       "      <td>A</td>\n",
       "    </tr>\n",
       "    <tr>\n",
       "      <th>251</th>\n",
       "      <td>1deu</td>\n",
       "      <td>A</td>\n",
       "    </tr>\n",
       "    <tr>\n",
       "      <th>257</th>\n",
       "      <td>1uch</td>\n",
       "      <td>A</td>\n",
       "    </tr>\n",
       "    <tr>\n",
       "      <th>263</th>\n",
       "      <td>1nbf</td>\n",
       "      <td>A</td>\n",
       "    </tr>\n",
       "    <tr>\n",
       "      <th>268</th>\n",
       "      <td>2bx4</td>\n",
       "      <td>A</td>\n",
       "    </tr>\n",
       "    <tr>\n",
       "      <th>273</th>\n",
       "      <td>1-Aug</td>\n",
       "      <td>A</td>\n",
       "    </tr>\n",
       "    <tr>\n",
       "      <th>278</th>\n",
       "      <td>1onw</td>\n",
       "      <td>A</td>\n",
       "    </tr>\n",
       "    <tr>\n",
       "      <th>296</th>\n",
       "      <td>1l9x</td>\n",
       "      <td>A</td>\n",
       "    </tr>\n",
       "    <tr>\n",
       "      <th>298</th>\n",
       "      <td>1k32</td>\n",
       "      <td>A</td>\n",
       "    </tr>\n",
       "    <tr>\n",
       "      <th>302</th>\n",
       "      <td>1yph</td>\n",
       "      <td>B</td>\n",
       "    </tr>\n",
       "    <tr>\n",
       "      <th>305</th>\n",
       "      <td>1yph</td>\n",
       "      <td>C</td>\n",
       "    </tr>\n",
       "    <tr>\n",
       "      <th>308</th>\n",
       "      <td>1nlu</td>\n",
       "      <td>A</td>\n",
       "    </tr>\n",
       "    <tr>\n",
       "      <th>312</th>\n",
       "      <td>1ssx</td>\n",
       "      <td>A</td>\n",
       "    </tr>\n",
       "    <tr>\n",
       "      <th>318</th>\n",
       "      <td>1qfm</td>\n",
       "      <td>A</td>\n",
       "    </tr>\n",
       "    <tr>\n",
       "      <th>324</th>\n",
       "      <td>1pq5</td>\n",
       "      <td>A</td>\n",
       "    </tr>\n",
       "    <tr>\n",
       "      <th>...</th>\n",
       "      <td>...</td>\n",
       "      <td>...</td>\n",
       "    </tr>\n",
       "    <tr>\n",
       "      <th>572</th>\n",
       "      <td>1x9y</td>\n",
       "      <td>A</td>\n",
       "    </tr>\n",
       "    <tr>\n",
       "      <th>579</th>\n",
       "      <td>2fqq</td>\n",
       "      <td>A</td>\n",
       "    </tr>\n",
       "    <tr>\n",
       "      <th>585</th>\n",
       "      <td>2fqq</td>\n",
       "      <td>B</td>\n",
       "    </tr>\n",
       "    <tr>\n",
       "      <th>586</th>\n",
       "      <td>1cvr</td>\n",
       "      <td>A</td>\n",
       "    </tr>\n",
       "    <tr>\n",
       "      <th>591</th>\n",
       "      <td>1nln</td>\n",
       "      <td>A</td>\n",
       "    </tr>\n",
       "    <tr>\n",
       "      <th>595</th>\n",
       "      <td>1gcb</td>\n",
       "      <td>A</td>\n",
       "    </tr>\n",
       "    <tr>\n",
       "      <th>600</th>\n",
       "      <td>1kfu</td>\n",
       "      <td>L</td>\n",
       "    </tr>\n",
       "    <tr>\n",
       "      <th>607</th>\n",
       "      <td>1qx3</td>\n",
       "      <td>A</td>\n",
       "    </tr>\n",
       "    <tr>\n",
       "      <th>612</th>\n",
       "      <td>1qtn</td>\n",
       "      <td>A</td>\n",
       "    </tr>\n",
       "    <tr>\n",
       "      <th>616</th>\n",
       "      <td>1nw9</td>\n",
       "      <td>B</td>\n",
       "    </tr>\n",
       "    <tr>\n",
       "      <th>621</th>\n",
       "      <td>2bkr</td>\n",
       "      <td>A</td>\n",
       "    </tr>\n",
       "    <tr>\n",
       "      <th>629</th>\n",
       "      <td>1am5</td>\n",
       "      <td>A</td>\n",
       "    </tr>\n",
       "    <tr>\n",
       "      <th>648</th>\n",
       "      <td>1a30</td>\n",
       "      <td>A</td>\n",
       "    </tr>\n",
       "    <tr>\n",
       "      <th>653</th>\n",
       "      <td>1a30</td>\n",
       "      <td>B</td>\n",
       "    </tr>\n",
       "    <tr>\n",
       "      <th>668</th>\n",
       "      <td>1s2k</td>\n",
       "      <td>A</td>\n",
       "    </tr>\n",
       "    <tr>\n",
       "      <th>670</th>\n",
       "      <td>1i78</td>\n",
       "      <td>A</td>\n",
       "    </tr>\n",
       "    <tr>\n",
       "      <th>677</th>\n",
       "      <td>1r1j</td>\n",
       "      <td>A</td>\n",
       "    </tr>\n",
       "    <tr>\n",
       "      <th>681</th>\n",
       "      <td>1i1i</td>\n",
       "      <td>A</td>\n",
       "    </tr>\n",
       "    <tr>\n",
       "      <th>683</th>\n",
       "      <td>1hfs</td>\n",
       "      <td>A</td>\n",
       "    </tr>\n",
       "    <tr>\n",
       "      <th>684</th>\n",
       "      <td>1ge7</td>\n",
       "      <td>A</td>\n",
       "    </tr>\n",
       "    <tr>\n",
       "      <th>686</th>\n",
       "      <td>1ast</td>\n",
       "      <td>A</td>\n",
       "    </tr>\n",
       "    <tr>\n",
       "      <th>691</th>\n",
       "      <td>1qib</td>\n",
       "      <td>A</td>\n",
       "    </tr>\n",
       "    <tr>\n",
       "      <th>695</th>\n",
       "      <td>1kei</td>\n",
       "      <td>A</td>\n",
       "    </tr>\n",
       "    <tr>\n",
       "      <th>725</th>\n",
       "      <td>1lml</td>\n",
       "      <td>A</td>\n",
       "    </tr>\n",
       "    <tr>\n",
       "      <th>726</th>\n",
       "      <td>1eb6</td>\n",
       "      <td>A</td>\n",
       "    </tr>\n",
       "    <tr>\n",
       "      <th>728</th>\n",
       "      <td>1hr6</td>\n",
       "      <td>B</td>\n",
       "    </tr>\n",
       "    <tr>\n",
       "      <th>729</th>\n",
       "      <td>1i1e</td>\n",
       "      <td>A</td>\n",
       "    </tr>\n",
       "    <tr>\n",
       "      <th>732</th>\n",
       "      <td>1pwv</td>\n",
       "      <td>A</td>\n",
       "    </tr>\n",
       "    <tr>\n",
       "      <th>734</th>\n",
       "      <td>1ryp</td>\n",
       "      <td>I</td>\n",
       "    </tr>\n",
       "    <tr>\n",
       "      <th>780</th>\n",
       "      <td>1ht1</td>\n",
       "      <td>E</td>\n",
       "    </tr>\n",
       "  </tbody>\n",
       "</table>\n",
       "<p>78 rows × 2 columns</p>\n",
       "</div>"
      ],
      "text/plain": [
       "       PDB chain/kegg compound\n",
       "0     1lam                   A\n",
       "2     1lok                   A\n",
       "25    1xgm                   A\n",
       "30    1b65                   A\n",
       "36    1ei5                   A\n",
       "42    1azw                   A\n",
       "49    1a16                   A\n",
       "64    1itq                   A\n",
       "92    1fy2                   A\n",
       "97    1r44                   A\n",
       "99    1pfq                   A\n",
       "149   1whs                   A\n",
       "176   1whs                   B\n",
       "198   1m4l                   A\n",
       "240   1cg2                   A\n",
       "246   1lbu                   A\n",
       "251   1deu                   A\n",
       "257   1uch                   A\n",
       "263   1nbf                   A\n",
       "268   2bx4                   A\n",
       "273  1-Aug                   A\n",
       "278   1onw                   A\n",
       "296   1l9x                   A\n",
       "298   1k32                   A\n",
       "302   1yph                   B\n",
       "305   1yph                   C\n",
       "308   1nlu                   A\n",
       "312   1ssx                   A\n",
       "318   1qfm                   A\n",
       "324   1pq5                   A\n",
       "..     ...                 ...\n",
       "572   1x9y                   A\n",
       "579   2fqq                   A\n",
       "585   2fqq                   B\n",
       "586   1cvr                   A\n",
       "591   1nln                   A\n",
       "595   1gcb                   A\n",
       "600   1kfu                   L\n",
       "607   1qx3                   A\n",
       "612   1qtn                   A\n",
       "616   1nw9                   B\n",
       "621   2bkr                   A\n",
       "629   1am5                   A\n",
       "648   1a30                   A\n",
       "653   1a30                   B\n",
       "668   1s2k                   A\n",
       "670   1i78                   A\n",
       "677   1r1j                   A\n",
       "681   1i1i                   A\n",
       "683   1hfs                   A\n",
       "684   1ge7                   A\n",
       "686   1ast                   A\n",
       "691   1qib                   A\n",
       "695   1kei                   A\n",
       "725   1lml                   A\n",
       "726   1eb6                   A\n",
       "728   1hr6                   B\n",
       "729   1i1e                   A\n",
       "732   1pwv                   A\n",
       "734   1ryp                   I\n",
       "780   1ht1                   E\n",
       "\n",
       "[78 rows x 2 columns]"
      ]
     },
     "execution_count": 113,
     "metadata": {},
     "output_type": "execute_result"
    }
   ],
   "source": [
    "uniqueList"
   ]
  },
  {
   "cell_type": "code",
   "execution_count": 5,
   "metadata": {},
   "outputs": [
    {
     "data": {
      "text/plain": [
       "{'A': [163.0, 84.0, 182.0, 46.0]}"
      ]
     },
     "execution_count": 5,
     "metadata": {},
     "output_type": "execute_result"
    }
   ],
   "source": [
    "bindingSiteDic[\"2bhg\"]"
   ]
  },
  {
   "cell_type": "code",
   "execution_count": 270,
   "metadata": {},
   "outputs": [
    {
     "name": "stdout",
     "output_type": "stream",
     "text": [
      "Structure exists: 'Y:/Yuan/temp\\pdb1rtf.ent' \n"
     ]
    },
    {
     "data": {
      "text/plain": [
       "'Y:/Yuan/temp\\\\pdb1rtf.ent'"
      ]
     },
     "execution_count": 270,
     "metadata": {},
     "output_type": "execute_result"
    }
   ],
   "source": [
    "pdbID = \"1rtf\"\n",
    "chainOrder = \"B\"\n",
    "PDB = PDBList()\n",
    "PDB.retrieve_pdb_file(pdb_code = pdbID, pdir = \"Y:/Yuan/temp\", file_format=\"pdb\")"
   ]
  },
  {
   "cell_type": "code",
   "execution_count": 342,
   "metadata": {},
   "outputs": [
    {
     "name": "stderr",
     "output_type": "stream",
     "text": [
      "C:\\Users\\Administrator\\Anaconda3\\envs\\pdbPy3\\lib\\site-packages\\Bio\\PDB\\StructureBuilder.py:91: PDBConstructionWarning: WARNING: Chain A is discontinuous at line 2853.\n",
      "  PDBConstructionWarning)\n",
      "C:\\Users\\Administrator\\Anaconda3\\envs\\pdbPy3\\lib\\site-packages\\Bio\\PDB\\StructureBuilder.py:91: PDBConstructionWarning: WARNING: Chain B is discontinuous at line 2865.\n",
      "  PDBConstructionWarning)\n"
     ]
    }
   ],
   "source": [
    "p = PDBParser()\n",
    "structure = p.get_structure(\"X\",\"Y:/Yuan/temp/pdb\"+pdbID+\".ent\")"
   ]
  },
  {
   "cell_type": "code",
   "execution_count": 346,
   "metadata": {},
   "outputs": [],
   "source": [
    "oneChain = pd.DataFrame(columns = [\"Seq\",\"Residue\",\"Center\",\"Direction\"])\n",
    "if structure.header[\"resolution\"]<=3.0:\n",
    "    if chainOrder in [x.id for x in list(structure[0].get_chains())]: #Chain information not in pdb file\n",
    "        for residue in structure[0][chainOrder]: \n",
    "            if residue.get_resname() in aminoAcidCodes: # Only treat common amino acid\n",
    "                if residue.get_id()[2] == \" \": #ignore insetions\n",
    "                    if len(list(residue.get_atoms())) >3:\n",
    "                        if residue.get_resname() != \"GLY\":  # Glysine as a special case\n",
    "                            point = vectors.Vector([0,0,0])\n",
    "                            for atom in residue:\n",
    "                                if(atom.get_name() not in backbone):\n",
    "                                    point = point + atom.get_vector()\n",
    "                            center = point.__div__(len(residue)-4)\n",
    "                            cToRGroup = residue[\"CA\"].get_vector()-center\n",
    "                            oneChain.loc[len(oneChain)] = [residue.get_id()[1],residue.get_resname(),center,cToRGroup]        \n",
    "                        else:\n",
    "                            center = residue[\"CA\"].get_vector()\n",
    "                            cToRGroup = center - (residue[\"C\"].get_vector()+residue[\"N\"].get_vector()+residue[\"O\"].get_vector()).__div__(3)\n",
    "                            oneChain.loc[len(oneChain)] = [residue.get_id()[1],residue.get_resname(),center,cToRGroup]\n"
   ]
  },
  {
   "cell_type": "code",
   "execution_count": 347,
   "metadata": {
    "scrolled": true
   },
   "outputs": [
    {
     "name": "stdout",
     "output_type": "stream",
     "text": [
      "0th row\n"
     ]
    },
    {
     "name": "stderr",
     "output_type": "stream",
     "text": [
      "C:\\Users\\Administrator\\Anaconda3\\envs\\pdbPy3\\lib\\site-packages\\ipykernel_launcher.py:12: RuntimeWarning: invalid value encountered in arccos\n",
      "  if sys.path[0] == '':\n"
     ]
    },
    {
     "name": "stdout",
     "output_type": "stream",
     "text": [
      "50th row\n",
      "100th row\n",
      "150th row\n",
      "200th row\n"
     ]
    }
   ],
   "source": [
    "distanceMatrix = pd.DataFrame(columns = list(oneChain.iloc[:,0]),index = list(oneChain.iloc[:,0]))\n",
    "angleMatrix = pd.DataFrame(columns = list(oneChain.iloc[:,0]),index = list(oneChain.iloc[:,0]))\n",
    "numResidue = len(oneChain)\n",
    "for row in range(0,numResidue):\n",
    "    if row % 50 ==0:\n",
    "        print(str(row)+\"th row\")\n",
    "    for column in range(0,numResidue):\n",
    "        coordinatesSubstraction = list(oneChain.loc[row,\"Center\"] - oneChain.loc[column,\"Center\"])\n",
    "        distanceMatrix.iloc[row,column] = sqrt(sum(list(map(lambda x:x*x, coordinatesSubstraction))))\n",
    "        v1 = oneChain.loc[row,\"Direction\"] \n",
    "        v2 = oneChain.loc[column,\"Direction\"]\n",
    "        angleMatrix.iloc[row,column] = 180*np.arccos(np.dot(v1,v2)/(np.linalg.norm(v1) * np.linalg.norm(v2)))/np.pi"
   ]
  },
  {
   "cell_type": "code",
   "execution_count": 351,
   "metadata": {},
   "outputs": [
    {
     "name": "stdout",
     "output_type": "stream",
     "text": [
      "Coordinate1--10--oneResidue1~26: 5.196218509634063\n",
      "Coordinate2--10--oneResidue2~23: 35.32900729487216\n",
      "Coordinate1--10--oneResidue1~26: 34.91793423055205\n",
      "Coordinate2--10--oneResidue2~95: 92.71462170180487\n",
      "Coordinate1--10--oneResidue1~26: 34.408914315337206\n",
      "Coordinate2--10--oneResidue2~96: 124.32727516953689\n",
      "Coordinate1--10--oneResidue1~26: 36.98529869952101\n",
      "Coordinate2--10--oneResidue2~97: 128.39542689121677\n",
      "Coordinate1--10--oneResidue1~26: 32.17497840862682\n",
      "Coordinate2--10--oneResidue2~100: 140.05475376054298\n",
      "Coordinate1--10--oneResidue1~26: 25.99754007104386\n",
      "Coordinate2--10--oneResidue2~102: 21.098185542541597\n",
      "Coordinate1--10--oneResidue1~26: 28.389142303671555\n",
      "Coordinate2--10--oneResidue2~127: 111.68269697311732\n",
      "Coordinate1--10--oneResidue1~26: 27.334110260223202\n",
      "Coordinate2--10--oneResidue2~132: 124.44570361009139\n",
      "Coordinate1--10--oneResidue1~26: 32.22056733629829\n",
      "Coordinate2--10--oneResidue2~178: 136.89677910761463\n",
      "Coordinate1--10--oneResidue1~26: 19.885510381929695\n",
      "Coordinate2--10--oneResidue2~185: 23.44711234359673\n",
      "Coordinate1--10--oneResidue1~26: 19.680589526018004\n",
      "Coordinate2--10--oneResidue2~189: 109.10021098622363\n",
      "Coordinate1--10--oneResidue1~26: 16.421493733273813\n",
      "Coordinate2--10--oneResidue2~194: 27.021680903192422\n",
      "Coordinate1--10--oneResidue1~26: 19.636659816263915\n",
      "Coordinate2--10--oneResidue2~204: 141.29327449188224\n",
      "Coordinate1--10--oneResidue1~26: 29.052370214521407\n",
      "Coordinate2--10--oneResidue2~223: 55.26256188154256\n",
      "Coordinate1--10--oneResidue1~26: 30.810704606927303\n",
      "Coordinate2--10--oneResidue2~236: 97.48444066566493\n",
      "Coordinate1--10--oneResidue1~26: 32.97916613085444\n",
      "Coordinate2--10--oneResidue2~240: 125.6056494878692\n",
      "Coordinate1--32--oneResidue1~48: 23.908234828745233\n",
      "Coordinate2--32--oneResidue2~23: 167.7538968914319\n",
      "Coordinate1--32--oneResidue1~48: 26.64976973928312\n",
      "Coordinate2--32--oneResidue2~95: 78.61020035856306\n",
      "Coordinate1--32--oneResidue1~48: 25.878287433900756\n",
      "Coordinate2--32--oneResidue2~96: 53.6776901447473\n",
      "Coordinate1--32--oneResidue1~48: 30.42916718531062\n",
      "Coordinate2--32--oneResidue2~97: 6.161447262053085\n",
      "Coordinate1--32--oneResidue1~48: 24.318825603836277\n",
      "Coordinate2--32--oneResidue2~100: 61.59773825475882\n",
      "Coordinate1--32--oneResidue1~48: 19.47718182456266\n",
      "Coordinate2--32--oneResidue2~102: 114.6498965973048\n",
      "Coordinate1--32--oneResidue1~48: 21.03026754366123\n",
      "Coordinate2--32--oneResidue2~127: 111.69494128899834\n",
      "Coordinate1--32--oneResidue1~48: 30.603260410520594\n",
      "Coordinate2--32--oneResidue2~132: 52.78682446306064\n",
      "Coordinate1--32--oneResidue1~48: 25.76339089360063\n",
      "Coordinate2--32--oneResidue2~178: 86.92910732066325\n",
      "Coordinate1--32--oneResidue1~48: 31.248333726226743\n",
      "Coordinate2--32--oneResidue2~185: 124.05271037908487\n",
      "Coordinate1--32--oneResidue1~48: 27.666445374404773\n",
      "Coordinate2--32--oneResidue2~189: 36.615127209543644\n",
      "Coordinate1--32--oneResidue1~48: 22.068622883107654\n",
      "Coordinate2--32--oneResidue2~194: 136.64568253576448\n",
      "Coordinate1--32--oneResidue1~48: 21.160172697897977\n",
      "Coordinate2--32--oneResidue2~204: 83.97768594339053\n",
      "Coordinate1--32--oneResidue1~48: 37.159813157850095\n",
      "Coordinate2--32--oneResidue2~223: 123.0830848810736\n",
      "Coordinate1--32--oneResidue1~48: 16.303886782351952\n",
      "Coordinate2--32--oneResidue2~236: 70.44900445940927\n",
      "Coordinate1--32--oneResidue1~48: 14.470815933636628\n",
      "Coordinate2--32--oneResidue2~240: 26.165707121931153\n",
      "Coordinate1--33--oneResidue1~49: 23.020985839775136\n",
      "Coordinate2--33--oneResidue2~23: 74.16931651932957\n",
      "Coordinate1--33--oneResidue1~49: 31.629321968349227\n",
      "Coordinate2--33--oneResidue2~95: 152.0122171213083\n",
      "Coordinate1--33--oneResidue1~49: 30.308123729866768\n",
      "Coordinate2--33--oneResidue2~96: 57.177838765455476\n",
      "Coordinate1--33--oneResidue1~49: 35.07529163710988\n",
      "Coordinate2--33--oneResidue2~97: 111.3838166459685\n",
      "Coordinate1--33--oneResidue1~49: 29.59596581583318\n",
      "Coordinate2--33--oneResidue2~100: 107.22025094829996\n",
      "Coordinate1--33--oneResidue1~49: 24.195964099468274\n",
      "Coordinate2--33--oneResidue2~102: 118.86362999698682\n",
      "Coordinate1--33--oneResidue1~49: 25.369019252306856\n",
      "Coordinate2--33--oneResidue2~127: 34.034036028973595\n",
      "Coordinate1--33--oneResidue1~49: 34.84503752928031\n",
      "Coordinate2--33--oneResidue2~132: 131.86171492294088\n",
      "Coordinate1--33--oneResidue1~49: 31.19863677668833\n",
      "Coordinate2--33--oneResidue2~178: 69.70710959938533\n",
      "Coordinate1--33--oneResidue1~49: 34.183563581584465\n",
      "Coordinate2--33--oneResidue2~185: 87.05424283275124\n",
      "Coordinate1--33--oneResidue1~49: 30.841274792224546\n",
      "Coordinate2--33--oneResidue2~189: 143.95870058663428\n",
      "Coordinate1--33--oneResidue1~49: 24.555944918411516\n",
      "Coordinate2--33--oneResidue2~194: 114.49206591877748\n",
      "Coordinate1--33--oneResidue1~49: 23.145502365053332\n",
      "Coordinate2--33--oneResidue2~204: 54.43813590872052\n",
      "Coordinate1--33--oneResidue1~49: 40.93877297168724\n",
      "Coordinate2--33--oneResidue2~223: 126.83705600326971\n",
      "Coordinate1--33--oneResidue1~49: 21.695637709523442\n",
      "Coordinate2--33--oneResidue2~236: 154.5056956458694\n",
      "Coordinate1--33--oneResidue1~49: 19.233750529980462\n",
      "Coordinate2--33--oneResidue2~240: 129.99328079738572\n",
      "Coordinate1--38--oneResidue1~54: 22.23462134221816\n",
      "Coordinate2--38--oneResidue2~23: 83.16737134728419\n",
      "Coordinate1--38--oneResidue1~54: 17.05115560147211\n",
      "Coordinate2--38--oneResidue2~95: 124.04965304934991\n",
      "Coordinate1--38--oneResidue1~54: 15.350497290219735\n",
      "Coordinate2--38--oneResidue2~96: 63.98832687412114\n",
      "Coordinate1--38--oneResidue1~54: 19.538158024561326\n",
      "Coordinate2--38--oneResidue2~97: 80.92362684157987\n",
      "Coordinate1--38--oneResidue1~54: 16.014445364590145\n",
      "Coordinate2--38--oneResidue2~100: 146.4252385057422\n",
      "Coordinate1--38--oneResidue1~54: 8.859894908511425\n",
      "Coordinate2--38--oneResidue2~102: 59.0023625509081\n",
      "Coordinate1--38--oneResidue1~54: 24.365059448195687\n",
      "Coordinate2--38--oneResidue2~127: 117.7707362171036\n",
      "Coordinate1--38--oneResidue1~54: 26.94796947639614\n",
      "Coordinate2--38--oneResidue2~132: 128.3492774393993\n",
      "Coordinate1--38--oneResidue1~54: 20.741949228487364\n",
      "Coordinate2--38--oneResidue2~178: 148.58256885066712\n",
      "Coordinate1--38--oneResidue1~54: 23.937283445556492\n",
      "Coordinate2--38--oneResidue2~185: 42.09639621525599\n",
      "Coordinate1--38--oneResidue1~54: 18.206952000624984\n",
      "Coordinate2--38--oneResidue2~189: 91.88648790561197\n",
      "Coordinate1--38--oneResidue1~54: 11.876264265514791\n",
      "Coordinate2--38--oneResidue2~194: 88.66757439985575\n",
      "Coordinate1--38--oneResidue1~54: 26.096318121335806\n",
      "Coordinate2--38--oneResidue2~204: 130.5947201384596\n",
      "Coordinate1--38--oneResidue1~54: 28.45413051164113\n",
      "Coordinate2--38--oneResidue2~223: 114.05494018879216\n",
      "Coordinate1--38--oneResidue1~54: 17.798955889832914\n",
      "Coordinate2--38--oneResidue2~236: 120.40266190286255\n",
      "Coordinate1--38--oneResidue1~54: 17.606946352803917\n",
      "Coordinate2--38--oneResidue2~240: 99.96861216389908\n",
      "Coordinate1--94--oneResidue1~110: 27.361600800545432\n",
      "Coordinate2--94--oneResidue2~23: 65.74863272422998\n",
      "Coordinate1--94--oneResidue1~110: 33.22386021041389\n",
      "Coordinate2--94--oneResidue2~95: 74.566768511068\n",
      "Coordinate1--94--oneResidue1~110: 30.613309991934567\n",
      "Coordinate2--94--oneResidue2~96: 126.17963741478505\n",
      "Coordinate1--94--oneResidue1~110: 35.99715656308609\n",
      "Coordinate2--94--oneResidue2~97: 130.8809826703286\n",
      "Coordinate1--94--oneResidue1~110: 32.534316237625205\n",
      "Coordinate2--94--oneResidue2~100: 65.48011270906242\n",
      "Coordinate1--94--oneResidue1~110: 26.800370727823207\n",
      "Coordinate2--94--oneResidue2~102: 105.4816159384004\n",
      "Coordinate1--94--oneResidue1~110: 32.69682805755395\n",
      "Coordinate2--94--oneResidue2~127: 49.52544884955435\n",
      "Coordinate1--94--oneResidue1~110: 41.74349978474974\n",
      "Coordinate2--94--oneResidue2~132: 82.0191961548546\n",
      "Coordinate1--94--oneResidue1~110: 36.09387185289624\n",
      "Coordinate2--94--oneResidue2~178: 45.04346338898551\n",
      "Coordinate1--94--oneResidue1~110: 39.65236383403058\n",
      "Coordinate2--94--oneResidue2~185: 108.9868881453589\n",
      "Coordinate1--94--oneResidue1~110: 35.15974799114387\n",
      "Coordinate2--94--oneResidue2~189: 116.88979531537855\n",
      "Coordinate1--94--oneResidue1~110: 27.616053228514048\n",
      "Coordinate2--94--oneResidue2~194: 72.94637754577141\n",
      "Coordinate1--94--oneResidue1~110: 31.668324848241692\n",
      "Coordinate2--94--oneResidue2~204: 57.24559243332662\n",
      "Coordinate1--94--oneResidue1~110: 46.02847593636708\n",
      "Coordinate2--94--oneResidue2~223: 57.57409933502134\n",
      "Coordinate1--94--oneResidue1~110: 26.351736209714097\n",
      "Coordinate2--94--oneResidue2~236: 81.20347123822445\n",
      "Coordinate1--94--oneResidue1~110: 21.687336318507104\n",
      "Coordinate2--94--oneResidue2~240: 111.51873544120261\n",
      "Coordinate1--99--oneResidue1~115: 13.907977098630393\n",
      "Coordinate2--99--oneResidue2~23: 119.33788734053881\n",
      "Coordinate1--99--oneResidue1~115: 36.949622493424\n",
      "Coordinate2--99--oneResidue2~95: 80.46743463438042\n",
      "Coordinate1--99--oneResidue1~115: 35.4423838969007\n",
      "Coordinate2--99--oneResidue2~96: 74.04364128956232\n",
      "Coordinate1--99--oneResidue1~115: 39.573935048044554\n",
      "Coordinate2--99--oneResidue2~97: 43.40496945123504\n",
      "Coordinate1--99--oneResidue1~115: 34.80828164904468\n",
      "Coordinate2--99--oneResidue2~100: 100.9525317646067\n",
      "Coordinate1--99--oneResidue1~115: 28.28208834581451\n",
      "Coordinate2--99--oneResidue2~102: 66.35786305401882\n",
      "Coordinate1--99--oneResidue1~115: 30.228287707860527\n",
      "Coordinate2--99--oneResidue2~127: 152.92090287766482\n",
      "Coordinate1--99--oneResidue1~115: 35.464260964697196\n",
      "Coordinate2--99--oneResidue2~132: 78.72762375349393\n",
      "Coordinate1--99--oneResidue1~115: 36.06172434672521\n",
      "Coordinate2--99--oneResidue2~178: 135.6602043410814\n",
      "Coordinate1--99--oneResidue1~115: 30.95244675182437\n",
      "Coordinate2--99--oneResidue2~185: 77.47267545558238\n",
      "Coordinate1--99--oneResidue1~115: 28.792038133149315\n",
      "Coordinate2--99--oneResidue2~189: 42.123186947177715\n",
      "Coordinate1--99--oneResidue1~115: 22.635918987633403\n",
      "Coordinate2--99--oneResidue2~194: 95.4117296346332\n",
      "Coordinate1--99--oneResidue1~115: 23.096166008909385\n",
      "Coordinate2--99--oneResidue2~204: 132.69022672680225\n",
      "Coordinate1--99--oneResidue1~115: 39.34135149324912\n",
      "Coordinate2--99--oneResidue2~223: 101.82210438297552\n",
      "Coordinate1--99--oneResidue1~115: 29.768680690169624\n",
      "Coordinate2--99--oneResidue2~236: 74.25204178254079\n",
      "Coordinate1--99--oneResidue1~115: 29.124372264616355\n",
      "Coordinate2--99--oneResidue2~240: 52.639481312251256\n",
      "Coordinate1--100--oneResidue1~116: 11.000188817172484\n",
      "Coordinate2--100--oneResidue2~23: 47.70416214705313\n",
      "Coordinate1--100--oneResidue1~116: 39.667496286741546\n",
      "Coordinate2--100--oneResidue2~95: 134.55747779594012\n",
      "Coordinate1--100--oneResidue1~116: 38.385940275883314\n",
      "Coordinate2--100--oneResidue2~96: 83.15859893675656\n",
      "Coordinate1--100--oneResidue1~116: 42.104702776133045\n",
      "Coordinate2--100--oneResidue2~97: 117.81414376483445\n",
      "Coordinate1--100--oneResidue1~116: 37.30050639849574\n",
      "Coordinate2--100--oneResidue2~100: 173.50370838975658\n",
      "Coordinate1--100--oneResidue1~116: 30.768195533827644\n",
      "Coordinate2--100--oneResidue2~102: 54.30745997858813\n",
      "Coordinate1--100--oneResidue1~116: 31.83715073113661\n",
      "Coordinate2--100--oneResidue2~127: 93.5399296673246\n",
      "Coordinate1--100--oneResidue1~116: 35.41629276012394\n",
      "Coordinate2--100--oneResidue2~132: 160.50740693747264\n",
      "Coordinate1--100--oneResidue1~116: 37.999009161572005\n",
      "Coordinate2--100--oneResidue2~178: 133.23003073553897\n",
      "Coordinate1--100--oneResidue1~116: 29.856270252344686\n",
      "Coordinate2--100--oneResidue2~185: 21.84844644635602\n",
      "Coordinate1--100--oneResidue1~116: 28.649539737540692\n",
      "Coordinate2--100--oneResidue2~189: 125.81184499350825\n",
      "Coordinate1--100--oneResidue1~116: 23.305544666151622\n",
      "Coordinate2--100--oneResidue2~194: 69.15986304131592\n",
      "Coordinate1--100--oneResidue1~116: 22.916808752330365\n",
      "Coordinate2--100--oneResidue2~204: 120.7034488099129\n",
      "Coordinate1--100--oneResidue1~116: 38.76699566722766\n",
      "Coordinate2--100--oneResidue2~223: 97.31773711116642\n",
      "Coordinate1--100--oneResidue1~116: 32.9226710899107\n",
      "Coordinate2--100--oneResidue2~236: 137.29995901163997\n",
      "Coordinate1--100--oneResidue1~116: 33.104360581964066\n",
      "Coordinate2--100--oneResidue2~240: 136.7740289930632\n",
      "Coordinate1--123--oneResidue1~139: 11.852557530589438\n",
      "Coordinate2--123--oneResidue2~23: 98.53967609401302\n",
      "Coordinate1--123--oneResidue1~139: 25.56066414231881\n",
      "Coordinate2--123--oneResidue2~95: 115.70909825060504\n",
      "Coordinate1--123--oneResidue1~139: 25.179510476971583\n",
      "Coordinate2--123--oneResidue2~96: 62.91482961243247\n",
      "Coordinate1--123--oneResidue1~139: 27.500547193405534\n",
      "Coordinate2--123--oneResidue2~97: 95.40834811626878\n",
      "Coordinate1--123--oneResidue1~139: 23.06716044104483\n",
      "Coordinate2--123--oneResidue2~100: 68.0692918607309\n",
      "Coordinate1--123--oneResidue1~139: 16.739132497540922\n",
      "Coordinate2--123--oneResidue2~102: 153.9863267851574\n",
      "Coordinate1--123--oneResidue1~139: 24.553163791412075\n",
      "Coordinate2--123--oneResidue2~127: 22.287995417232565\n",
      "Coordinate1--123--oneResidue1~139: 22.385286502563776\n",
      "Coordinate2--123--oneResidue2~132: 93.20524337904435\n",
      "Coordinate1--123--oneResidue1~139: 24.26562357092324\n",
      "Coordinate2--123--oneResidue2~178: 32.352894306613926\n",
      "Coordinate1--123--oneResidue1~139: 15.18455254290174\n",
      "Coordinate2--123--oneResidue2~185: 125.37043094244675\n",
      "Coordinate1--123--oneResidue1~139: 12.226863282058526\n",
      "Coordinate2--123--oneResidue2~189: 117.73398227683879\n",
      "Coordinate1--123--oneResidue1~139: 8.024199047853061\n",
      "Coordinate2--123--oneResidue2~194: 130.73546469998547\n",
      "Coordinate1--123--oneResidue1~139: 20.45943035267961\n",
      "Coordinate2--123--oneResidue2~204: 15.391432697073329\n",
      "Coordinate1--123--oneResidue1~139: 22.95084378600174\n",
      "Coordinate2--123--oneResidue2~223: 120.76845612523118\n",
      "Coordinate1--123--oneResidue1~139: 24.472071999823402\n",
      "Coordinate2--123--oneResidue2~236: 115.89626636121622\n",
      "Coordinate1--123--oneResidue1~139: 26.9528536010987\n",
      "Coordinate2--123--oneResidue2~240: 101.22841816895692\n",
      "Coordinate1--132--oneResidue1~148: 21.604372715564832\n",
      "Coordinate2--132--oneResidue2~23: 49.66101802868189\n",
      "Coordinate1--132--oneResidue1~148: 27.448567418836788\n",
      "Coordinate2--132--oneResidue2~95: 116.92496075739938\n",
      "Coordinate1--132--oneResidue1~148: 25.464589939146766\n",
      "Coordinate2--132--oneResidue2~96: 97.85967057591243\n",
      "Coordinate1--132--oneResidue1~148: 25.906621185333584\n",
      "Coordinate2--132--oneResidue2~97: 144.72310166350502\n",
      "Coordinate1--132--oneResidue1~148: 27.86089042462745\n",
      "Coordinate2--132--oneResidue2~100: 97.52378546120745\n",
      "Coordinate1--132--oneResidue1~148: 22.040781016871133\n",
      "Coordinate2--132--oneResidue2~102: 105.77609879952274\n",
      "Coordinate1--132--oneResidue1~148: 39.59913910331055\n",
      "Coordinate2--132--oneResidue2~127: 27.168409228774248\n",
      "Coordinate1--132--oneResidue1~148: 31.97266326637503\n",
      "Coordinate2--132--oneResidue2~132: 120.7694993562801\n",
      "Coordinate1--132--oneResidue1~148: 32.421870691872684\n",
      "Coordinate2--132--oneResidue2~178: 59.667393033168814\n",
      "Coordinate1--132--oneResidue1~148: 18.50036527929378\n",
      "Coordinate2--132--oneResidue2~185: 86.80278805173909\n",
      "Coordinate1--132--oneResidue1~148: 13.274454754522898\n",
      "Coordinate2--132--oneResidue2~189: 157.3537442426389\n",
      "Coordinate1--132--oneResidue1~148: 11.024246127216271\n",
      "Coordinate2--132--oneResidue2~194: 83.23719526906761\n",
      "Coordinate1--132--oneResidue1~148: 37.5337888111939\n",
      "Coordinate2--132--oneResidue2~204: 56.61597878334249\n",
      "Coordinate1--132--oneResidue1~148: 22.269333715620153\n",
      "Coordinate2--132--oneResidue2~223: 86.3048823708926\n",
      "Coordinate1--132--oneResidue1~148: 36.880273292700075\n",
      "Coordinate2--132--oneResidue2~236: 123.91818725096394\n",
      "Coordinate1--132--oneResidue1~148: 38.54242051124241\n",
      "Coordinate2--132--oneResidue2~240: 144.81416463619433\n",
      "Coordinate1--136--oneResidue1~152: 13.151139681063038\n",
      "Coordinate2--136--oneResidue2~23: 70.43953542330397\n",
      "Coordinate1--136--oneResidue1~152: 28.907249084235122\n",
      "Coordinate2--136--oneResidue2~95: 74.0407601158379\n",
      "Coordinate1--136--oneResidue1~152: 26.958182552301036\n",
      "Coordinate2--136--oneResidue2~96: 122.76293090764636\n",
      "Coordinate1--136--oneResidue1~152: 28.849786225402713\n",
      "Coordinate2--136--oneResidue2~97: 126.39581992688849\n",
      "Coordinate1--136--oneResidue1~152: 28.290700693377445\n",
      "Coordinate2--136--oneResidue2~100: 61.213733357957345\n",
      "Coordinate1--136--oneResidue1~152: 21.346098934631076\n",
      "Coordinate2--136--oneResidue2~102: 110.07874132093693\n",
      "Coordinate1--136--oneResidue1~152: 35.45961983121607\n",
      "Coordinate2--136--oneResidue2~127: 47.83471064755415\n",
      "Coordinate1--136--oneResidue1~152: 30.5457301210407\n",
      "Coordinate2--136--oneResidue2~132: 78.91593980199534\n",
      "Coordinate1--136--oneResidue1~152: 31.880543583802762\n",
      "Coordinate2--136--oneResidue2~178: 40.23581249313002\n",
      "Coordinate1--136--oneResidue1~152: 18.04392494699717\n",
      "Coordinate2--136--oneResidue2~185: 113.82037770054\n",
      "Coordinate1--136--oneResidue1~152: 13.682457860519806\n",
      "Coordinate2--136--oneResidue2~189: 114.51416833558939\n",
      "Coordinate1--136--oneResidue1~152: 7.9731767110607095\n",
      "Coordinate2--136--oneResidue2~194: 77.4965509607401\n",
      "Coordinate1--136--oneResidue1~152: 31.433407127124593\n",
      "Coordinate2--136--oneResidue2~204: 53.01467009301884\n",
      "Coordinate1--136--oneResidue1~152: 24.89062346024272\n",
      "Coordinate2--136--oneResidue2~223: 60.83671868711098\n",
      "Coordinate1--136--oneResidue1~152: 33.61750781475555\n",
      "Coordinate2--136--oneResidue2~236: 80.21931041692021\n",
      "Coordinate1--136--oneResidue1~152: 34.935199120506006\n",
      "Coordinate2--136--oneResidue2~240: 107.99285131628079\n",
      "Coordinate1--149--oneResidue1~165: 33.589377778341635\n",
      "Coordinate2--149--oneResidue2~23: 92.27835504665978\n",
      "Coordinate1--149--oneResidue1~165: 21.12987775985659\n",
      "Coordinate2--149--oneResidue2~95: 105.14808197295052\n",
      "Coordinate1--149--oneResidue1~165: 25.548174154974497\n",
      "Coordinate2--149--oneResidue2~96: 77.58720694697485\n",
      "Coordinate1--149--oneResidue1~165: 24.262427162995188\n",
      "Coordinate2--149--oneResidue2~97: 103.71640020744066\n",
      "Coordinate1--149--oneResidue1~165: 16.175903171155014\n",
      "Coordinate2--149--oneResidue2~100: 62.343662409261874\n",
      "Coordinate1--149--oneResidue1~165: 18.80196987773447\n",
      "Coordinate2--149--oneResidue2~102: 147.72500648915522\n",
      "Coordinate1--149--oneResidue1~165: 16.420235340603675\n",
      "Coordinate2--149--oneResidue2~127: 18.166101180796016\n",
      "Coordinate1--149--oneResidue1~165: 6.812897359315353\n",
      "Coordinate2--149--oneResidue2~132: 88.33118191934103\n",
      "Coordinate1--149--oneResidue1~165: 8.991158522180898\n",
      "Coordinate2--149--oneResidue2~178: 22.515477547022982\n",
      "Coordinate1--149--oneResidue1~165: 18.435085235732373\n",
      "Coordinate2--149--oneResidue2~185: 127.48237142975658\n",
      "Coordinate1--149--oneResidue1~165: 18.7620089299392\n",
      "Coordinate2--149--oneResidue2~189: 119.14675123598644\n",
      "Coordinate1--149--oneResidue1~165: 23.69828369387373\n",
      "Coordinate2--149--oneResidue2~194: 118.6322577177406\n",
      "Coordinate1--149--oneResidue1~165: 22.746800197062555\n",
      "Coordinate2--149--oneResidue2~204: 13.730741071764688\n",
      "Coordinate1--149--oneResidue1~165: 16.767639227960068\n",
      "Coordinate2--149--oneResidue2~223: 106.03380475202901\n",
      "Coordinate1--149--oneResidue1~165: 19.870602513385073\n",
      "Coordinate2--149--oneResidue2~236: 107.04346672015632\n",
      "Coordinate1--149--oneResidue1~165: 27.021593700568374\n",
      "Coordinate2--149--oneResidue2~240: 103.43520271723254\n",
      "Coordinate1--150--oneResidue1~166: 35.864086569930315\n",
      "Coordinate2--150--oneResidue2~23: 44.789349336518875\n",
      "Coordinate1--150--oneResidue1~166: 23.878370632618\n",
      "Coordinate2--150--oneResidue2~95: 88.31365125649364\n",
      "Coordinate1--150--oneResidue1~166: 28.37754756668482\n",
      "Coordinate2--150--oneResidue2~96: 127.33432528440086\n",
      "Coordinate1--150--oneResidue1~166: 26.228818539811844\n",
      "Coordinate2--150--oneResidue2~97: 152.31036215571885\n",
      "Coordinate1--150--oneResidue1~166: 19.454533801045358\n",
      "Coordinate2--150--oneResidue2~100: 87.04715861941408\n",
      "Coordinate1--150--oneResidue1~166: 22.28703751623692\n",
      "Coordinate2--150--oneResidue2~102: 91.93475195807304\n",
      "Coordinate1--150--oneResidue1~166: 20.895736116594602\n",
      "Coordinate2--150--oneResidue2~127: 49.58148819884547\n",
      "Coordinate1--150--oneResidue1~166: 7.157537981189262\n",
      "Coordinate2--150--oneResidue2~132: 102.3364812496345\n",
      "Coordinate1--150--oneResidue1~166: 13.012209779989995\n",
      "Coordinate2--150--oneResidue2~178: 61.87454605450196\n",
      "Coordinate1--150--oneResidue1~166: 18.056518786740206\n",
      "Coordinate2--150--oneResidue2~185: 88.47684929954913\n",
      "Coordinate1--150--oneResidue1~166: 19.495097495572907\n",
      "Coordinate2--150--oneResidue2~189: 134.50931288570024\n",
      "Coordinate1--150--oneResidue1~166: 25.863644618182754\n",
      "Coordinate2--150--oneResidue2~194: 61.59241571503702\n",
      "Coordinate1--150--oneResidue1~166: 26.137026338278346\n",
      "Coordinate2--150--oneResidue2~204: 69.12956663764632\n",
      "Coordinate1--150--oneResidue1~166: 14.228948297377034\n",
      "Coordinate2--150--oneResidue2~223: 56.86882165396708\n",
      "Coordinate1--150--oneResidue1~166: 24.85355885532613\n",
      "Coordinate2--150--oneResidue2~236: 96.0704852065997\n",
      "Coordinate1--150--oneResidue1~166: 31.94807774389364\n",
      "Coordinate2--150--oneResidue2~240: 132.29033804383988\n",
      "Coordinate1--179--oneResidue1~195: 22.01034747774044\n",
      "Coordinate2--179--oneResidue2~23: 118.21594389078642\n",
      "Coordinate1--179--oneResidue1~195: 15.80034185767535\n",
      "Coordinate2--179--oneResidue2~95: 56.4992429362068\n",
      "Coordinate1--179--oneResidue1~195: 14.400412199631509\n",
      "Coordinate2--179--oneResidue2~96: 94.73900999746486\n",
      "Coordinate1--179--oneResidue1~195: 16.485174837148175\n",
      "Coordinate2--179--oneResidue2~97: 48.63927545249085\n",
      "Coordinate1--179--oneResidue1~195: 15.342248684027332\n",
      "Coordinate2--179--oneResidue2~100: 86.74142558760371\n",
      "Coordinate1--179--oneResidue1~195: 8.358337785875873\n",
      "Coordinate2--179--oneResidue2~102: 62.384481673196625\n",
      "Coordinate1--179--oneResidue1~195: 27.849049855175405\n",
      "Coordinate2--179--oneResidue2~127: 164.65487632453903\n",
      "Coordinate1--179--oneResidue1~195: 24.747728589417328\n",
      "Coordinate2--179--oneResidue2~132: 61.362633894793774\n",
      "Coordinate1--179--oneResidue1~195: 20.539155012892497\n",
      "Coordinate2--179--oneResidue2~178: 126.76871330998218\n",
      "Coordinate1--179--oneResidue1~195: 18.22894604860506\n",
      "Coordinate2--179--oneResidue2~185: 85.4921144159521\n",
      "Coordinate1--179--oneResidue1~195: 11.298750477308891\n",
      "Coordinate2--179--oneResidue2~189: 27.772059744548947\n",
      "Coordinate1--179--oneResidue1~195: 6.034514472963899\n",
      "Coordinate2--179--oneResidue2~194: 83.09934917296889\n",
      "Coordinate1--179--oneResidue1~195: 29.07295352778729\n",
      "Coordinate2--179--oneResidue2~204: 133.81263381788327\n",
      "Coordinate1--179--oneResidue1~195: 21.717441314616273\n",
      "Coordinate2--179--oneResidue2~223: 81.06133032230304\n",
      "Coordinate1--179--oneResidue1~195: 23.045900927055072\n",
      "Coordinate2--179--oneResidue2~236: 50.878369363675134\n",
      "Coordinate1--179--oneResidue1~195: 24.615065444232744\n",
      "Coordinate2--179--oneResidue2~240: 43.52203766921989\n",
      "Coordinate1--198--oneResidue1~214: 25.746197188944524\n",
      "Coordinate2--198--oneResidue2~23: 133.6528117992415\n",
      "Coordinate1--198--oneResidue1~214: 11.822127351522118\n",
      "Coordinate2--198--oneResidue2~95: 54.75590859668082\n",
      "Coordinate1--198--oneResidue1~214: 12.886750929161687\n",
      "Coordinate2--198--oneResidue2~96: 90.04233016500001\n",
      "Coordinate1--198--oneResidue1~214: 14.050118255310085\n",
      "Coordinate2--198--oneResidue2~97: 62.5487295265299\n",
      "Coordinate1--198--oneResidue1~214: 9.546970409891975\n",
      "Coordinate2--198--oneResidue2~100: 4.944530053818387\n",
      "Coordinate1--198--oneResidue1~214: 4.4863425100789405\n",
      "Coordinate2--198--oneResidue2~102: 135.1006333540052\n",
      "Coordinate1--198--oneResidue1~214: 22.819075532131066\n",
      "Coordinate2--198--oneResidue2~127: 78.69694141770253\n",
      "Coordinate1--198--oneResidue1~214: 19.84017695966391\n",
      "Coordinate2--198--oneResidue2~132: 28.01409293244347\n",
      "Coordinate1--198--oneResidue1~214: 13.758285836288232\n",
      "Coordinate2--198--oneResidue2~178: 39.34400832582351\n",
      "Coordinate1--198--oneResidue1~214: 17.795090654076994\n",
      "Coordinate2--198--oneResidue2~185: 167.4096365185648\n",
      "Coordinate1--198--oneResidue1~214: 12.004553473449242\n",
      "Coordinate2--198--oneResidue2~189: 60.262822677765676\n",
      "Coordinate1--198--oneResidue1~214: 11.01652395022187\n",
      "Coordinate2--198--oneResidue2~194: 118.28952597905995\n",
      "Coordinate1--198--oneResidue1~214: 26.51105163769732\n",
      "Coordinate2--198--oneResidue2~204: 50.42637285385044\n",
      "Coordinate1--198--oneResidue1~214: 19.601363911528846\n",
      "Coordinate2--198--oneResidue2~223: 89.94173560589061\n",
      "Coordinate1--198--oneResidue1~214: 18.21007078997097\n",
      "Coordinate2--198--oneResidue2~236: 52.12264153779109\n",
      "Coordinate1--198--oneResidue1~214: 21.369817946374795\n",
      "Coordinate2--198--oneResidue2~240: 47.283252966490814\n"
     ]
    }
   ],
   "source": [
    "allTwoResidue = oneChain[(oneChain[\"Residue\"] == residue1)|(oneChain[\"Residue\"] == residue2)]\n",
    "allTwoResidue.is_copy = False\n",
    "allTwoResidue.loc[:,\"active\"] = np.where(allTwoResidue[\"Seq\"].isin(bindingSiteDic[pdbID][chainOrder]),\"yes\",\"no\")\n",
    "allTwoResidue[\"all_point\"] = None\n",
    "allTwoResidue[\"PDBID\"] = pdbID\n",
    "allTwoResidue[\"Chain\"] = chainOrder\n",
    "rawAllTwoResidue=allTwoResidue.copy(deep=True)\n",
    "for i,row in allTwoResidue.iterrows():\n",
    "    if row[\"Residue\"] == residue1:\n",
    "        allPoint = list()\n",
    "        oneResidue1 = row[\"Seq\"]\n",
    "        for oneResidue2 in rawAllTwoResidue[rawAllTwoResidue[\"Residue\"]==residue2][\"Seq\"]:\n",
    "            coordinate1=distanceMatrix.loc[oneResidue1,oneResidue2]\n",
    "            coordinate2=angleMatrix.loc[oneResidue1,oneResidue2]      \n",
    "            allPoint.append(str(coordinate1))\n",
    "            allPoint.append(str(coordinate2))\n",
    "            print(\"Coordinate1--{}--oneResidue1~{}: {}\".format(i,oneResidue1,coordinate1))\n",
    "            print(\"Coordinate2--{}--oneResidue2~{}: {}\".format(i,oneResidue2,coordinate2))\n",
    "        allTwoResidue.set_value(i,\"all_point\",\",\".join(allPoint))"
   ]
  },
  {
   "cell_type": "code",
   "execution_count": 341,
   "metadata": {
    "scrolled": false
   },
   "outputs": [
    {
     "data": {
      "text/plain": [
       "True"
      ]
     },
     "execution_count": 341,
     "metadata": {},
     "output_type": "execute_result"
    }
   ],
   "source": [
    "structure[0][\"B\"][110].get_id()[2]==\" \""
   ]
  },
  {
   "cell_type": "code",
   "execution_count": 317,
   "metadata": {},
   "outputs": [
    {
     "data": {
      "text/html": [
       "<div>\n",
       "<style>\n",
       "    .dataframe thead tr:only-child th {\n",
       "        text-align: right;\n",
       "    }\n",
       "\n",
       "    .dataframe thead th {\n",
       "        text-align: left;\n",
       "    }\n",
       "\n",
       "    .dataframe tbody tr th {\n",
       "        vertical-align: top;\n",
       "    }\n",
       "</style>\n",
       "<table border=\"1\" class=\"dataframe\">\n",
       "  <thead>\n",
       "    <tr style=\"text-align: right;\">\n",
       "      <th></th>\n",
       "      <th>Seq</th>\n",
       "      <th>Residue</th>\n",
       "      <th>Center</th>\n",
       "      <th>Direction</th>\n",
       "    </tr>\n",
       "  </thead>\n",
       "  <tbody>\n",
       "    <tr>\n",
       "      <th>100</th>\n",
       "      <td>110</td>\n",
       "      <td>ASP</td>\n",
       "      <td>&lt;Vector 15.83, 3.95, 43.16&gt;</td>\n",
       "      <td>&lt;Vector -0.01, 1.14, 1.90&gt;</td>\n",
       "    </tr>\n",
       "    <tr>\n",
       "      <th>101</th>\n",
       "      <td>110</td>\n",
       "      <td>SER</td>\n",
       "      <td>&lt;Vector 18.68, 7.30, 42.80&gt;</td>\n",
       "      <td>&lt;Vector 0.00, 0.30, 1.82&gt;</td>\n",
       "    </tr>\n",
       "    <tr>\n",
       "      <th>102</th>\n",
       "      <td>110</td>\n",
       "      <td>SER</td>\n",
       "      <td>&lt;Vector 20.85, 11.45, 45.34&gt;</td>\n",
       "      <td>&lt;Vector -1.59, -0.09, -1.07&gt;</td>\n",
       "    </tr>\n",
       "    <tr>\n",
       "      <th>103</th>\n",
       "      <td>110</td>\n",
       "      <td>ARG</td>\n",
       "      <td>&lt;Vector 21.85, 12.32, 38.80&gt;</td>\n",
       "      <td>&lt;Vector -3.67, -1.23, 1.79&gt;</td>\n",
       "    </tr>\n",
       "    <tr>\n",
       "      <th>104</th>\n",
       "      <td>111</td>\n",
       "      <td>CYS</td>\n",
       "      <td>&lt;Vector 14.54, 11.85, 40.69&gt;</td>\n",
       "      <td>&lt;Vector -0.00, -1.07, -1.10&gt;</td>\n",
       "    </tr>\n",
       "    <tr>\n",
       "      <th>105</th>\n",
       "      <td>112</td>\n",
       "      <td>ALA</td>\n",
       "      <td>&lt;Vector 13.22, 12.92, 36.89&gt;</td>\n",
       "      <td>&lt;Vector 0.25, -1.03, -0.78&gt;</td>\n",
       "    </tr>\n",
       "    <tr>\n",
       "      <th>106</th>\n",
       "      <td>113</td>\n",
       "      <td>GLN</td>\n",
       "      <td>&lt;Vector 16.57, 7.93, 33.63&gt;</td>\n",
       "      <td>&lt;Vector -0.73, 3.11, -0.35&gt;</td>\n",
       "    </tr>\n",
       "    <tr>\n",
       "      <th>107</th>\n",
       "      <td>114</td>\n",
       "      <td>GLU</td>\n",
       "      <td>&lt;Vector 18.24, 14.80, 29.31&gt;</td>\n",
       "      <td>&lt;Vector -1.89, -1.66, 0.88&gt;</td>\n",
       "    </tr>\n",
       "    <tr>\n",
       "      <th>108</th>\n",
       "      <td>115</td>\n",
       "      <td>SER</td>\n",
       "      <td>&lt;Vector 13.35, 11.74, 27.80&gt;</td>\n",
       "      <td>&lt;Vector 1.53, 0.28, -0.86&gt;</td>\n",
       "    </tr>\n",
       "    <tr>\n",
       "      <th>109</th>\n",
       "      <td>116</td>\n",
       "      <td>SER</td>\n",
       "      <td>&lt;Vector 12.78, 12.08, 22.94&gt;</td>\n",
       "      <td>&lt;Vector 0.49, 1.63, 1.00&gt;</td>\n",
       "    </tr>\n",
       "    <tr>\n",
       "      <th>110</th>\n",
       "      <td>117</td>\n",
       "      <td>VAL</td>\n",
       "      <td>&lt;Vector 9.85, 12.30, 25.65&gt;</td>\n",
       "      <td>&lt;Vector 0.22, 1.57, 0.34&gt;</td>\n",
       "    </tr>\n",
       "    <tr>\n",
       "      <th>111</th>\n",
       "      <td>118</td>\n",
       "      <td>VAL</td>\n",
       "      <td>&lt;Vector 11.31, 13.61, 30.02&gt;</td>\n",
       "      <td>&lt;Vector 0.12, 1.16, -0.62&gt;</td>\n",
       "    </tr>\n",
       "    <tr>\n",
       "      <th>112</th>\n",
       "      <td>119</td>\n",
       "      <td>ARG</td>\n",
       "      <td>&lt;Vector 15.46, 17.57, 26.33&gt;</td>\n",
       "      <td>&lt;Vector -1.74, 0.19, 3.65&gt;</td>\n",
       "    </tr>\n",
       "    <tr>\n",
       "      <th>113</th>\n",
       "      <td>120</td>\n",
       "      <td>THR</td>\n",
       "      <td>&lt;Vector 15.71, 20.37, 33.17&gt;</td>\n",
       "      <td>&lt;Vector -1.78, 0.33, -0.74&gt;</td>\n",
       "    </tr>\n",
       "    <tr>\n",
       "      <th>114</th>\n",
       "      <td>121</td>\n",
       "      <td>VAL</td>\n",
       "      <td>&lt;Vector 11.73, 24.59, 32.31&gt;</td>\n",
       "      <td>&lt;Vector 1.41, -0.24, -0.67&gt;</td>\n",
       "    </tr>\n",
       "    <tr>\n",
       "      <th>115</th>\n",
       "      <td>122</td>\n",
       "      <td>CYS</td>\n",
       "      <td>&lt;Vector 16.21, 26.90, 31.09&gt;</td>\n",
       "      <td>&lt;Vector -0.37, -0.06, 1.58&gt;</td>\n",
       "    </tr>\n",
       "    <tr>\n",
       "      <th>116</th>\n",
       "      <td>123</td>\n",
       "      <td>LEU</td>\n",
       "      <td>&lt;Vector 15.08, 27.71, 37.40&gt;</td>\n",
       "      <td>&lt;Vector 0.02, 1.30, -1.67&gt;</td>\n",
       "    </tr>\n",
       "    <tr>\n",
       "      <th>117</th>\n",
       "      <td>124</td>\n",
       "      <td>PRO</td>\n",
       "      <td>&lt;Vector 13.66, 32.74, 36.00&gt;</td>\n",
       "      <td>&lt;Vector 1.59, 0.04, -0.94&gt;</td>\n",
       "    </tr>\n",
       "    <tr>\n",
       "      <th>118</th>\n",
       "      <td>125</td>\n",
       "      <td>PRO</td>\n",
       "      <td>&lt;Vector 18.35, 35.02, 34.17&gt;</td>\n",
       "      <td>&lt;Vector -0.15, -0.03, 1.85&gt;</td>\n",
       "    </tr>\n",
       "    <tr>\n",
       "      <th>119</th>\n",
       "      <td>126</td>\n",
       "      <td>ALA</td>\n",
       "      <td>&lt;Vector 18.38, 36.33, 39.41&gt;</td>\n",
       "      <td>&lt;Vector -1.15, 0.62, -0.29&gt;</td>\n",
       "    </tr>\n",
       "    <tr>\n",
       "      <th>120</th>\n",
       "      <td>127</td>\n",
       "      <td>ASP</td>\n",
       "      <td>&lt;Vector 19.85, 39.84, 36.82&gt;</td>\n",
       "      <td>&lt;Vector -2.17, 0.30, 0.30&gt;</td>\n",
       "    </tr>\n",
       "    <tr>\n",
       "      <th>121</th>\n",
       "      <td>128</td>\n",
       "      <td>LEU</td>\n",
       "      <td>&lt;Vector 14.98, 37.42, 33.26&gt;</td>\n",
       "      <td>&lt;Vector 0.71, 1.53, 0.87&gt;</td>\n",
       "    </tr>\n",
       "    <tr>\n",
       "      <th>122</th>\n",
       "      <td>129</td>\n",
       "      <td>GLN</td>\n",
       "      <td>&lt;Vector 15.23, 43.89, 34.52&gt;</td>\n",
       "      <td>&lt;Vector -1.60, -2.15, -1.93&gt;</td>\n",
       "    </tr>\n",
       "    <tr>\n",
       "      <th>123</th>\n",
       "      <td>130</td>\n",
       "      <td>LEU</td>\n",
       "      <td>&lt;Vector 11.74, 39.29, 29.18&gt;</td>\n",
       "      <td>&lt;Vector 0.24, 2.09, 0.03&gt;</td>\n",
       "    </tr>\n",
       "    <tr>\n",
       "      <th>124</th>\n",
       "      <td>131</td>\n",
       "      <td>PRO</td>\n",
       "      <td>&lt;Vector 11.87, 43.55, 25.96&gt;</td>\n",
       "      <td>&lt;Vector -1.35, 0.66, 1.12&gt;</td>\n",
       "    </tr>\n",
       "    <tr>\n",
       "      <th>125</th>\n",
       "      <td>132</td>\n",
       "      <td>ASP</td>\n",
       "      <td>&lt;Vector 6.57, 46.54, 28.22&gt;</td>\n",
       "      <td>&lt;Vector 0.19, -1.78, -1.08&gt;</td>\n",
       "    </tr>\n",
       "    <tr>\n",
       "      <th>126</th>\n",
       "      <td>133</td>\n",
       "      <td>TRP</td>\n",
       "      <td>&lt;Vector 2.73, 45.37, 24.99&gt;</td>\n",
       "      <td>&lt;Vector 2.14, -2.76, -0.30&gt;</td>\n",
       "    </tr>\n",
       "    <tr>\n",
       "      <th>127</th>\n",
       "      <td>134</td>\n",
       "      <td>THR</td>\n",
       "      <td>&lt;Vector 8.64, 40.22, 25.76&gt;</td>\n",
       "      <td>&lt;Vector -1.09, -0.30, -1.27&gt;</td>\n",
       "    </tr>\n",
       "    <tr>\n",
       "      <th>128</th>\n",
       "      <td>135</td>\n",
       "      <td>GLU</td>\n",
       "      <td>&lt;Vector 5.28, 35.83, 20.60&gt;</td>\n",
       "      <td>&lt;Vector 0.68, 0.99, 2.36&gt;</td>\n",
       "    </tr>\n",
       "    <tr>\n",
       "      <th>129</th>\n",
       "      <td>136</td>\n",
       "      <td>CYS</td>\n",
       "      <td>&lt;Vector 5.94, 34.94, 26.10&gt;</td>\n",
       "      <td>&lt;Vector 0.04, -1.15, -0.89&gt;</td>\n",
       "    </tr>\n",
       "    <tr>\n",
       "      <th>...</th>\n",
       "      <td>...</td>\n",
       "      <td>...</td>\n",
       "      <td>...</td>\n",
       "      <td>...</td>\n",
       "    </tr>\n",
       "    <tr>\n",
       "      <th>212</th>\n",
       "      <td>215</td>\n",
       "      <td>TRP</td>\n",
       "      <td>&lt;Vector -5.39, 35.79, 39.56&gt;</td>\n",
       "      <td>&lt;Vector -0.13, -3.21, -1.83&gt;</td>\n",
       "    </tr>\n",
       "    <tr>\n",
       "      <th>213</th>\n",
       "      <td>216</td>\n",
       "      <td>GLY</td>\n",
       "      <td>&lt;Vector -7.73, 34.71, 35.53&gt;</td>\n",
       "      <td>&lt;Vector 1.05, 0.48, -0.65&gt;</td>\n",
       "    </tr>\n",
       "    <tr>\n",
       "      <th>214</th>\n",
       "      <td>217</td>\n",
       "      <td>LEU</td>\n",
       "      <td>&lt;Vector -10.72, 37.89, 35.64&gt;</td>\n",
       "      <td>&lt;Vector -0.54, -1.95, -0.76&gt;</td>\n",
       "    </tr>\n",
       "    <tr>\n",
       "      <th>215</th>\n",
       "      <td>219</td>\n",
       "      <td>GLY</td>\n",
       "      <td>&lt;Vector -12.90, 33.45, 32.56&gt;</td>\n",
       "      <td>&lt;Vector -1.31, 0.21, -0.11&gt;</td>\n",
       "    </tr>\n",
       "    <tr>\n",
       "      <th>216</th>\n",
       "      <td>220</td>\n",
       "      <td>CYS</td>\n",
       "      <td>&lt;Vector -11.31, 31.08, 30.28&gt;</td>\n",
       "      <td>&lt;Vector 0.64, 1.11, -0.53&gt;</td>\n",
       "    </tr>\n",
       "    <tr>\n",
       "      <th>217</th>\n",
       "      <td>221</td>\n",
       "      <td>GLY</td>\n",
       "      <td>&lt;Vector -9.77, 34.35, 26.80&gt;</td>\n",
       "      <td>&lt;Vector 0.76, -0.64, 0.14&gt;</td>\n",
       "    </tr>\n",
       "    <tr>\n",
       "      <th>218</th>\n",
       "      <td>221</td>\n",
       "      <td>GLN</td>\n",
       "      <td>&lt;Vector -13.25, 36.77, 29.89&gt;</td>\n",
       "      <td>&lt;Vector 1.44, 0.76, -2.65&gt;</td>\n",
       "    </tr>\n",
       "    <tr>\n",
       "      <th>219</th>\n",
       "      <td>222</td>\n",
       "      <td>LYS</td>\n",
       "      <td>&lt;Vector -11.81, 43.24, 22.05&gt;</td>\n",
       "      <td>&lt;Vector 1.11, -2.74, 3.10&gt;</td>\n",
       "    </tr>\n",
       "    <tr>\n",
       "      <th>220</th>\n",
       "      <td>223</td>\n",
       "      <td>ASP</td>\n",
       "      <td>&lt;Vector -8.85, 44.14, 25.60&gt;</td>\n",
       "      <td>&lt;Vector 0.54, -1.31, 1.37&gt;</td>\n",
       "    </tr>\n",
       "    <tr>\n",
       "      <th>221</th>\n",
       "      <td>224</td>\n",
       "      <td>VAL</td>\n",
       "      <td>&lt;Vector -9.86, 40.43, 30.40&gt;</td>\n",
       "      <td>&lt;Vector 1.38, 0.33, -0.23&gt;</td>\n",
       "    </tr>\n",
       "    <tr>\n",
       "      <th>222</th>\n",
       "      <td>225</td>\n",
       "      <td>PRO</td>\n",
       "      <td>&lt;Vector -4.73, 40.92, 31.36&gt;</td>\n",
       "      <td>&lt;Vector -0.26, -1.71, -0.71&gt;</td>\n",
       "    </tr>\n",
       "    <tr>\n",
       "      <th>223</th>\n",
       "      <td>226</td>\n",
       "      <td>GLY</td>\n",
       "      <td>&lt;Vector -4.15, 36.00, 32.46&gt;</td>\n",
       "      <td>&lt;Vector -0.95, -0.93, -0.28&gt;</td>\n",
       "    </tr>\n",
       "    <tr>\n",
       "      <th>224</th>\n",
       "      <td>227</td>\n",
       "      <td>VAL</td>\n",
       "      <td>&lt;Vector -3.19, 36.78, 36.61&gt;</td>\n",
       "      <td>&lt;Vector 0.94, -0.56, -0.87&gt;</td>\n",
       "    </tr>\n",
       "    <tr>\n",
       "      <th>225</th>\n",
       "      <td>228</td>\n",
       "      <td>TYR</td>\n",
       "      <td>&lt;Vector 0.23, 33.80, 33.00&gt;</td>\n",
       "      <td>&lt;Vector 0.67, 0.47, 3.61&gt;</td>\n",
       "    </tr>\n",
       "    <tr>\n",
       "      <th>226</th>\n",
       "      <td>229</td>\n",
       "      <td>THR</td>\n",
       "      <td>&lt;Vector 2.71, 32.26, 40.47&gt;</td>\n",
       "      <td>&lt;Vector 0.39, 1.60, -0.84&gt;</td>\n",
       "    </tr>\n",
       "    <tr>\n",
       "      <th>227</th>\n",
       "      <td>230</td>\n",
       "      <td>LYS</td>\n",
       "      <td>&lt;Vector 6.36, 40.01, 39.33&gt;</td>\n",
       "      <td>&lt;Vector -0.12, -4.02, -0.29&gt;</td>\n",
       "    </tr>\n",
       "    <tr>\n",
       "      <th>228</th>\n",
       "      <td>231</td>\n",
       "      <td>VAL</td>\n",
       "      <td>&lt;Vector 8.85, 32.30, 38.23&gt;</td>\n",
       "      <td>&lt;Vector 0.16, 1.04, 1.15&gt;</td>\n",
       "    </tr>\n",
       "    <tr>\n",
       "      <th>229</th>\n",
       "      <td>232</td>\n",
       "      <td>THR</td>\n",
       "      <td>&lt;Vector 11.54, 37.02, 38.19&gt;</td>\n",
       "      <td>&lt;Vector 0.46, -1.30, 1.38&gt;</td>\n",
       "    </tr>\n",
       "    <tr>\n",
       "      <th>230</th>\n",
       "      <td>233</td>\n",
       "      <td>ASN</td>\n",
       "      <td>&lt;Vector 8.79, 38.63, 42.58&gt;</td>\n",
       "      <td>&lt;Vector 1.78, -1.89, 0.37&gt;</td>\n",
       "    </tr>\n",
       "    <tr>\n",
       "      <th>231</th>\n",
       "      <td>234</td>\n",
       "      <td>TYR</td>\n",
       "      <td>&lt;Vector 7.30, 34.06, 44.66&gt;</td>\n",
       "      <td>&lt;Vector 3.52, -0.89, -0.45&gt;</td>\n",
       "    </tr>\n",
       "    <tr>\n",
       "      <th>232</th>\n",
       "      <td>235</td>\n",
       "      <td>LEU</td>\n",
       "      <td>&lt;Vector 14.72, 32.93, 41.32&gt;</td>\n",
       "      <td>&lt;Vector -0.39, -0.90, 1.92&gt;</td>\n",
       "    </tr>\n",
       "    <tr>\n",
       "      <th>233</th>\n",
       "      <td>236</td>\n",
       "      <td>ASP</td>\n",
       "      <td>&lt;Vector 14.80, 34.33, 47.12&gt;</td>\n",
       "      <td>&lt;Vector 0.87, -2.02, -0.36&gt;</td>\n",
       "    </tr>\n",
       "    <tr>\n",
       "      <th>234</th>\n",
       "      <td>237</td>\n",
       "      <td>TRP</td>\n",
       "      <td>&lt;Vector 9.23, 29.02, 48.29&gt;</td>\n",
       "      <td>&lt;Vector 3.35, 1.38, -0.22&gt;</td>\n",
       "    </tr>\n",
       "    <tr>\n",
       "      <th>235</th>\n",
       "      <td>238</td>\n",
       "      <td>ILE</td>\n",
       "      <td>&lt;Vector 12.62, 28.27, 43.60&gt;</td>\n",
       "      <td>&lt;Vector 0.42, -0.58, 1.84&gt;</td>\n",
       "    </tr>\n",
       "    <tr>\n",
       "      <th>236</th>\n",
       "      <td>239</td>\n",
       "      <td>ARG</td>\n",
       "      <td>&lt;Vector 17.72, 28.59, 42.71&gt;</td>\n",
       "      <td>&lt;Vector -1.07, -1.40, 3.87&gt;</td>\n",
       "    </tr>\n",
       "    <tr>\n",
       "      <th>237</th>\n",
       "      <td>240</td>\n",
       "      <td>ASP</td>\n",
       "      <td>&lt;Vector 15.37, 28.15, 51.77&gt;</td>\n",
       "      <td>&lt;Vector 0.64, -0.91, -1.45&gt;</td>\n",
       "    </tr>\n",
       "    <tr>\n",
       "      <th>238</th>\n",
       "      <td>241</td>\n",
       "      <td>ASN</td>\n",
       "      <td>&lt;Vector 11.84, 26.68, 50.22&gt;</td>\n",
       "      <td>&lt;Vector 1.37, -1.92, -0.40&gt;</td>\n",
       "    </tr>\n",
       "    <tr>\n",
       "      <th>239</th>\n",
       "      <td>242</td>\n",
       "      <td>MET</td>\n",
       "      <td>&lt;Vector 15.37, 22.83, 45.14&gt;</td>\n",
       "      <td>&lt;Vector -0.54, -0.61, 2.42&gt;</td>\n",
       "    </tr>\n",
       "    <tr>\n",
       "      <th>240</th>\n",
       "      <td>243</td>\n",
       "      <td>ARG</td>\n",
       "      <td>&lt;Vector 17.48, 23.44, 52.08&gt;</td>\n",
       "      <td>&lt;Vector -1.85, -3.60, -1.62&gt;</td>\n",
       "    </tr>\n",
       "    <tr>\n",
       "      <th>241</th>\n",
       "      <td>244</td>\n",
       "      <td>PRO</td>\n",
       "      <td>&lt;Vector 17.25, 16.54, 51.09&gt;</td>\n",
       "      <td>&lt;Vector -1.19, -0.51, -0.55&gt;</td>\n",
       "    </tr>\n",
       "  </tbody>\n",
       "</table>\n",
       "<p>142 rows × 4 columns</p>\n",
       "</div>"
      ],
      "text/plain": [
       "     Seq Residue                         Center                     Direction\n",
       "100  110     ASP    <Vector 15.83, 3.95, 43.16>    <Vector -0.01, 1.14, 1.90>\n",
       "101  110     SER    <Vector 18.68, 7.30, 42.80>     <Vector 0.00, 0.30, 1.82>\n",
       "102  110     SER   <Vector 20.85, 11.45, 45.34>  <Vector -1.59, -0.09, -1.07>\n",
       "103  110     ARG   <Vector 21.85, 12.32, 38.80>   <Vector -3.67, -1.23, 1.79>\n",
       "104  111     CYS   <Vector 14.54, 11.85, 40.69>  <Vector -0.00, -1.07, -1.10>\n",
       "105  112     ALA   <Vector 13.22, 12.92, 36.89>   <Vector 0.25, -1.03, -0.78>\n",
       "106  113     GLN    <Vector 16.57, 7.93, 33.63>   <Vector -0.73, 3.11, -0.35>\n",
       "107  114     GLU   <Vector 18.24, 14.80, 29.31>   <Vector -1.89, -1.66, 0.88>\n",
       "108  115     SER   <Vector 13.35, 11.74, 27.80>    <Vector 1.53, 0.28, -0.86>\n",
       "109  116     SER   <Vector 12.78, 12.08, 22.94>     <Vector 0.49, 1.63, 1.00>\n",
       "110  117     VAL    <Vector 9.85, 12.30, 25.65>     <Vector 0.22, 1.57, 0.34>\n",
       "111  118     VAL   <Vector 11.31, 13.61, 30.02>    <Vector 0.12, 1.16, -0.62>\n",
       "112  119     ARG   <Vector 15.46, 17.57, 26.33>    <Vector -1.74, 0.19, 3.65>\n",
       "113  120     THR   <Vector 15.71, 20.37, 33.17>   <Vector -1.78, 0.33, -0.74>\n",
       "114  121     VAL   <Vector 11.73, 24.59, 32.31>   <Vector 1.41, -0.24, -0.67>\n",
       "115  122     CYS   <Vector 16.21, 26.90, 31.09>   <Vector -0.37, -0.06, 1.58>\n",
       "116  123     LEU   <Vector 15.08, 27.71, 37.40>    <Vector 0.02, 1.30, -1.67>\n",
       "117  124     PRO   <Vector 13.66, 32.74, 36.00>    <Vector 1.59, 0.04, -0.94>\n",
       "118  125     PRO   <Vector 18.35, 35.02, 34.17>   <Vector -0.15, -0.03, 1.85>\n",
       "119  126     ALA   <Vector 18.38, 36.33, 39.41>   <Vector -1.15, 0.62, -0.29>\n",
       "120  127     ASP   <Vector 19.85, 39.84, 36.82>    <Vector -2.17, 0.30, 0.30>\n",
       "121  128     LEU   <Vector 14.98, 37.42, 33.26>     <Vector 0.71, 1.53, 0.87>\n",
       "122  129     GLN   <Vector 15.23, 43.89, 34.52>  <Vector -1.60, -2.15, -1.93>\n",
       "123  130     LEU   <Vector 11.74, 39.29, 29.18>     <Vector 0.24, 2.09, 0.03>\n",
       "124  131     PRO   <Vector 11.87, 43.55, 25.96>    <Vector -1.35, 0.66, 1.12>\n",
       "125  132     ASP    <Vector 6.57, 46.54, 28.22>   <Vector 0.19, -1.78, -1.08>\n",
       "126  133     TRP    <Vector 2.73, 45.37, 24.99>   <Vector 2.14, -2.76, -0.30>\n",
       "127  134     THR    <Vector 8.64, 40.22, 25.76>  <Vector -1.09, -0.30, -1.27>\n",
       "128  135     GLU    <Vector 5.28, 35.83, 20.60>     <Vector 0.68, 0.99, 2.36>\n",
       "129  136     CYS    <Vector 5.94, 34.94, 26.10>   <Vector 0.04, -1.15, -0.89>\n",
       "..   ...     ...                            ...                           ...\n",
       "212  215     TRP   <Vector -5.39, 35.79, 39.56>  <Vector -0.13, -3.21, -1.83>\n",
       "213  216     GLY   <Vector -7.73, 34.71, 35.53>    <Vector 1.05, 0.48, -0.65>\n",
       "214  217     LEU  <Vector -10.72, 37.89, 35.64>  <Vector -0.54, -1.95, -0.76>\n",
       "215  219     GLY  <Vector -12.90, 33.45, 32.56>   <Vector -1.31, 0.21, -0.11>\n",
       "216  220     CYS  <Vector -11.31, 31.08, 30.28>    <Vector 0.64, 1.11, -0.53>\n",
       "217  221     GLY   <Vector -9.77, 34.35, 26.80>    <Vector 0.76, -0.64, 0.14>\n",
       "218  221     GLN  <Vector -13.25, 36.77, 29.89>    <Vector 1.44, 0.76, -2.65>\n",
       "219  222     LYS  <Vector -11.81, 43.24, 22.05>    <Vector 1.11, -2.74, 3.10>\n",
       "220  223     ASP   <Vector -8.85, 44.14, 25.60>    <Vector 0.54, -1.31, 1.37>\n",
       "221  224     VAL   <Vector -9.86, 40.43, 30.40>    <Vector 1.38, 0.33, -0.23>\n",
       "222  225     PRO   <Vector -4.73, 40.92, 31.36>  <Vector -0.26, -1.71, -0.71>\n",
       "223  226     GLY   <Vector -4.15, 36.00, 32.46>  <Vector -0.95, -0.93, -0.28>\n",
       "224  227     VAL   <Vector -3.19, 36.78, 36.61>   <Vector 0.94, -0.56, -0.87>\n",
       "225  228     TYR    <Vector 0.23, 33.80, 33.00>     <Vector 0.67, 0.47, 3.61>\n",
       "226  229     THR    <Vector 2.71, 32.26, 40.47>    <Vector 0.39, 1.60, -0.84>\n",
       "227  230     LYS    <Vector 6.36, 40.01, 39.33>  <Vector -0.12, -4.02, -0.29>\n",
       "228  231     VAL    <Vector 8.85, 32.30, 38.23>     <Vector 0.16, 1.04, 1.15>\n",
       "229  232     THR   <Vector 11.54, 37.02, 38.19>    <Vector 0.46, -1.30, 1.38>\n",
       "230  233     ASN    <Vector 8.79, 38.63, 42.58>    <Vector 1.78, -1.89, 0.37>\n",
       "231  234     TYR    <Vector 7.30, 34.06, 44.66>   <Vector 3.52, -0.89, -0.45>\n",
       "232  235     LEU   <Vector 14.72, 32.93, 41.32>   <Vector -0.39, -0.90, 1.92>\n",
       "233  236     ASP   <Vector 14.80, 34.33, 47.12>   <Vector 0.87, -2.02, -0.36>\n",
       "234  237     TRP    <Vector 9.23, 29.02, 48.29>    <Vector 3.35, 1.38, -0.22>\n",
       "235  238     ILE   <Vector 12.62, 28.27, 43.60>    <Vector 0.42, -0.58, 1.84>\n",
       "236  239     ARG   <Vector 17.72, 28.59, 42.71>   <Vector -1.07, -1.40, 3.87>\n",
       "237  240     ASP   <Vector 15.37, 28.15, 51.77>   <Vector 0.64, -0.91, -1.45>\n",
       "238  241     ASN   <Vector 11.84, 26.68, 50.22>   <Vector 1.37, -1.92, -0.40>\n",
       "239  242     MET   <Vector 15.37, 22.83, 45.14>   <Vector -0.54, -0.61, 2.42>\n",
       "240  243     ARG   <Vector 17.48, 23.44, 52.08>  <Vector -1.85, -3.60, -1.62>\n",
       "241  244     PRO   <Vector 17.25, 16.54, 51.09>  <Vector -1.19, -0.51, -0.55>\n",
       "\n",
       "[142 rows x 4 columns]"
      ]
     },
     "execution_count": 317,
     "metadata": {},
     "output_type": "execute_result"
    }
   ],
   "source": [
    "oneChain.iloc[100:,]"
   ]
  },
  {
   "cell_type": "code",
   "execution_count": 423,
   "metadata": {},
   "outputs": [
    {
     "name": "stdout",
     "output_type": "stream",
     "text": [
      "Structure exists: 'Y:/Yuan/temp\\pdb1lam.ent' \n",
      "0th row\n"
     ]
    },
    {
     "name": "stderr",
     "output_type": "stream",
     "text": [
      "C:\\Users\\Administrator\\Anaconda3\\envs\\pdbPy3\\lib\\site-packages\\ipykernel_launcher.py:46: RuntimeWarning: invalid value encountered in arccos\n"
     ]
    },
    {
     "name": "stdout",
     "output_type": "stream",
     "text": [
      "50th row\n",
      "100th row\n",
      "150th row\n",
      "200th row\n",
      "250th row\n",
      "300th row\n",
      "350th row\n",
      "400th row\n",
      "450th row\n",
      "Structure exists: 'Y:/Yuan/temp\\pdb1lok.ent' \n",
      "0th row\n"
     ]
    },
    {
     "name": "stderr",
     "output_type": "stream",
     "text": [
      "C:\\Users\\Administrator\\Anaconda3\\envs\\pdbPy3\\lib\\site-packages\\ipykernel_launcher.py:46: RuntimeWarning: invalid value encountered in arccos\n"
     ]
    },
    {
     "name": "stdout",
     "output_type": "stream",
     "text": [
      "50th row\n",
      "100th row\n",
      "150th row\n",
      "200th row\n",
      "250th row\n",
      "Structure exists: 'Y:/Yuan/temp\\pdb1xgm.ent' \n"
     ]
    },
    {
     "name": "stderr",
     "output_type": "stream",
     "text": [
      "C:\\Users\\Administrator\\Anaconda3\\envs\\pdbPy3\\lib\\site-packages\\Bio\\PDB\\StructureBuilder.py:91: PDBConstructionWarning: WARNING: Chain A is discontinuous at line 5132.\n",
      "  PDBConstructionWarning)\n",
      "C:\\Users\\Administrator\\Anaconda3\\envs\\pdbPy3\\lib\\site-packages\\Bio\\PDB\\StructureBuilder.py:91: PDBConstructionWarning: WARNING: Chain B is discontinuous at line 5134.\n",
      "  PDBConstructionWarning)\n",
      "C:\\Users\\Administrator\\Anaconda3\\envs\\pdbPy3\\lib\\site-packages\\Bio\\PDB\\StructureBuilder.py:91: PDBConstructionWarning: WARNING: Chain A is discontinuous at line 5136.\n",
      "  PDBConstructionWarning)\n",
      "C:\\Users\\Administrator\\Anaconda3\\envs\\pdbPy3\\lib\\site-packages\\Bio\\PDB\\StructureBuilder.py:91: PDBConstructionWarning: WARNING: Chain B is discontinuous at line 5141.\n",
      "  PDBConstructionWarning)\n"
     ]
    },
    {
     "name": "stdout",
     "output_type": "stream",
     "text": [
      "0th row\n"
     ]
    },
    {
     "name": "stderr",
     "output_type": "stream",
     "text": [
      "C:\\Users\\Administrator\\Anaconda3\\envs\\pdbPy3\\lib\\site-packages\\ipykernel_launcher.py:46: RuntimeWarning: invalid value encountered in arccos\n"
     ]
    },
    {
     "name": "stdout",
     "output_type": "stream",
     "text": [
      "50th row\n",
      "100th row\n",
      "150th row\n",
      "200th row\n",
      "250th row\n",
      "Structure exists: 'Y:/Yuan/temp\\pdb1b65.ent' \n"
     ]
    },
    {
     "name": "stderr",
     "output_type": "stream",
     "text": [
      "C:\\Users\\Administrator\\Anaconda3\\envs\\pdbPy3\\lib\\site-packages\\Bio\\PDB\\StructureBuilder.py:91: PDBConstructionWarning: WARNING: Chain A is discontinuous at line 17416.\n",
      "  PDBConstructionWarning)\n",
      "C:\\Users\\Administrator\\Anaconda3\\envs\\pdbPy3\\lib\\site-packages\\Bio\\PDB\\StructureBuilder.py:91: PDBConstructionWarning: WARNING: Chain B is discontinuous at line 17636.\n",
      "  PDBConstructionWarning)\n",
      "C:\\Users\\Administrator\\Anaconda3\\envs\\pdbPy3\\lib\\site-packages\\Bio\\PDB\\StructureBuilder.py:91: PDBConstructionWarning: WARNING: Chain C is discontinuous at line 17856.\n",
      "  PDBConstructionWarning)\n",
      "C:\\Users\\Administrator\\Anaconda3\\envs\\pdbPy3\\lib\\site-packages\\Bio\\PDB\\StructureBuilder.py:91: PDBConstructionWarning: WARNING: Chain D is discontinuous at line 18086.\n",
      "  PDBConstructionWarning)\n",
      "C:\\Users\\Administrator\\Anaconda3\\envs\\pdbPy3\\lib\\site-packages\\Bio\\PDB\\StructureBuilder.py:91: PDBConstructionWarning: WARNING: Chain E is discontinuous at line 18302.\n",
      "  PDBConstructionWarning)\n",
      "C:\\Users\\Administrator\\Anaconda3\\envs\\pdbPy3\\lib\\site-packages\\Bio\\PDB\\StructureBuilder.py:91: PDBConstructionWarning: WARNING: Chain F is discontinuous at line 18509.\n",
      "  PDBConstructionWarning)\n"
     ]
    },
    {
     "name": "stdout",
     "output_type": "stream",
     "text": [
      "0th row\n"
     ]
    },
    {
     "name": "stderr",
     "output_type": "stream",
     "text": [
      "C:\\Users\\Administrator\\Anaconda3\\envs\\pdbPy3\\lib\\site-packages\\ipykernel_launcher.py:46: RuntimeWarning: invalid value encountered in arccos\n"
     ]
    },
    {
     "name": "stdout",
     "output_type": "stream",
     "text": [
      "50th row\n",
      "100th row\n",
      "150th row\n",
      "200th row\n",
      "250th row\n",
      "300th row\n",
      "350th row\n",
      "Structure exists: 'Y:/Yuan/temp\\pdb1ei5.ent' \n"
     ]
    },
    {
     "name": "stderr",
     "output_type": "stream",
     "text": [
      "C:\\Users\\Administrator\\Anaconda3\\envs\\pdbPy3\\lib\\site-packages\\Bio\\PDB\\vectors.py:273: RuntimeWarning: invalid value encountered in true_divide\n",
      "  a = self._ar / numpy.array(x)\n"
     ]
    },
    {
     "name": "stdout",
     "output_type": "stream",
     "text": [
      "0th row\n"
     ]
    },
    {
     "name": "stderr",
     "output_type": "stream",
     "text": [
      "C:\\Users\\Administrator\\Anaconda3\\envs\\pdbPy3\\lib\\site-packages\\ipykernel_launcher.py:46: RuntimeWarning: invalid value encountered in arccos\n"
     ]
    },
    {
     "name": "stdout",
     "output_type": "stream",
     "text": [
      "50th row\n",
      "100th row\n",
      "150th row\n",
      "200th row\n",
      "250th row\n",
      "300th row\n",
      "350th row\n",
      "400th row\n",
      "450th row\n",
      "500th row\n",
      "Structure exists: 'Y:/Yuan/temp\\pdb1azw.ent' \n"
     ]
    },
    {
     "name": "stderr",
     "output_type": "stream",
     "text": [
      "C:\\Users\\Administrator\\Anaconda3\\envs\\pdbPy3\\lib\\site-packages\\Bio\\PDB\\StructureBuilder.py:91: PDBConstructionWarning: WARNING: Chain A is discontinuous at line 5519.\n",
      "  PDBConstructionWarning)\n",
      "C:\\Users\\Administrator\\Anaconda3\\envs\\pdbPy3\\lib\\site-packages\\Bio\\PDB\\StructureBuilder.py:91: PDBConstructionWarning: WARNING: Chain B is discontinuous at line 5610.\n",
      "  PDBConstructionWarning)\n"
     ]
    },
    {
     "name": "stdout",
     "output_type": "stream",
     "text": [
      "0th row\n"
     ]
    },
    {
     "name": "stderr",
     "output_type": "stream",
     "text": [
      "C:\\Users\\Administrator\\Anaconda3\\envs\\pdbPy3\\lib\\site-packages\\ipykernel_launcher.py:46: RuntimeWarning: invalid value encountered in arccos\n"
     ]
    },
    {
     "name": "stdout",
     "output_type": "stream",
     "text": [
      "50th row\n",
      "100th row\n",
      "150th row\n",
      "200th row\n",
      "250th row\n",
      "300th row\n",
      "Structure exists: 'Y:/Yuan/temp\\pdb1a16.ent' \n",
      "0th row\n"
     ]
    },
    {
     "name": "stderr",
     "output_type": "stream",
     "text": [
      "C:\\Users\\Administrator\\Anaconda3\\envs\\pdbPy3\\lib\\site-packages\\ipykernel_launcher.py:46: RuntimeWarning: invalid value encountered in arccos\n"
     ]
    },
    {
     "name": "stdout",
     "output_type": "stream",
     "text": [
      "50th row\n",
      "100th row\n",
      "150th row\n",
      "200th row\n",
      "250th row\n",
      "300th row\n",
      "350th row\n",
      "400th row\n",
      "Structure exists: 'Y:/Yuan/temp\\pdb1itq.ent' \n"
     ]
    },
    {
     "name": "stderr",
     "output_type": "stream",
     "text": [
      "C:\\Users\\Administrator\\Anaconda3\\envs\\pdbPy3\\lib\\site-packages\\Bio\\PDB\\StructureBuilder.py:91: PDBConstructionWarning: WARNING: Chain A is discontinuous at line 6343.\n",
      "  PDBConstructionWarning)\n",
      "C:\\Users\\Administrator\\Anaconda3\\envs\\pdbPy3\\lib\\site-packages\\Bio\\PDB\\StructureBuilder.py:91: PDBConstructionWarning: WARNING: Chain B is discontinuous at line 6373.\n",
      "  PDBConstructionWarning)\n",
      "C:\\Users\\Administrator\\Anaconda3\\envs\\pdbPy3\\lib\\site-packages\\Bio\\PDB\\StructureBuilder.py:91: PDBConstructionWarning: WARNING: Chain A is discontinuous at line 6403.\n",
      "  PDBConstructionWarning)\n",
      "C:\\Users\\Administrator\\Anaconda3\\envs\\pdbPy3\\lib\\site-packages\\Bio\\PDB\\StructureBuilder.py:91: PDBConstructionWarning: WARNING: Chain B is discontinuous at line 6516.\n",
      "  PDBConstructionWarning)\n"
     ]
    },
    {
     "name": "stdout",
     "output_type": "stream",
     "text": [
      "0th row\n"
     ]
    },
    {
     "name": "stderr",
     "output_type": "stream",
     "text": [
      "C:\\Users\\Administrator\\Anaconda3\\envs\\pdbPy3\\lib\\site-packages\\ipykernel_launcher.py:46: RuntimeWarning: invalid value encountered in arccos\n"
     ]
    },
    {
     "name": "stdout",
     "output_type": "stream",
     "text": [
      "50th row\n",
      "100th row\n",
      "150th row\n",
      "200th row\n",
      "250th row\n",
      "300th row\n",
      "350th row\n",
      "Structure exists: 'Y:/Yuan/temp\\pdb1fy2.ent' \n",
      "0th row\n"
     ]
    },
    {
     "name": "stderr",
     "output_type": "stream",
     "text": [
      "C:\\Users\\Administrator\\Anaconda3\\envs\\pdbPy3\\lib\\site-packages\\ipykernel_launcher.py:46: RuntimeWarning: invalid value encountered in arccos\n"
     ]
    },
    {
     "name": "stdout",
     "output_type": "stream",
     "text": [
      "50th row\n",
      "100th row\n",
      "150th row\n",
      "200th row\n",
      "Structure exists: 'Y:/Yuan/temp\\pdb1r44.ent' \n"
     ]
    },
    {
     "name": "stderr",
     "output_type": "stream",
     "text": [
      "C:\\Users\\Administrator\\Anaconda3\\envs\\pdbPy3\\lib\\site-packages\\Bio\\PDB\\StructureBuilder.py:91: PDBConstructionWarning: WARNING: Chain A is discontinuous at line 10667.\n",
      "  PDBConstructionWarning)\n",
      "C:\\Users\\Administrator\\Anaconda3\\envs\\pdbPy3\\lib\\site-packages\\Bio\\PDB\\StructureBuilder.py:91: PDBConstructionWarning: WARNING: Chain B is discontinuous at line 10668.\n",
      "  PDBConstructionWarning)\n",
      "C:\\Users\\Administrator\\Anaconda3\\envs\\pdbPy3\\lib\\site-packages\\Bio\\PDB\\StructureBuilder.py:91: PDBConstructionWarning: WARNING: Chain C is discontinuous at line 10669.\n",
      "  PDBConstructionWarning)\n",
      "C:\\Users\\Administrator\\Anaconda3\\envs\\pdbPy3\\lib\\site-packages\\Bio\\PDB\\StructureBuilder.py:91: PDBConstructionWarning: WARNING: Chain D is discontinuous at line 10670.\n",
      "  PDBConstructionWarning)\n",
      "C:\\Users\\Administrator\\Anaconda3\\envs\\pdbPy3\\lib\\site-packages\\Bio\\PDB\\StructureBuilder.py:91: PDBConstructionWarning: WARNING: Chain E is discontinuous at line 10671.\n",
      "  PDBConstructionWarning)\n",
      "C:\\Users\\Administrator\\Anaconda3\\envs\\pdbPy3\\lib\\site-packages\\Bio\\PDB\\StructureBuilder.py:91: PDBConstructionWarning: WARNING: Chain F is discontinuous at line 10672.\n",
      "  PDBConstructionWarning)\n",
      "C:\\Users\\Administrator\\Anaconda3\\envs\\pdbPy3\\lib\\site-packages\\Bio\\PDB\\StructureBuilder.py:91: PDBConstructionWarning: WARNING: Chain A is discontinuous at line 10673.\n",
      "  PDBConstructionWarning)\n",
      "C:\\Users\\Administrator\\Anaconda3\\envs\\pdbPy3\\lib\\site-packages\\Bio\\PDB\\StructureBuilder.py:91: PDBConstructionWarning: WARNING: Chain B is discontinuous at line 10675.\n",
      "  PDBConstructionWarning)\n",
      "C:\\Users\\Administrator\\Anaconda3\\envs\\pdbPy3\\lib\\site-packages\\Bio\\PDB\\StructureBuilder.py:91: PDBConstructionWarning: WARNING: Chain C is discontinuous at line 10677.\n",
      "  PDBConstructionWarning)\n",
      "C:\\Users\\Administrator\\Anaconda3\\envs\\pdbPy3\\lib\\site-packages\\Bio\\PDB\\StructureBuilder.py:91: PDBConstructionWarning: WARNING: Chain D is discontinuous at line 10679.\n",
      "  PDBConstructionWarning)\n",
      "C:\\Users\\Administrator\\Anaconda3\\envs\\pdbPy3\\lib\\site-packages\\Bio\\PDB\\StructureBuilder.py:91: PDBConstructionWarning: WARNING: Chain E is discontinuous at line 10681.\n",
      "  PDBConstructionWarning)\n",
      "C:\\Users\\Administrator\\Anaconda3\\envs\\pdbPy3\\lib\\site-packages\\Bio\\PDB\\StructureBuilder.py:91: PDBConstructionWarning: WARNING: Chain F is discontinuous at line 10683.\n",
      "  PDBConstructionWarning)\n"
     ]
    },
    {
     "name": "stdout",
     "output_type": "stream",
     "text": [
      "0th row\n"
     ]
    },
    {
     "name": "stderr",
     "output_type": "stream",
     "text": [
      "C:\\Users\\Administrator\\Anaconda3\\envs\\pdbPy3\\lib\\site-packages\\ipykernel_launcher.py:46: RuntimeWarning: invalid value encountered in arccos\n"
     ]
    },
    {
     "name": "stdout",
     "output_type": "stream",
     "text": [
      "50th row\n",
      "100th row\n",
      "150th row\n",
      "200th row\n",
      "Structure exists: 'Y:/Yuan/temp\\pdb1pfq.ent' \n"
     ]
    },
    {
     "name": "stderr",
     "output_type": "stream",
     "text": [
      "C:\\Users\\Administrator\\Anaconda3\\envs\\pdbPy3\\lib\\site-packages\\Bio\\PDB\\StructureBuilder.py:91: PDBConstructionWarning: WARNING: Chain A is discontinuous at line 12693.\n",
      "  PDBConstructionWarning)\n",
      "C:\\Users\\Administrator\\Anaconda3\\envs\\pdbPy3\\lib\\site-packages\\Bio\\PDB\\StructureBuilder.py:91: PDBConstructionWarning: WARNING: Chain B is discontinuous at line 12721.\n",
      "  PDBConstructionWarning)\n",
      "C:\\Users\\Administrator\\Anaconda3\\envs\\pdbPy3\\lib\\site-packages\\Bio\\PDB\\StructureBuilder.py:91: PDBConstructionWarning: WARNING: Chain A is discontinuous at line 12749.\n",
      "  PDBConstructionWarning)\n",
      "C:\\Users\\Administrator\\Anaconda3\\envs\\pdbPy3\\lib\\site-packages\\Bio\\PDB\\StructureBuilder.py:91: PDBConstructionWarning: WARNING: Chain B is discontinuous at line 13017.\n",
      "  PDBConstructionWarning)\n"
     ]
    },
    {
     "name": "stdout",
     "output_type": "stream",
     "text": [
      "0th row\n"
     ]
    },
    {
     "name": "stderr",
     "output_type": "stream",
     "text": [
      "C:\\Users\\Administrator\\Anaconda3\\envs\\pdbPy3\\lib\\site-packages\\ipykernel_launcher.py:46: RuntimeWarning: invalid value encountered in arccos\n"
     ]
    },
    {
     "name": "stdout",
     "output_type": "stream",
     "text": [
      "50th row\n",
      "100th row\n",
      "150th row\n",
      "200th row\n",
      "250th row\n",
      "300th row\n",
      "350th row\n",
      "400th row\n",
      "450th row\n",
      "500th row\n",
      "550th row\n",
      "600th row\n",
      "650th row\n",
      "700th row\n",
      "Structure exists: 'Y:/Yuan/temp\\pdb1whs.ent' \n"
     ]
    },
    {
     "name": "stderr",
     "output_type": "stream",
     "text": [
      "C:\\Users\\Administrator\\Anaconda3\\envs\\pdbPy3\\lib\\site-packages\\Bio\\PDB\\StructureBuilder.py:91: PDBConstructionWarning: WARNING: Chain A is discontinuous at line 3750.\n",
      "  PDBConstructionWarning)\n",
      "C:\\Users\\Administrator\\Anaconda3\\envs\\pdbPy3\\lib\\site-packages\\Bio\\PDB\\StructureBuilder.py:91: PDBConstructionWarning: WARNING: Chain B is discontinuous at line 3812.\n",
      "  PDBConstructionWarning)\n",
      "C:\\Users\\Administrator\\Anaconda3\\envs\\pdbPy3\\lib\\site-packages\\Bio\\PDB\\StructureBuilder.py:91: PDBConstructionWarning: WARNING: Chain A is discontinuous at line 3844.\n",
      "  PDBConstructionWarning)\n",
      "C:\\Users\\Administrator\\Anaconda3\\envs\\pdbPy3\\lib\\site-packages\\Bio\\PDB\\StructureBuilder.py:91: PDBConstructionWarning: WARNING: Chain B is discontinuous at line 4075.\n",
      "  PDBConstructionWarning)\n"
     ]
    },
    {
     "name": "stdout",
     "output_type": "stream",
     "text": [
      "1whs skipped\n",
      "Structure exists: 'Y:/Yuan/temp\\pdb1whs.ent' \n"
     ]
    },
    {
     "name": "stderr",
     "output_type": "stream",
     "text": [
      "C:\\Users\\Administrator\\Anaconda3\\envs\\pdbPy3\\lib\\site-packages\\Bio\\PDB\\StructureBuilder.py:91: PDBConstructionWarning: WARNING: Chain A is discontinuous at line 3750.\n",
      "  PDBConstructionWarning)\n",
      "C:\\Users\\Administrator\\Anaconda3\\envs\\pdbPy3\\lib\\site-packages\\Bio\\PDB\\StructureBuilder.py:91: PDBConstructionWarning: WARNING: Chain B is discontinuous at line 3812.\n",
      "  PDBConstructionWarning)\n",
      "C:\\Users\\Administrator\\Anaconda3\\envs\\pdbPy3\\lib\\site-packages\\Bio\\PDB\\StructureBuilder.py:91: PDBConstructionWarning: WARNING: Chain A is discontinuous at line 3844.\n",
      "  PDBConstructionWarning)\n",
      "C:\\Users\\Administrator\\Anaconda3\\envs\\pdbPy3\\lib\\site-packages\\Bio\\PDB\\StructureBuilder.py:91: PDBConstructionWarning: WARNING: Chain B is discontinuous at line 4075.\n",
      "  PDBConstructionWarning)\n",
      "C:\\Users\\Administrator\\Anaconda3\\envs\\pdbPy3\\lib\\site-packages\\Bio\\PDB\\vectors.py:273: RuntimeWarning: invalid value encountered in true_divide\n",
      "  a = self._ar / numpy.array(x)\n"
     ]
    },
    {
     "name": "stdout",
     "output_type": "stream",
     "text": [
      "0th row\n"
     ]
    },
    {
     "name": "stderr",
     "output_type": "stream",
     "text": [
      "C:\\Users\\Administrator\\Anaconda3\\envs\\pdbPy3\\lib\\site-packages\\ipykernel_launcher.py:46: RuntimeWarning: invalid value encountered in arccos\n"
     ]
    },
    {
     "name": "stdout",
     "output_type": "stream",
     "text": [
      "50th row\n",
      "100th row\n",
      "Structure exists: 'Y:/Yuan/temp\\pdb1m4l.ent' \n",
      "0th row\n"
     ]
    },
    {
     "name": "stderr",
     "output_type": "stream",
     "text": [
      "C:\\Users\\Administrator\\Anaconda3\\envs\\pdbPy3\\lib\\site-packages\\ipykernel_launcher.py:46: RuntimeWarning: invalid value encountered in arccos\n"
     ]
    },
    {
     "name": "stdout",
     "output_type": "stream",
     "text": [
      "50th row\n",
      "100th row\n",
      "150th row\n",
      "200th row\n",
      "250th row\n",
      "300th row\n",
      "Structure exists: 'Y:/Yuan/temp\\pdb1cg2.ent' \n"
     ]
    },
    {
     "name": "stderr",
     "output_type": "stream",
     "text": [
      "C:\\Users\\Administrator\\Anaconda3\\envs\\pdbPy3\\lib\\site-packages\\Bio\\PDB\\StructureBuilder.py:91: PDBConstructionWarning: WARNING: Chain A is discontinuous at line 12097.\n",
      "  PDBConstructionWarning)\n",
      "C:\\Users\\Administrator\\Anaconda3\\envs\\pdbPy3\\lib\\site-packages\\Bio\\PDB\\StructureBuilder.py:91: PDBConstructionWarning: WARNING: Chain B is discontinuous at line 12101.\n",
      "  PDBConstructionWarning)\n",
      "C:\\Users\\Administrator\\Anaconda3\\envs\\pdbPy3\\lib\\site-packages\\Bio\\PDB\\StructureBuilder.py:91: PDBConstructionWarning: WARNING: Chain C is discontinuous at line 12104.\n",
      "  PDBConstructionWarning)\n",
      "C:\\Users\\Administrator\\Anaconda3\\envs\\pdbPy3\\lib\\site-packages\\Bio\\PDB\\StructureBuilder.py:91: PDBConstructionWarning: WARNING: Chain D is discontinuous at line 12107.\n",
      "  PDBConstructionWarning)\n",
      "C:\\Users\\Administrator\\Anaconda3\\envs\\pdbPy3\\lib\\site-packages\\Bio\\PDB\\StructureBuilder.py:91: PDBConstructionWarning: WARNING: Chain A is discontinuous at line 12110.\n",
      "  PDBConstructionWarning)\n",
      "C:\\Users\\Administrator\\Anaconda3\\envs\\pdbPy3\\lib\\site-packages\\Bio\\PDB\\StructureBuilder.py:91: PDBConstructionWarning: WARNING: Chain B is discontinuous at line 12202.\n",
      "  PDBConstructionWarning)\n",
      "C:\\Users\\Administrator\\Anaconda3\\envs\\pdbPy3\\lib\\site-packages\\Bio\\PDB\\StructureBuilder.py:91: PDBConstructionWarning: WARNING: Chain C is discontinuous at line 12290.\n",
      "  PDBConstructionWarning)\n",
      "C:\\Users\\Administrator\\Anaconda3\\envs\\pdbPy3\\lib\\site-packages\\Bio\\PDB\\StructureBuilder.py:91: PDBConstructionWarning: WARNING: Chain D is discontinuous at line 12366.\n",
      "  PDBConstructionWarning)\n"
     ]
    },
    {
     "name": "stdout",
     "output_type": "stream",
     "text": [
      "0th row\n"
     ]
    },
    {
     "name": "stderr",
     "output_type": "stream",
     "text": [
      "C:\\Users\\Administrator\\Anaconda3\\envs\\pdbPy3\\lib\\site-packages\\ipykernel_launcher.py:46: RuntimeWarning: invalid value encountered in arccos\n"
     ]
    },
    {
     "name": "stdout",
     "output_type": "stream",
     "text": [
      "50th row\n",
      "100th row\n",
      "150th row\n",
      "200th row\n",
      "250th row\n",
      "300th row\n",
      "350th row\n",
      "Structure exists: 'Y:/Yuan/temp\\pdb1lbu.ent' \n",
      "0th row\n"
     ]
    },
    {
     "name": "stderr",
     "output_type": "stream",
     "text": [
      "C:\\Users\\Administrator\\Anaconda3\\envs\\pdbPy3\\lib\\site-packages\\ipykernel_launcher.py:46: RuntimeWarning: invalid value encountered in arccos\n"
     ]
    },
    {
     "name": "stdout",
     "output_type": "stream",
     "text": [
      "50th row\n",
      "100th row\n",
      "150th row\n",
      "200th row\n",
      "Structure exists: 'Y:/Yuan/temp\\pdb1deu.ent' \n"
     ]
    },
    {
     "name": "stderr",
     "output_type": "stream",
     "text": [
      "C:\\Users\\Administrator\\Anaconda3\\envs\\pdbPy3\\lib\\site-packages\\Bio\\PDB\\StructureBuilder.py:91: PDBConstructionWarning: WARNING: Chain A is discontinuous at line 4763.\n",
      "  PDBConstructionWarning)\n",
      "C:\\Users\\Administrator\\Anaconda3\\envs\\pdbPy3\\lib\\site-packages\\Bio\\PDB\\StructureBuilder.py:91: PDBConstructionWarning: WARNING: Chain B is discontinuous at line 4985.\n",
      "  PDBConstructionWarning)\n"
     ]
    },
    {
     "name": "stdout",
     "output_type": "stream",
     "text": [
      "0th row\n"
     ]
    },
    {
     "name": "stderr",
     "output_type": "stream",
     "text": [
      "C:\\Users\\Administrator\\Anaconda3\\envs\\pdbPy3\\lib\\site-packages\\ipykernel_launcher.py:46: RuntimeWarning: invalid value encountered in arccos\n"
     ]
    },
    {
     "name": "stdout",
     "output_type": "stream",
     "text": [
      "50th row\n",
      "100th row\n",
      "150th row\n",
      "200th row\n",
      "Structure exists: 'Y:/Yuan/temp\\pdb1uch.ent' \n",
      "0th row\n"
     ]
    },
    {
     "name": "stderr",
     "output_type": "stream",
     "text": [
      "C:\\Users\\Administrator\\Anaconda3\\envs\\pdbPy3\\lib\\site-packages\\ipykernel_launcher.py:46: RuntimeWarning: invalid value encountered in arccos\n"
     ]
    },
    {
     "name": "stdout",
     "output_type": "stream",
     "text": [
      "50th row\n",
      "100th row\n",
      "150th row\n",
      "200th row\n",
      "Structure exists: 'Y:/Yuan/temp\\pdb1nbf.ent' \n"
     ]
    },
    {
     "name": "stderr",
     "output_type": "stream",
     "text": [
      "C:\\Users\\Administrator\\Anaconda3\\envs\\pdbPy3\\lib\\site-packages\\Bio\\PDB\\StructureBuilder.py:91: PDBConstructionWarning: WARNING: Chain A is discontinuous at line 10274.\n",
      "  PDBConstructionWarning)\n",
      "C:\\Users\\Administrator\\Anaconda3\\envs\\pdbPy3\\lib\\site-packages\\Bio\\PDB\\StructureBuilder.py:91: PDBConstructionWarning: WARNING: Chain B is discontinuous at line 10416.\n",
      "  PDBConstructionWarning)\n",
      "C:\\Users\\Administrator\\Anaconda3\\envs\\pdbPy3\\lib\\site-packages\\Bio\\PDB\\StructureBuilder.py:91: PDBConstructionWarning: WARNING: Chain C is discontinuous at line 10555.\n",
      "  PDBConstructionWarning)\n",
      "C:\\Users\\Administrator\\Anaconda3\\envs\\pdbPy3\\lib\\site-packages\\Bio\\PDB\\StructureBuilder.py:91: PDBConstructionWarning: WARNING: Chain D is discontinuous at line 10586.\n",
      "  PDBConstructionWarning)\n",
      "C:\\Users\\Administrator\\Anaconda3\\envs\\pdbPy3\\lib\\site-packages\\Bio\\PDB\\StructureBuilder.py:91: PDBConstructionWarning: WARNING: Chain E is discontinuous at line 10608.\n",
      "  PDBConstructionWarning)\n"
     ]
    },
    {
     "name": "stdout",
     "output_type": "stream",
     "text": [
      "0th row\n"
     ]
    },
    {
     "name": "stderr",
     "output_type": "stream",
     "text": [
      "C:\\Users\\Administrator\\Anaconda3\\envs\\pdbPy3\\lib\\site-packages\\ipykernel_launcher.py:46: RuntimeWarning: invalid value encountered in arccos\n"
     ]
    },
    {
     "name": "stdout",
     "output_type": "stream",
     "text": [
      "50th row\n",
      "100th row\n",
      "150th row\n",
      "200th row\n",
      "250th row\n",
      "300th row\n",
      "Structure exists: 'Y:/Yuan/temp\\pdb2bx4.ent' \n",
      "0th row\n"
     ]
    },
    {
     "name": "stderr",
     "output_type": "stream",
     "text": [
      "C:\\Users\\Administrator\\Anaconda3\\envs\\pdbPy3\\lib\\site-packages\\ipykernel_launcher.py:46: RuntimeWarning: invalid value encountered in arccos\n"
     ]
    },
    {
     "name": "stdout",
     "output_type": "stream",
     "text": [
      "50th row\n",
      "100th row\n",
      "150th row\n",
      "200th row\n",
      "250th row\n",
      "Structure exists: 'Y:/Yuan/temp\\pdb1aug.ent' \n"
     ]
    },
    {
     "name": "stderr",
     "output_type": "stream",
     "text": [
      "C:\\Users\\Administrator\\Anaconda3\\envs\\pdbPy3\\lib\\site-packages\\Bio\\PDB\\StructureBuilder.py:91: PDBConstructionWarning: WARNING: Chain A is discontinuous at line 8378.\n",
      "  PDBConstructionWarning)\n",
      "C:\\Users\\Administrator\\Anaconda3\\envs\\pdbPy3\\lib\\site-packages\\Bio\\PDB\\StructureBuilder.py:91: PDBConstructionWarning: WARNING: Chain B is discontinuous at line 8460.\n",
      "  PDBConstructionWarning)\n",
      "C:\\Users\\Administrator\\Anaconda3\\envs\\pdbPy3\\lib\\site-packages\\Bio\\PDB\\StructureBuilder.py:91: PDBConstructionWarning: WARNING: Chain C is discontinuous at line 8543.\n",
      "  PDBConstructionWarning)\n",
      "C:\\Users\\Administrator\\Anaconda3\\envs\\pdbPy3\\lib\\site-packages\\Bio\\PDB\\StructureBuilder.py:91: PDBConstructionWarning: WARNING: Chain D is discontinuous at line 8630.\n",
      "  PDBConstructionWarning)\n"
     ]
    },
    {
     "name": "stdout",
     "output_type": "stream",
     "text": [
      "0th row\n"
     ]
    },
    {
     "name": "stderr",
     "output_type": "stream",
     "text": [
      "C:\\Users\\Administrator\\Anaconda3\\envs\\pdbPy3\\lib\\site-packages\\ipykernel_launcher.py:46: RuntimeWarning: invalid value encountered in arccos\n"
     ]
    },
    {
     "name": "stdout",
     "output_type": "stream",
     "text": [
      "50th row\n",
      "100th row\n",
      "150th row\n",
      "200th row\n",
      "Structure exists: 'Y:/Yuan/temp\\pdb1onw.ent' \n"
     ]
    },
    {
     "name": "stderr",
     "output_type": "stream",
     "text": [
      "C:\\Users\\Administrator\\Anaconda3\\envs\\pdbPy3\\lib\\site-packages\\Bio\\PDB\\StructureBuilder.py:91: PDBConstructionWarning: WARNING: Chain A is discontinuous at line 6400.\n",
      "  PDBConstructionWarning)\n",
      "C:\\Users\\Administrator\\Anaconda3\\envs\\pdbPy3\\lib\\site-packages\\Bio\\PDB\\StructureBuilder.py:91: PDBConstructionWarning: WARNING: Chain B is discontinuous at line 6412.\n",
      "  PDBConstructionWarning)\n",
      "C:\\Users\\Administrator\\Anaconda3\\envs\\pdbPy3\\lib\\site-packages\\Bio\\PDB\\StructureBuilder.py:91: PDBConstructionWarning: WARNING: Chain A is discontinuous at line 6421.\n",
      "  PDBConstructionWarning)\n",
      "C:\\Users\\Administrator\\Anaconda3\\envs\\pdbPy3\\lib\\site-packages\\Bio\\PDB\\StructureBuilder.py:91: PDBConstructionWarning: WARNING: Chain B is discontinuous at line 6763.\n",
      "  PDBConstructionWarning)\n"
     ]
    },
    {
     "name": "stdout",
     "output_type": "stream",
     "text": [
      "0th row\n"
     ]
    },
    {
     "name": "stderr",
     "output_type": "stream",
     "text": [
      "C:\\Users\\Administrator\\Anaconda3\\envs\\pdbPy3\\lib\\site-packages\\ipykernel_launcher.py:46: RuntimeWarning: invalid value encountered in arccos\n"
     ]
    },
    {
     "name": "stdout",
     "output_type": "stream",
     "text": [
      "50th row\n",
      "100th row\n",
      "150th row\n",
      "200th row\n",
      "250th row\n",
      "300th row\n",
      "350th row\n",
      "Structure exists: 'Y:/Yuan/temp\\pdb1l9x.ent' \n"
     ]
    },
    {
     "name": "stderr",
     "output_type": "stream",
     "text": [
      "C:\\Users\\Administrator\\Anaconda3\\envs\\pdbPy3\\lib\\site-packages\\Bio\\PDB\\StructureBuilder.py:91: PDBConstructionWarning: WARNING: Chain A is discontinuous at line 10287.\n",
      "  PDBConstructionWarning)\n",
      "C:\\Users\\Administrator\\Anaconda3\\envs\\pdbPy3\\lib\\site-packages\\Bio\\PDB\\StructureBuilder.py:91: PDBConstructionWarning: WARNING: Chain B is discontinuous at line 10291.\n",
      "  PDBConstructionWarning)\n",
      "C:\\Users\\Administrator\\Anaconda3\\envs\\pdbPy3\\lib\\site-packages\\Bio\\PDB\\StructureBuilder.py:91: PDBConstructionWarning: WARNING: Chain C is discontinuous at line 10299.\n",
      "  PDBConstructionWarning)\n",
      "C:\\Users\\Administrator\\Anaconda3\\envs\\pdbPy3\\lib\\site-packages\\Bio\\PDB\\StructureBuilder.py:91: PDBConstructionWarning: WARNING: Chain D is discontinuous at line 10307.\n",
      "  PDBConstructionWarning)\n",
      "C:\\Users\\Administrator\\Anaconda3\\envs\\pdbPy3\\lib\\site-packages\\Bio\\PDB\\StructureBuilder.py:91: PDBConstructionWarning: WARNING: Chain A is discontinuous at line 10311.\n",
      "  PDBConstructionWarning)\n",
      "C:\\Users\\Administrator\\Anaconda3\\envs\\pdbPy3\\lib\\site-packages\\Bio\\PDB\\StructureBuilder.py:91: PDBConstructionWarning: WARNING: Chain B is discontinuous at line 10544.\n",
      "  PDBConstructionWarning)\n",
      "C:\\Users\\Administrator\\Anaconda3\\envs\\pdbPy3\\lib\\site-packages\\Bio\\PDB\\StructureBuilder.py:91: PDBConstructionWarning: WARNING: Chain C is discontinuous at line 10732.\n",
      "  PDBConstructionWarning)\n",
      "C:\\Users\\Administrator\\Anaconda3\\envs\\pdbPy3\\lib\\site-packages\\Bio\\PDB\\StructureBuilder.py:91: PDBConstructionWarning: WARNING: Chain D is discontinuous at line 10939.\n",
      "  PDBConstructionWarning)\n"
     ]
    },
    {
     "name": "stdout",
     "output_type": "stream",
     "text": [
      "0th row\n"
     ]
    },
    {
     "name": "stderr",
     "output_type": "stream",
     "text": [
      "C:\\Users\\Administrator\\Anaconda3\\envs\\pdbPy3\\lib\\site-packages\\ipykernel_launcher.py:46: RuntimeWarning: invalid value encountered in arccos\n"
     ]
    },
    {
     "name": "stdout",
     "output_type": "stream",
     "text": [
      "50th row\n",
      "100th row\n",
      "150th row\n",
      "200th row\n",
      "250th row\n",
      "Structure exists: 'Y:/Yuan/temp\\pdb1k32.ent' \n"
     ]
    },
    {
     "name": "stderr",
     "output_type": "stream",
     "text": [
      "C:\\Users\\Administrator\\Anaconda3\\envs\\pdbPy3\\lib\\site-packages\\Bio\\PDB\\StructureBuilder.py:91: PDBConstructionWarning: WARNING: Chain A is discontinuous at line 50895.\n",
      "  PDBConstructionWarning)\n",
      "C:\\Users\\Administrator\\Anaconda3\\envs\\pdbPy3\\lib\\site-packages\\Bio\\PDB\\StructureBuilder.py:91: PDBConstructionWarning: WARNING: Chain B is discontinuous at line 51296.\n",
      "  PDBConstructionWarning)\n",
      "C:\\Users\\Administrator\\Anaconda3\\envs\\pdbPy3\\lib\\site-packages\\Bio\\PDB\\StructureBuilder.py:91: PDBConstructionWarning: WARNING: Chain C is discontinuous at line 51691.\n",
      "  PDBConstructionWarning)\n",
      "C:\\Users\\Administrator\\Anaconda3\\envs\\pdbPy3\\lib\\site-packages\\Bio\\PDB\\StructureBuilder.py:91: PDBConstructionWarning: WARNING: Chain D is discontinuous at line 52089.\n",
      "  PDBConstructionWarning)\n",
      "C:\\Users\\Administrator\\Anaconda3\\envs\\pdbPy3\\lib\\site-packages\\Bio\\PDB\\StructureBuilder.py:91: PDBConstructionWarning: WARNING: Chain E is discontinuous at line 52490.\n",
      "  PDBConstructionWarning)\n",
      "C:\\Users\\Administrator\\Anaconda3\\envs\\pdbPy3\\lib\\site-packages\\Bio\\PDB\\StructureBuilder.py:91: PDBConstructionWarning: WARNING: Chain F is discontinuous at line 52895.\n",
      "  PDBConstructionWarning)\n"
     ]
    },
    {
     "name": "stdout",
     "output_type": "stream",
     "text": [
      "0th row\n"
     ]
    },
    {
     "name": "stderr",
     "output_type": "stream",
     "text": [
      "C:\\Users\\Administrator\\Anaconda3\\envs\\pdbPy3\\lib\\site-packages\\ipykernel_launcher.py:46: RuntimeWarning: invalid value encountered in arccos\n"
     ]
    },
    {
     "name": "stdout",
     "output_type": "stream",
     "text": [
      "50th row\n",
      "100th row\n",
      "150th row\n",
      "200th row\n",
      "250th row\n",
      "300th row\n",
      "350th row\n",
      "400th row\n",
      "450th row\n",
      "500th row\n",
      "550th row\n",
      "600th row\n",
      "650th row\n",
      "700th row\n",
      "750th row\n",
      "800th row\n",
      "850th row\n",
      "900th row\n",
      "950th row\n",
      "1000th row\n",
      "Structure exists: 'Y:/Yuan/temp\\pdb1yph.ent' \n"
     ]
    },
    {
     "name": "stderr",
     "output_type": "stream",
     "text": [
      "C:\\Users\\Administrator\\Anaconda3\\envs\\pdbPy3\\lib\\site-packages\\Bio\\PDB\\StructureBuilder.py:91: PDBConstructionWarning: WARNING: Chain C is discontinuous at line 7786.\n",
      "  PDBConstructionWarning)\n",
      "C:\\Users\\Administrator\\Anaconda3\\envs\\pdbPy3\\lib\\site-packages\\Bio\\PDB\\StructureBuilder.py:91: PDBConstructionWarning: WARNING: Chain E is discontinuous at line 7796.\n",
      "  PDBConstructionWarning)\n",
      "C:\\Users\\Administrator\\Anaconda3\\envs\\pdbPy3\\lib\\site-packages\\Bio\\PDB\\StructureBuilder.py:91: PDBConstructionWarning: WARNING: Chain D is discontinuous at line 7806.\n",
      "  PDBConstructionWarning)\n",
      "C:\\Users\\Administrator\\Anaconda3\\envs\\pdbPy3\\lib\\site-packages\\Bio\\PDB\\StructureBuilder.py:91: PDBConstructionWarning: WARNING: Chain F is discontinuous at line 7826.\n",
      "  PDBConstructionWarning)\n",
      "C:\\Users\\Administrator\\Anaconda3\\envs\\pdbPy3\\lib\\site-packages\\Bio\\PDB\\StructureBuilder.py:91: PDBConstructionWarning: WARNING: Chain A is discontinuous at line 7836.\n",
      "  PDBConstructionWarning)\n",
      "C:\\Users\\Administrator\\Anaconda3\\envs\\pdbPy3\\lib\\site-packages\\Bio\\PDB\\StructureBuilder.py:91: PDBConstructionWarning: WARNING: Chain C is discontinuous at line 7870.\n",
      "  PDBConstructionWarning)\n",
      "C:\\Users\\Administrator\\Anaconda3\\envs\\pdbPy3\\lib\\site-packages\\Bio\\PDB\\StructureBuilder.py:91: PDBConstructionWarning: WARNING: Chain E is discontinuous at line 8214.\n",
      "  PDBConstructionWarning)\n",
      "C:\\Users\\Administrator\\Anaconda3\\envs\\pdbPy3\\lib\\site-packages\\Bio\\PDB\\StructureBuilder.py:91: PDBConstructionWarning: WARNING: Chain B is discontinuous at line 8464.\n",
      "  PDBConstructionWarning)\n",
      "C:\\Users\\Administrator\\Anaconda3\\envs\\pdbPy3\\lib\\site-packages\\Bio\\PDB\\StructureBuilder.py:91: PDBConstructionWarning: WARNING: Chain D is discontinuous at line 8502.\n",
      "  PDBConstructionWarning)\n",
      "C:\\Users\\Administrator\\Anaconda3\\envs\\pdbPy3\\lib\\site-packages\\Bio\\PDB\\StructureBuilder.py:91: PDBConstructionWarning: WARNING: Chain F is discontinuous at line 8834.\n",
      "  PDBConstructionWarning)\n",
      "C:\\Users\\Administrator\\Anaconda3\\envs\\pdbPy3\\lib\\site-packages\\Bio\\PDB\\StructureBuilder.py:91: PDBConstructionWarning: WARNING: Chain C is discontinuous at line 7786.\n",
      "  PDBConstructionWarning)\n"
     ]
    },
    {
     "name": "stdout",
     "output_type": "stream",
     "text": [
      "1yph skipped\n",
      "Structure exists: 'Y:/Yuan/temp\\pdb1yph.ent' \n"
     ]
    },
    {
     "name": "stderr",
     "output_type": "stream",
     "text": [
      "C:\\Users\\Administrator\\Anaconda3\\envs\\pdbPy3\\lib\\site-packages\\Bio\\PDB\\StructureBuilder.py:91: PDBConstructionWarning: WARNING: Chain E is discontinuous at line 7796.\n",
      "  PDBConstructionWarning)\n",
      "C:\\Users\\Administrator\\Anaconda3\\envs\\pdbPy3\\lib\\site-packages\\Bio\\PDB\\StructureBuilder.py:91: PDBConstructionWarning: WARNING: Chain D is discontinuous at line 7806.\n",
      "  PDBConstructionWarning)\n",
      "C:\\Users\\Administrator\\Anaconda3\\envs\\pdbPy3\\lib\\site-packages\\Bio\\PDB\\StructureBuilder.py:91: PDBConstructionWarning: WARNING: Chain F is discontinuous at line 7826.\n",
      "  PDBConstructionWarning)\n",
      "C:\\Users\\Administrator\\Anaconda3\\envs\\pdbPy3\\lib\\site-packages\\Bio\\PDB\\StructureBuilder.py:91: PDBConstructionWarning: WARNING: Chain A is discontinuous at line 7836.\n",
      "  PDBConstructionWarning)\n",
      "C:\\Users\\Administrator\\Anaconda3\\envs\\pdbPy3\\lib\\site-packages\\Bio\\PDB\\StructureBuilder.py:91: PDBConstructionWarning: WARNING: Chain C is discontinuous at line 7870.\n",
      "  PDBConstructionWarning)\n",
      "C:\\Users\\Administrator\\Anaconda3\\envs\\pdbPy3\\lib\\site-packages\\Bio\\PDB\\StructureBuilder.py:91: PDBConstructionWarning: WARNING: Chain E is discontinuous at line 8214.\n",
      "  PDBConstructionWarning)\n",
      "C:\\Users\\Administrator\\Anaconda3\\envs\\pdbPy3\\lib\\site-packages\\Bio\\PDB\\StructureBuilder.py:91: PDBConstructionWarning: WARNING: Chain B is discontinuous at line 8464.\n",
      "  PDBConstructionWarning)\n",
      "C:\\Users\\Administrator\\Anaconda3\\envs\\pdbPy3\\lib\\site-packages\\Bio\\PDB\\StructureBuilder.py:91: PDBConstructionWarning: WARNING: Chain D is discontinuous at line 8502.\n",
      "  PDBConstructionWarning)\n",
      "C:\\Users\\Administrator\\Anaconda3\\envs\\pdbPy3\\lib\\site-packages\\Bio\\PDB\\StructureBuilder.py:91: PDBConstructionWarning: WARNING: Chain F is discontinuous at line 8834.\n",
      "  PDBConstructionWarning)\n"
     ]
    },
    {
     "name": "stdout",
     "output_type": "stream",
     "text": [
      "0th row\n"
     ]
    },
    {
     "name": "stderr",
     "output_type": "stream",
     "text": [
      "C:\\Users\\Administrator\\Anaconda3\\envs\\pdbPy3\\lib\\site-packages\\ipykernel_launcher.py:46: RuntimeWarning: invalid value encountered in arccos\n"
     ]
    },
    {
     "name": "stdout",
     "output_type": "stream",
     "text": [
      "50th row\n",
      "100th row\n",
      "Structure exists: 'Y:/Yuan/temp\\pdb1nlu.ent' \n"
     ]
    },
    {
     "name": "stderr",
     "output_type": "stream",
     "text": [
      "C:\\Users\\Administrator\\Anaconda3\\envs\\pdbPy3\\lib\\site-packages\\Bio\\PDB\\StructureBuilder.py:91: PDBConstructionWarning: WARNING: Chain A is discontinuous at line 6007.\n",
      "  PDBConstructionWarning)\n",
      "C:\\Users\\Administrator\\Anaconda3\\envs\\pdbPy3\\lib\\site-packages\\Bio\\PDB\\StructureBuilder.py:91: PDBConstructionWarning: WARNING: Chain B is discontinuous at line 6884.\n",
      "  PDBConstructionWarning)\n",
      "C:\\Users\\Administrator\\Anaconda3\\envs\\pdbPy3\\lib\\site-packages\\Bio\\PDB\\StructureBuilder.py:91: PDBConstructionWarning: WARNING: Chain C is discontinuous at line 6886.\n",
      "  PDBConstructionWarning)\n"
     ]
    },
    {
     "name": "stdout",
     "output_type": "stream",
     "text": [
      "0th row\n"
     ]
    },
    {
     "name": "stderr",
     "output_type": "stream",
     "text": [
      "C:\\Users\\Administrator\\Anaconda3\\envs\\pdbPy3\\lib\\site-packages\\ipykernel_launcher.py:46: RuntimeWarning: invalid value encountered in arccos\n"
     ]
    },
    {
     "name": "stdout",
     "output_type": "stream",
     "text": [
      "50th row\n",
      "100th row\n",
      "150th row\n",
      "200th row\n",
      "250th row\n",
      "300th row\n",
      "350th row\n",
      "Structure exists: 'Y:/Yuan/temp\\pdb1ssx.ent' \n",
      "0th row\n"
     ]
    },
    {
     "name": "stderr",
     "output_type": "stream",
     "text": [
      "C:\\Users\\Administrator\\Anaconda3\\envs\\pdbPy3\\lib\\site-packages\\ipykernel_launcher.py:46: RuntimeWarning: invalid value encountered in arccos\n"
     ]
    },
    {
     "name": "stdout",
     "output_type": "stream",
     "text": [
      "50th row\n",
      "100th row\n",
      "150th row\n",
      "Structure exists: 'Y:/Yuan/temp\\pdb1qfm.ent' \n",
      "0th row\n"
     ]
    },
    {
     "name": "stderr",
     "output_type": "stream",
     "text": [
      "C:\\Users\\Administrator\\Anaconda3\\envs\\pdbPy3\\lib\\site-packages\\ipykernel_launcher.py:46: RuntimeWarning: invalid value encountered in arccos\n"
     ]
    },
    {
     "name": "stdout",
     "output_type": "stream",
     "text": [
      "50th row\n",
      "100th row\n",
      "150th row\n",
      "200th row\n",
      "250th row\n",
      "300th row\n",
      "350th row\n",
      "400th row\n",
      "450th row\n",
      "500th row\n",
      "550th row\n",
      "600th row\n",
      "650th row\n",
      "700th row\n",
      "Structure exists: 'Y:/Yuan/temp\\pdb1pq5.ent' \n",
      "0th row\n"
     ]
    },
    {
     "name": "stderr",
     "output_type": "stream",
     "text": [
      "C:\\Users\\Administrator\\Anaconda3\\envs\\pdbPy3\\lib\\site-packages\\ipykernel_launcher.py:46: RuntimeWarning: invalid value encountered in arccos\n"
     ]
    },
    {
     "name": "stdout",
     "output_type": "stream",
     "text": [
      "50th row\n",
      "100th row\n",
      "150th row\n",
      "200th row\n",
      "Structure exists: 'Y:/Yuan/temp\\pdb1hzf.ent' \n",
      "0th row\n"
     ]
    },
    {
     "name": "stderr",
     "output_type": "stream",
     "text": [
      "C:\\Users\\Administrator\\Anaconda3\\envs\\pdbPy3\\lib\\site-packages\\ipykernel_launcher.py:46: RuntimeWarning: invalid value encountered in arccos\n"
     ]
    },
    {
     "name": "stdout",
     "output_type": "stream",
     "text": [
      "50th row\n",
      "100th row\n",
      "150th row\n",
      "200th row\n",
      "250th row\n",
      "Structure exists: 'Y:/Yuan/temp\\pdb1s01.ent' \n",
      "0th row\n"
     ]
    },
    {
     "name": "stderr",
     "output_type": "stream",
     "text": [
      "C:\\Users\\Administrator\\Anaconda3\\envs\\pdbPy3\\lib\\site-packages\\ipykernel_launcher.py:46: RuntimeWarning: invalid value encountered in arccos\n"
     ]
    },
    {
     "name": "stdout",
     "output_type": "stream",
     "text": [
      "50th row\n",
      "100th row\n",
      "150th row\n",
      "200th row\n",
      "250th row\n",
      "Structure exists: 'Y:/Yuan/temp\\pdb1rtf.ent' \n"
     ]
    },
    {
     "name": "stderr",
     "output_type": "stream",
     "text": [
      "C:\\Users\\Administrator\\Anaconda3\\envs\\pdbPy3\\lib\\site-packages\\Bio\\PDB\\StructureBuilder.py:91: PDBConstructionWarning: WARNING: Chain A is discontinuous at line 2853.\n",
      "  PDBConstructionWarning)\n",
      "C:\\Users\\Administrator\\Anaconda3\\envs\\pdbPy3\\lib\\site-packages\\Bio\\PDB\\StructureBuilder.py:91: PDBConstructionWarning: WARNING: Chain B is discontinuous at line 2865.\n",
      "  PDBConstructionWarning)\n"
     ]
    },
    {
     "name": "stdout",
     "output_type": "stream",
     "text": [
      "0th row\n"
     ]
    },
    {
     "name": "stderr",
     "output_type": "stream",
     "text": [
      "C:\\Users\\Administrator\\Anaconda3\\envs\\pdbPy3\\lib\\site-packages\\ipykernel_launcher.py:46: RuntimeWarning: invalid value encountered in arccos\n"
     ]
    },
    {
     "name": "stdout",
     "output_type": "stream",
     "text": [
      "50th row\n",
      "100th row\n",
      "150th row\n",
      "200th row\n",
      "Structure exists: 'Y:/Yuan/temp\\pdb1qrz.ent' \n"
     ]
    },
    {
     "name": "stderr",
     "output_type": "stream",
     "text": [
      "C:\\Users\\Administrator\\Anaconda3\\envs\\pdbPy3\\lib\\site-packages\\Bio\\PDB\\StructureBuilder.py:91: PDBConstructionWarning: WARNING: Chain A is discontinuous at line 8185.\n",
      "  PDBConstructionWarning)\n",
      "C:\\Users\\Administrator\\Anaconda3\\envs\\pdbPy3\\lib\\site-packages\\Bio\\PDB\\StructureBuilder.py:91: PDBConstructionWarning: WARNING: Chain B is discontinuous at line 8304.\n",
      "  PDBConstructionWarning)\n",
      "C:\\Users\\Administrator\\Anaconda3\\envs\\pdbPy3\\lib\\site-packages\\Bio\\PDB\\StructureBuilder.py:91: PDBConstructionWarning: WARNING: Chain C is discontinuous at line 8438.\n",
      "  PDBConstructionWarning)\n",
      "C:\\Users\\Administrator\\Anaconda3\\envs\\pdbPy3\\lib\\site-packages\\Bio\\PDB\\StructureBuilder.py:91: PDBConstructionWarning: WARNING: Chain D is discontinuous at line 8602.\n",
      "  PDBConstructionWarning)\n"
     ]
    },
    {
     "name": "stdout",
     "output_type": "stream",
     "text": [
      "0th row\n"
     ]
    },
    {
     "name": "stderr",
     "output_type": "stream",
     "text": [
      "C:\\Users\\Administrator\\Anaconda3\\envs\\pdbPy3\\lib\\site-packages\\ipykernel_launcher.py:46: RuntimeWarning: invalid value encountered in arccos\n"
     ]
    },
    {
     "name": "stdout",
     "output_type": "stream",
     "text": [
      "50th row\n",
      "100th row\n",
      "150th row\n",
      "200th row\n",
      "Structure exists: 'Y:/Yuan/temp\\pdb1ds2.ent' \n",
      "Structure exists: 'Y:/Yuan/temp\\pdb1jhf.ent' \n"
     ]
    },
    {
     "name": "stderr",
     "output_type": "stream",
     "text": [
      "C:\\Users\\Administrator\\Anaconda3\\envs\\pdbPy3\\lib\\site-packages\\Bio\\PDB\\StructureBuilder.py:91: PDBConstructionWarning: WARNING: Chain E is discontinuous at line 2036.\n",
      "  PDBConstructionWarning)\n",
      "C:\\Users\\Administrator\\Anaconda3\\envs\\pdbPy3\\lib\\site-packages\\Bio\\PDB\\StructureBuilder.py:91: PDBConstructionWarning: WARNING: Chain I is discontinuous at line 2148.\n",
      "  PDBConstructionWarning)\n",
      "C:\\Users\\Administrator\\Anaconda3\\envs\\pdbPy3\\lib\\site-packages\\Bio\\PDB\\StructureBuilder.py:91: PDBConstructionWarning: WARNING: Chain A is discontinuous at line 2875.\n",
      "  PDBConstructionWarning)\n",
      "C:\\Users\\Administrator\\Anaconda3\\envs\\pdbPy3\\lib\\site-packages\\Bio\\PDB\\StructureBuilder.py:91: PDBConstructionWarning: WARNING: Chain B is discontinuous at line 2993.\n",
      "  PDBConstructionWarning)\n"
     ]
    },
    {
     "name": "stdout",
     "output_type": "stream",
     "text": [
      "0th row\n"
     ]
    },
    {
     "name": "stderr",
     "output_type": "stream",
     "text": [
      "C:\\Users\\Administrator\\Anaconda3\\envs\\pdbPy3\\lib\\site-packages\\ipykernel_launcher.py:46: RuntimeWarning: invalid value encountered in arccos\n"
     ]
    },
    {
     "name": "stdout",
     "output_type": "stream",
     "text": [
      "50th row\n",
      "100th row\n",
      "150th row\n",
      "Structure exists: 'Y:/Yuan/temp\\pdb1t7d.ent' \n"
     ]
    },
    {
     "name": "stderr",
     "output_type": "stream",
     "text": [
      "C:\\Users\\Administrator\\Anaconda3\\envs\\pdbPy3\\lib\\site-packages\\Bio\\PDB\\StructureBuilder.py:91: PDBConstructionWarning: WARNING: Chain C is discontinuous at line 4235.\n",
      "  PDBConstructionWarning)\n",
      "C:\\Users\\Administrator\\Anaconda3\\envs\\pdbPy3\\lib\\site-packages\\Bio\\PDB\\StructureBuilder.py:91: PDBConstructionWarning: WARNING: Chain D is discontinuous at line 4238.\n",
      "  PDBConstructionWarning)\n",
      "C:\\Users\\Administrator\\Anaconda3\\envs\\pdbPy3\\lib\\site-packages\\Bio\\PDB\\StructureBuilder.py:91: PDBConstructionWarning: WARNING: Chain A is discontinuous at line 4241.\n",
      "  PDBConstructionWarning)\n",
      "C:\\Users\\Administrator\\Anaconda3\\envs\\pdbPy3\\lib\\site-packages\\Bio\\PDB\\StructureBuilder.py:91: PDBConstructionWarning: WARNING: Chain B is discontinuous at line 4363.\n",
      "  PDBConstructionWarning)\n",
      "C:\\Users\\Administrator\\Anaconda3\\envs\\pdbPy3\\lib\\site-packages\\Bio\\PDB\\StructureBuilder.py:91: PDBConstructionWarning: WARNING: Chain C is discontinuous at line 4498.\n",
      "  PDBConstructionWarning)\n",
      "C:\\Users\\Administrator\\Anaconda3\\envs\\pdbPy3\\lib\\site-packages\\Bio\\PDB\\StructureBuilder.py:91: PDBConstructionWarning: WARNING: Chain D is discontinuous at line 4503.\n",
      "  PDBConstructionWarning)\n"
     ]
    },
    {
     "name": "stdout",
     "output_type": "stream",
     "text": [
      "0th row\n"
     ]
    },
    {
     "name": "stderr",
     "output_type": "stream",
     "text": [
      "C:\\Users\\Administrator\\Anaconda3\\envs\\pdbPy3\\lib\\site-packages\\ipykernel_launcher.py:46: RuntimeWarning: invalid value encountered in arccos\n"
     ]
    },
    {
     "name": "stdout",
     "output_type": "stream",
     "text": [
      "50th row\n",
      "100th row\n",
      "150th row\n",
      "200th row\n",
      "Structure exists: 'Y:/Yuan/temp\\pdb1tyf.ent' \n"
     ]
    },
    {
     "name": "stderr",
     "output_type": "stream",
     "text": [
      "C:\\Users\\Administrator\\Anaconda3\\envs\\pdbPy3\\lib\\site-packages\\Bio\\PDB\\StructureBuilder.py:91: PDBConstructionWarning: WARNING: Chain A is discontinuous at line 20964.\n",
      "  PDBConstructionWarning)\n",
      "C:\\Users\\Administrator\\Anaconda3\\envs\\pdbPy3\\lib\\site-packages\\Bio\\PDB\\StructureBuilder.py:91: PDBConstructionWarning: WARNING: Chain B is discontinuous at line 21053.\n",
      "  PDBConstructionWarning)\n",
      "C:\\Users\\Administrator\\Anaconda3\\envs\\pdbPy3\\lib\\site-packages\\Bio\\PDB\\StructureBuilder.py:91: PDBConstructionWarning: WARNING: Chain C is discontinuous at line 21142.\n",
      "  PDBConstructionWarning)\n",
      "C:\\Users\\Administrator\\Anaconda3\\envs\\pdbPy3\\lib\\site-packages\\Bio\\PDB\\StructureBuilder.py:91: PDBConstructionWarning: WARNING: Chain D is discontinuous at line 21236.\n",
      "  PDBConstructionWarning)\n",
      "C:\\Users\\Administrator\\Anaconda3\\envs\\pdbPy3\\lib\\site-packages\\Bio\\PDB\\StructureBuilder.py:91: PDBConstructionWarning: WARNING: Chain E is discontinuous at line 21325.\n",
      "  PDBConstructionWarning)\n",
      "C:\\Users\\Administrator\\Anaconda3\\envs\\pdbPy3\\lib\\site-packages\\Bio\\PDB\\StructureBuilder.py:91: PDBConstructionWarning: WARNING: Chain F is discontinuous at line 21407.\n",
      "  PDBConstructionWarning)\n",
      "C:\\Users\\Administrator\\Anaconda3\\envs\\pdbPy3\\lib\\site-packages\\Bio\\PDB\\StructureBuilder.py:91: PDBConstructionWarning: WARNING: Chain G is discontinuous at line 21498.\n",
      "  PDBConstructionWarning)\n",
      "C:\\Users\\Administrator\\Anaconda3\\envs\\pdbPy3\\lib\\site-packages\\Bio\\PDB\\StructureBuilder.py:91: PDBConstructionWarning: WARNING: Chain H is discontinuous at line 21588.\n",
      "  PDBConstructionWarning)\n",
      "C:\\Users\\Administrator\\Anaconda3\\envs\\pdbPy3\\lib\\site-packages\\Bio\\PDB\\StructureBuilder.py:91: PDBConstructionWarning: WARNING: Chain I is discontinuous at line 21674.\n",
      "  PDBConstructionWarning)\n",
      "C:\\Users\\Administrator\\Anaconda3\\envs\\pdbPy3\\lib\\site-packages\\Bio\\PDB\\StructureBuilder.py:91: PDBConstructionWarning: WARNING: Chain J is discontinuous at line 21762.\n",
      "  PDBConstructionWarning)\n",
      "C:\\Users\\Administrator\\Anaconda3\\envs\\pdbPy3\\lib\\site-packages\\Bio\\PDB\\StructureBuilder.py:91: PDBConstructionWarning: WARNING: Chain K is discontinuous at line 21848.\n",
      "  PDBConstructionWarning)\n",
      "C:\\Users\\Administrator\\Anaconda3\\envs\\pdbPy3\\lib\\site-packages\\Bio\\PDB\\StructureBuilder.py:91: PDBConstructionWarning: WARNING: Chain L is discontinuous at line 21940.\n",
      "  PDBConstructionWarning)\n",
      "C:\\Users\\Administrator\\Anaconda3\\envs\\pdbPy3\\lib\\site-packages\\Bio\\PDB\\StructureBuilder.py:91: PDBConstructionWarning: WARNING: Chain M is discontinuous at line 22032.\n",
      "  PDBConstructionWarning)\n",
      "C:\\Users\\Administrator\\Anaconda3\\envs\\pdbPy3\\lib\\site-packages\\Bio\\PDB\\StructureBuilder.py:91: PDBConstructionWarning: WARNING: Chain N is discontinuous at line 22116.\n",
      "  PDBConstructionWarning)\n"
     ]
    },
    {
     "name": "stdout",
     "output_type": "stream",
     "text": [
      "0th row\n"
     ]
    },
    {
     "name": "stderr",
     "output_type": "stream",
     "text": [
      "C:\\Users\\Administrator\\Anaconda3\\envs\\pdbPy3\\lib\\site-packages\\ipykernel_launcher.py:46: RuntimeWarning: invalid value encountered in arccos\n"
     ]
    },
    {
     "name": "stdout",
     "output_type": "stream",
     "text": [
      "50th row\n",
      "100th row\n",
      "150th row\n",
      "Structure exists: 'Y:/Yuan/temp\\pdb1wpo.ent' \n"
     ]
    },
    {
     "name": "stderr",
     "output_type": "stream",
     "text": [
      "C:\\Users\\Administrator\\Anaconda3\\envs\\pdbPy3\\lib\\site-packages\\Bio\\PDB\\StructureBuilder.py:91: PDBConstructionWarning: WARNING: Chain A is discontinuous at line 3859.\n",
      "  PDBConstructionWarning)\n",
      "C:\\Users\\Administrator\\Anaconda3\\envs\\pdbPy3\\lib\\site-packages\\Bio\\PDB\\StructureBuilder.py:91: PDBConstructionWarning: WARNING: Chain B is discontinuous at line 3972.\n",
      "  PDBConstructionWarning)\n"
     ]
    },
    {
     "name": "stdout",
     "output_type": "stream",
     "text": [
      "0th row\n"
     ]
    },
    {
     "name": "stderr",
     "output_type": "stream",
     "text": [
      "C:\\Users\\Administrator\\Anaconda3\\envs\\pdbPy3\\lib\\site-packages\\ipykernel_launcher.py:46: RuntimeWarning: invalid value encountered in arccos\n"
     ]
    },
    {
     "name": "stdout",
     "output_type": "stream",
     "text": [
      "50th row\n",
      "100th row\n",
      "150th row\n",
      "200th row\n",
      "Structure exists: 'Y:/Yuan/temp\\pdb1rgq.ent' \n"
     ]
    },
    {
     "name": "stderr",
     "output_type": "stream",
     "text": [
      "C:\\Users\\Administrator\\Anaconda3\\envs\\pdbPy3\\lib\\site-packages\\Bio\\PDB\\StructureBuilder.py:91: PDBConstructionWarning: WARNING: Chain A is discontinuous at line 3416.\n",
      "  PDBConstructionWarning)\n",
      "C:\\Users\\Administrator\\Anaconda3\\envs\\pdbPy3\\lib\\site-packages\\Bio\\PDB\\StructureBuilder.py:91: PDBConstructionWarning: WARNING: Chain B is discontinuous at line 3417.\n",
      "  PDBConstructionWarning)\n"
     ]
    },
    {
     "name": "stdout",
     "output_type": "stream",
     "text": [
      "0th row\n"
     ]
    },
    {
     "name": "stderr",
     "output_type": "stream",
     "text": [
      "C:\\Users\\Administrator\\Anaconda3\\envs\\pdbPy3\\lib\\site-packages\\ipykernel_launcher.py:46: RuntimeWarning: invalid value encountered in arccos\n"
     ]
    },
    {
     "name": "stdout",
     "output_type": "stream",
     "text": [
      "50th row\n",
      "100th row\n",
      "150th row\n",
      "Structure exists: 'Y:/Yuan/temp\\pdb1g2i.ent' \n"
     ]
    },
    {
     "name": "stderr",
     "output_type": "stream",
     "text": [
      "C:\\Users\\Administrator\\Anaconda3\\envs\\pdbPy3\\lib\\site-packages\\Bio\\PDB\\StructureBuilder.py:91: PDBConstructionWarning: WARNING: Chain B is discontinuous at line 4432.\n",
      "  PDBConstructionWarning)\n",
      "C:\\Users\\Administrator\\Anaconda3\\envs\\pdbPy3\\lib\\site-packages\\Bio\\PDB\\StructureBuilder.py:91: PDBConstructionWarning: WARNING: Chain A is discontinuous at line 4437.\n",
      "  PDBConstructionWarning)\n",
      "C:\\Users\\Administrator\\Anaconda3\\envs\\pdbPy3\\lib\\site-packages\\Bio\\PDB\\StructureBuilder.py:91: PDBConstructionWarning: WARNING: Chain B is discontinuous at line 4525.\n",
      "  PDBConstructionWarning)\n",
      "C:\\Users\\Administrator\\Anaconda3\\envs\\pdbPy3\\lib\\site-packages\\Bio\\PDB\\StructureBuilder.py:91: PDBConstructionWarning: WARNING: Chain C is discontinuous at line 4636.\n",
      "  PDBConstructionWarning)\n"
     ]
    },
    {
     "name": "stdout",
     "output_type": "stream",
     "text": [
      "1g2i skipped\n",
      "Structure exists: 'Y:/Yuan/temp\\pdb1g2i.ent' \n"
     ]
    },
    {
     "name": "stderr",
     "output_type": "stream",
     "text": [
      "C:\\Users\\Administrator\\Anaconda3\\envs\\pdbPy3\\lib\\site-packages\\Bio\\PDB\\StructureBuilder.py:91: PDBConstructionWarning: WARNING: Chain B is discontinuous at line 4432.\n",
      "  PDBConstructionWarning)\n",
      "C:\\Users\\Administrator\\Anaconda3\\envs\\pdbPy3\\lib\\site-packages\\Bio\\PDB\\StructureBuilder.py:91: PDBConstructionWarning: WARNING: Chain A is discontinuous at line 4437.\n",
      "  PDBConstructionWarning)\n",
      "C:\\Users\\Administrator\\Anaconda3\\envs\\pdbPy3\\lib\\site-packages\\Bio\\PDB\\StructureBuilder.py:91: PDBConstructionWarning: WARNING: Chain B is discontinuous at line 4525.\n",
      "  PDBConstructionWarning)\n",
      "C:\\Users\\Administrator\\Anaconda3\\envs\\pdbPy3\\lib\\site-packages\\Bio\\PDB\\StructureBuilder.py:91: PDBConstructionWarning: WARNING: Chain C is discontinuous at line 4636.\n",
      "  PDBConstructionWarning)\n"
     ]
    },
    {
     "name": "stdout",
     "output_type": "stream",
     "text": [
      "0th row\n"
     ]
    },
    {
     "name": "stderr",
     "output_type": "stream",
     "text": [
      "C:\\Users\\Administrator\\Anaconda3\\envs\\pdbPy3\\lib\\site-packages\\ipykernel_launcher.py:46: RuntimeWarning: invalid value encountered in arccos\n"
     ]
    },
    {
     "name": "stdout",
     "output_type": "stream",
     "text": [
      "50th row\n",
      "100th row\n",
      "150th row\n",
      "Structure exists: 'Y:/Yuan/temp\\pdb1dki.ent' \n"
     ]
    },
    {
     "name": "stderr",
     "output_type": "stream",
     "text": [
      "C:\\Users\\Administrator\\Anaconda3\\envs\\pdbPy3\\lib\\site-packages\\Bio\\PDB\\StructureBuilder.py:91: PDBConstructionWarning: WARNING: Chain A is discontinuous at line 10724.\n",
      "  PDBConstructionWarning)\n",
      "C:\\Users\\Administrator\\Anaconda3\\envs\\pdbPy3\\lib\\site-packages\\Bio\\PDB\\StructureBuilder.py:91: PDBConstructionWarning: WARNING: Chain B is discontinuous at line 10729.\n",
      "  PDBConstructionWarning)\n",
      "C:\\Users\\Administrator\\Anaconda3\\envs\\pdbPy3\\lib\\site-packages\\Bio\\PDB\\StructureBuilder.py:91: PDBConstructionWarning: WARNING: Chain C is discontinuous at line 10734.\n",
      "  PDBConstructionWarning)\n",
      "C:\\Users\\Administrator\\Anaconda3\\envs\\pdbPy3\\lib\\site-packages\\Bio\\PDB\\StructureBuilder.py:91: PDBConstructionWarning: WARNING: Chain D is discontinuous at line 10739.\n",
      "  PDBConstructionWarning)\n",
      "C:\\Users\\Administrator\\Anaconda3\\envs\\pdbPy3\\lib\\site-packages\\Bio\\PDB\\StructureBuilder.py:91: PDBConstructionWarning: WARNING: Chain A is discontinuous at line 10744.\n",
      "  PDBConstructionWarning)\n",
      "C:\\Users\\Administrator\\Anaconda3\\envs\\pdbPy3\\lib\\site-packages\\Bio\\PDB\\StructureBuilder.py:91: PDBConstructionWarning: WARNING: Chain B is discontinuous at line 10864.\n",
      "  PDBConstructionWarning)\n",
      "C:\\Users\\Administrator\\Anaconda3\\envs\\pdbPy3\\lib\\site-packages\\Bio\\PDB\\StructureBuilder.py:91: PDBConstructionWarning: WARNING: Chain C is discontinuous at line 10962.\n",
      "  PDBConstructionWarning)\n",
      "C:\\Users\\Administrator\\Anaconda3\\envs\\pdbPy3\\lib\\site-packages\\Bio\\PDB\\StructureBuilder.py:91: PDBConstructionWarning: WARNING: Chain D is discontinuous at line 11150.\n",
      "  PDBConstructionWarning)\n",
      "C:\\Users\\Administrator\\Anaconda3\\envs\\pdbPy3\\lib\\site-packages\\Bio\\PDB\\vectors.py:273: RuntimeWarning: invalid value encountered in true_divide\n",
      "  a = self._ar / numpy.array(x)\n"
     ]
    },
    {
     "name": "stdout",
     "output_type": "stream",
     "text": [
      "0th row\n"
     ]
    },
    {
     "name": "stderr",
     "output_type": "stream",
     "text": [
      "C:\\Users\\Administrator\\Anaconda3\\envs\\pdbPy3\\lib\\site-packages\\ipykernel_launcher.py:46: RuntimeWarning: invalid value encountered in arccos\n"
     ]
    },
    {
     "name": "stdout",
     "output_type": "stream",
     "text": [
      "50th row\n",
      "100th row\n",
      "150th row\n",
      "200th row\n",
      "Structure exists: 'Y:/Yuan/temp\\pdb8pch.ent' \n"
     ]
    },
    {
     "name": "stderr",
     "output_type": "stream",
     "text": [
      "C:\\Users\\Administrator\\Anaconda3\\envs\\pdbPy3\\lib\\site-packages\\Bio\\PDB\\StructureBuilder.py:91: PDBConstructionWarning: WARNING: Chain A is discontinuous at line 2549.\n",
      "  PDBConstructionWarning)\n",
      "C:\\Users\\Administrator\\Anaconda3\\envs\\pdbPy3\\lib\\site-packages\\Bio\\PDB\\StructureBuilder.py:91: PDBConstructionWarning: WARNING: Chain P is discontinuous at line 3159.\n",
      "  PDBConstructionWarning)\n"
     ]
    },
    {
     "name": "stdout",
     "output_type": "stream",
     "text": [
      "0th row\n"
     ]
    },
    {
     "name": "stderr",
     "output_type": "stream",
     "text": [
      "C:\\Users\\Administrator\\Anaconda3\\envs\\pdbPy3\\lib\\site-packages\\ipykernel_launcher.py:46: RuntimeWarning: invalid value encountered in arccos\n"
     ]
    },
    {
     "name": "stdout",
     "output_type": "stream",
     "text": [
      "50th row\n",
      "100th row\n",
      "150th row\n",
      "200th row\n",
      "Structure exists: 'Y:/Yuan/temp\\pdb9pap.ent' \n",
      "0th row\n"
     ]
    },
    {
     "name": "stderr",
     "output_type": "stream",
     "text": [
      "C:\\Users\\Administrator\\Anaconda3\\envs\\pdbPy3\\lib\\site-packages\\ipykernel_launcher.py:46: RuntimeWarning: invalid value encountered in arccos\n"
     ]
    },
    {
     "name": "stdout",
     "output_type": "stream",
     "text": [
      "50th row\n",
      "100th row\n",
      "150th row\n",
      "200th row\n",
      "Structure exists: 'Y:/Yuan/temp\\pdb1glo.ent' \n",
      "0th row\n"
     ]
    },
    {
     "name": "stderr",
     "output_type": "stream",
     "text": [
      "C:\\Users\\Administrator\\Anaconda3\\envs\\pdbPy3\\lib\\site-packages\\ipykernel_launcher.py:46: RuntimeWarning: invalid value encountered in arccos\n"
     ]
    },
    {
     "name": "stdout",
     "output_type": "stream",
     "text": [
      "50th row\n",
      "100th row\n",
      "150th row\n",
      "200th row\n",
      "Structure exists: 'Y:/Yuan/temp\\pdb1cqq.ent' \n",
      "0th row\n"
     ]
    },
    {
     "name": "stderr",
     "output_type": "stream",
     "text": [
      "C:\\Users\\Administrator\\Anaconda3\\envs\\pdbPy3\\lib\\site-packages\\ipykernel_launcher.py:46: RuntimeWarning: invalid value encountered in arccos\n"
     ]
    },
    {
     "name": "stdout",
     "output_type": "stream",
     "text": [
      "50th row\n",
      "100th row\n",
      "150th row\n",
      "Structure exists: 'Y:/Yuan/temp\\pdb2bhg.ent' \n"
     ]
    },
    {
     "name": "stderr",
     "output_type": "stream",
     "text": [
      "C:\\Users\\Administrator\\Anaconda3\\envs\\pdbPy3\\lib\\site-packages\\Bio\\PDB\\StructureBuilder.py:91: PDBConstructionWarning: WARNING: Chain A is discontinuous at line 3370.\n",
      "  PDBConstructionWarning)\n",
      "C:\\Users\\Administrator\\Anaconda3\\envs\\pdbPy3\\lib\\site-packages\\Bio\\PDB\\StructureBuilder.py:91: PDBConstructionWarning: WARNING: Chain B is discontinuous at line 3424.\n",
      "  PDBConstructionWarning)\n"
     ]
    },
    {
     "name": "stdout",
     "output_type": "stream",
     "text": [
      "0th row\n"
     ]
    },
    {
     "name": "stderr",
     "output_type": "stream",
     "text": [
      "C:\\Users\\Administrator\\Anaconda3\\envs\\pdbPy3\\lib\\site-packages\\ipykernel_launcher.py:46: RuntimeWarning: invalid value encountered in arccos\n"
     ]
    },
    {
     "name": "stdout",
     "output_type": "stream",
     "text": [
      "50th row\n",
      "100th row\n",
      "150th row\n",
      "Structure exists: 'Y:/Yuan/temp\\pdb1x9y.ent' \n"
     ]
    },
    {
     "name": "stderr",
     "output_type": "stream",
     "text": [
      "C:\\Users\\Administrator\\Anaconda3\\envs\\pdbPy3\\lib\\site-packages\\Bio\\PDB\\StructureBuilder.py:91: PDBConstructionWarning: WARNING: Chain A is discontinuous at line 11847.\n",
      "  PDBConstructionWarning)\n",
      "C:\\Users\\Administrator\\Anaconda3\\envs\\pdbPy3\\lib\\site-packages\\Bio\\PDB\\StructureBuilder.py:91: PDBConstructionWarning: WARNING: Chain B is discontinuous at line 11915.\n",
      "  PDBConstructionWarning)\n",
      "C:\\Users\\Administrator\\Anaconda3\\envs\\pdbPy3\\lib\\site-packages\\Bio\\PDB\\StructureBuilder.py:91: PDBConstructionWarning: WARNING: Chain C is discontinuous at line 11973.\n",
      "  PDBConstructionWarning)\n",
      "C:\\Users\\Administrator\\Anaconda3\\envs\\pdbPy3\\lib\\site-packages\\Bio\\PDB\\StructureBuilder.py:91: PDBConstructionWarning: WARNING: Chain D is discontinuous at line 12022.\n",
      "  PDBConstructionWarning)\n"
     ]
    },
    {
     "name": "stdout",
     "output_type": "stream",
     "text": [
      "0th row\n"
     ]
    },
    {
     "name": "stderr",
     "output_type": "stream",
     "text": [
      "C:\\Users\\Administrator\\Anaconda3\\envs\\pdbPy3\\lib\\site-packages\\ipykernel_launcher.py:46: RuntimeWarning: invalid value encountered in arccos\n"
     ]
    },
    {
     "name": "stdout",
     "output_type": "stream",
     "text": [
      "50th row\n",
      "100th row\n",
      "150th row\n",
      "200th row\n",
      "250th row\n",
      "300th row\n",
      "Structure exists: 'Y:/Yuan/temp\\pdb2fqq.ent' \n",
      "2fqq skipped\n",
      "Structure exists: 'Y:/Yuan/temp\\pdb2fqq.ent' \n",
      "2fqq skipped\n",
      "Structure exists: 'Y:/Yuan/temp\\pdb1cvr.ent' \n"
     ]
    },
    {
     "name": "stderr",
     "output_type": "stream",
     "text": [
      "C:\\Users\\Administrator\\Anaconda3\\envs\\pdbPy3\\lib\\site-packages\\Bio\\PDB\\StructureBuilder.py:91: PDBConstructionWarning: WARNING: Chain A is discontinuous at line 2361.\n",
      "  PDBConstructionWarning)\n",
      "C:\\Users\\Administrator\\Anaconda3\\envs\\pdbPy3\\lib\\site-packages\\Bio\\PDB\\StructureBuilder.py:91: PDBConstructionWarning: WARNING: Chain B is discontinuous at line 2368.\n",
      "  PDBConstructionWarning)\n",
      "C:\\Users\\Administrator\\Anaconda3\\envs\\pdbPy3\\lib\\site-packages\\Bio\\PDB\\StructureBuilder.py:91: PDBConstructionWarning: WARNING: Chain A is discontinuous at line 2361.\n",
      "  PDBConstructionWarning)\n",
      "C:\\Users\\Administrator\\Anaconda3\\envs\\pdbPy3\\lib\\site-packages\\Bio\\PDB\\StructureBuilder.py:91: PDBConstructionWarning: WARNING: Chain B is discontinuous at line 2368.\n",
      "  PDBConstructionWarning)\n"
     ]
    },
    {
     "name": "stdout",
     "output_type": "stream",
     "text": [
      "0th row\n"
     ]
    },
    {
     "name": "stderr",
     "output_type": "stream",
     "text": [
      "C:\\Users\\Administrator\\Anaconda3\\envs\\pdbPy3\\lib\\site-packages\\ipykernel_launcher.py:46: RuntimeWarning: invalid value encountered in arccos\n"
     ]
    },
    {
     "name": "stdout",
     "output_type": "stream",
     "text": [
      "50th row\n",
      "100th row\n",
      "150th row\n",
      "200th row\n",
      "250th row\n",
      "300th row\n",
      "350th row\n",
      "400th row\n",
      "Structure exists: 'Y:/Yuan/temp\\pdb1nln.ent' \n"
     ]
    },
    {
     "name": "stderr",
     "output_type": "stream",
     "text": [
      "C:\\Users\\Administrator\\Anaconda3\\envs\\pdbPy3\\lib\\site-packages\\Bio\\PDB\\StructureBuilder.py:91: PDBConstructionWarning: WARNING: Chain A is discontinuous at line 2183.\n",
      "  PDBConstructionWarning)\n",
      "C:\\Users\\Administrator\\Anaconda3\\envs\\pdbPy3\\lib\\site-packages\\Bio\\PDB\\StructureBuilder.py:91: PDBConstructionWarning: WARNING: Chain B is discontinuous at line 2406.\n",
      "  PDBConstructionWarning)\n"
     ]
    },
    {
     "name": "stdout",
     "output_type": "stream",
     "text": [
      "0th row\n"
     ]
    },
    {
     "name": "stderr",
     "output_type": "stream",
     "text": [
      "C:\\Users\\Administrator\\Anaconda3\\envs\\pdbPy3\\lib\\site-packages\\ipykernel_launcher.py:46: RuntimeWarning: invalid value encountered in arccos\n"
     ]
    },
    {
     "name": "stdout",
     "output_type": "stream",
     "text": [
      "50th row\n",
      "100th row\n",
      "150th row\n",
      "200th row\n",
      "Structure exists: 'Y:/Yuan/temp\\pdb1gcb.ent' \n",
      "0th row\n"
     ]
    },
    {
     "name": "stderr",
     "output_type": "stream",
     "text": [
      "C:\\Users\\Administrator\\Anaconda3\\envs\\pdbPy3\\lib\\site-packages\\ipykernel_launcher.py:46: RuntimeWarning: invalid value encountered in arccos\n"
     ]
    },
    {
     "name": "stdout",
     "output_type": "stream",
     "text": [
      "50th row\n",
      "100th row\n",
      "150th row\n",
      "200th row\n",
      "250th row\n",
      "300th row\n",
      "350th row\n",
      "400th row\n",
      "450th row\n",
      "Structure exists: 'Y:/Yuan/temp\\pdb1kfu.ent' \n"
     ]
    },
    {
     "name": "stderr",
     "output_type": "stream",
     "text": [
      "C:\\Users\\Administrator\\Anaconda3\\envs\\pdbPy3\\lib\\site-packages\\Bio\\PDB\\StructureBuilder.py:91: PDBConstructionWarning: WARNING: Chain L is discontinuous at line 7800.\n",
      "  PDBConstructionWarning)\n",
      "C:\\Users\\Administrator\\Anaconda3\\envs\\pdbPy3\\lib\\site-packages\\Bio\\PDB\\StructureBuilder.py:91: PDBConstructionWarning: WARNING: Chain S is discontinuous at line 8087.\n",
      "  PDBConstructionWarning)\n"
     ]
    },
    {
     "name": "stdout",
     "output_type": "stream",
     "text": [
      "0th row\n"
     ]
    },
    {
     "name": "stderr",
     "output_type": "stream",
     "text": [
      "C:\\Users\\Administrator\\Anaconda3\\envs\\pdbPy3\\lib\\site-packages\\ipykernel_launcher.py:46: RuntimeWarning: invalid value encountered in arccos\n"
     ]
    },
    {
     "name": "stdout",
     "output_type": "stream",
     "text": [
      "50th row\n",
      "100th row\n",
      "150th row\n",
      "200th row\n",
      "250th row\n",
      "300th row\n",
      "350th row\n",
      "400th row\n",
      "450th row\n",
      "500th row\n",
      "550th row\n",
      "600th row\n",
      "650th row\n",
      "Structure exists: 'Y:/Yuan/temp\\pdb1qx3.ent' \n",
      "0th row\n"
     ]
    },
    {
     "name": "stderr",
     "output_type": "stream",
     "text": [
      "C:\\Users\\Administrator\\Anaconda3\\envs\\pdbPy3\\lib\\site-packages\\ipykernel_launcher.py:46: RuntimeWarning: invalid value encountered in arccos\n"
     ]
    },
    {
     "name": "stdout",
     "output_type": "stream",
     "text": [
      "50th row\n",
      "100th row\n",
      "150th row\n",
      "200th row\n",
      "Structure exists: 'Y:/Yuan/temp\\pdb1qtn.ent' \n"
     ]
    },
    {
     "name": "stderr",
     "output_type": "stream",
     "text": [
      "C:\\Users\\Administrator\\Anaconda3\\envs\\pdbPy3\\lib\\site-packages\\Bio\\PDB\\StructureBuilder.py:91: PDBConstructionWarning: WARNING: Chain A is discontinuous at line 2429.\n",
      "  PDBConstructionWarning)\n",
      "C:\\Users\\Administrator\\Anaconda3\\envs\\pdbPy3\\lib\\site-packages\\Bio\\PDB\\StructureBuilder.py:91: PDBConstructionWarning: WARNING: Chain B is discontinuous at line 2439.\n",
      "  PDBConstructionWarning)\n",
      "C:\\Users\\Administrator\\Anaconda3\\envs\\pdbPy3\\lib\\site-packages\\Bio\\PDB\\StructureBuilder.py:91: PDBConstructionWarning: WARNING: Chain A is discontinuous at line 2449.\n",
      "  PDBConstructionWarning)\n",
      "C:\\Users\\Administrator\\Anaconda3\\envs\\pdbPy3\\lib\\site-packages\\Bio\\PDB\\StructureBuilder.py:91: PDBConstructionWarning: WARNING: Chain B is discontinuous at line 2656.\n",
      "  PDBConstructionWarning)\n",
      "C:\\Users\\Administrator\\Anaconda3\\envs\\pdbPy3\\lib\\site-packages\\Bio\\PDB\\StructureBuilder.py:91: PDBConstructionWarning: WARNING: Chain C is discontinuous at line 2763.\n",
      "  PDBConstructionWarning)\n"
     ]
    },
    {
     "name": "stdout",
     "output_type": "stream",
     "text": [
      "0th row\n"
     ]
    },
    {
     "name": "stderr",
     "output_type": "stream",
     "text": [
      "C:\\Users\\Administrator\\Anaconda3\\envs\\pdbPy3\\lib\\site-packages\\ipykernel_launcher.py:46: RuntimeWarning: invalid value encountered in arccos\n"
     ]
    },
    {
     "name": "stdout",
     "output_type": "stream",
     "text": [
      "50th row\n",
      "100th row\n",
      "150th row\n",
      "Structure exists: 'Y:/Yuan/temp\\pdb1nw9.ent' \n"
     ]
    },
    {
     "name": "stderr",
     "output_type": "stream",
     "text": [
      "C:\\Users\\Administrator\\Anaconda3\\envs\\pdbPy3\\lib\\site-packages\\Bio\\PDB\\StructureBuilder.py:91: PDBConstructionWarning: WARNING: Chain A is discontinuous at line 3087.\n",
      "  PDBConstructionWarning)\n"
     ]
    },
    {
     "name": "stdout",
     "output_type": "stream",
     "text": [
      "0th row\n"
     ]
    },
    {
     "name": "stderr",
     "output_type": "stream",
     "text": [
      "C:\\Users\\Administrator\\Anaconda3\\envs\\pdbPy3\\lib\\site-packages\\ipykernel_launcher.py:46: RuntimeWarning: invalid value encountered in arccos\n"
     ]
    },
    {
     "name": "stdout",
     "output_type": "stream",
     "text": [
      "50th row\n",
      "100th row\n",
      "150th row\n",
      "200th row\n",
      "Structure exists: 'Y:/Yuan/temp\\pdb2bkr.ent' \n"
     ]
    },
    {
     "name": "stderr",
     "output_type": "stream",
     "text": [
      "C:\\Users\\Administrator\\Anaconda3\\envs\\pdbPy3\\lib\\site-packages\\Bio\\PDB\\StructureBuilder.py:91: PDBConstructionWarning: WARNING: Chain A is discontinuous at line 2755.\n",
      "  PDBConstructionWarning)\n",
      "C:\\Users\\Administrator\\Anaconda3\\envs\\pdbPy3\\lib\\site-packages\\Bio\\PDB\\StructureBuilder.py:91: PDBConstructionWarning: WARNING: Chain B is discontinuous at line 2903.\n",
      "  PDBConstructionWarning)\n"
     ]
    },
    {
     "name": "stdout",
     "output_type": "stream",
     "text": [
      "0th row\n"
     ]
    },
    {
     "name": "stderr",
     "output_type": "stream",
     "text": [
      "C:\\Users\\Administrator\\Anaconda3\\envs\\pdbPy3\\lib\\site-packages\\ipykernel_launcher.py:46: RuntimeWarning: invalid value encountered in arccos\n"
     ]
    },
    {
     "name": "stdout",
     "output_type": "stream",
     "text": [
      "50th row\n",
      "100th row\n",
      "150th row\n",
      "200th row\n",
      "Structure exists: 'Y:/Yuan/temp\\pdb1am5.ent' \n",
      "0th row\n"
     ]
    },
    {
     "name": "stderr",
     "output_type": "stream",
     "text": [
      "C:\\Users\\Administrator\\Anaconda3\\envs\\pdbPy3\\lib\\site-packages\\ipykernel_launcher.py:46: RuntimeWarning: invalid value encountered in arccos\n"
     ]
    },
    {
     "name": "stdout",
     "output_type": "stream",
     "text": [
      "50th row\n",
      "100th row\n",
      "150th row\n",
      "200th row\n",
      "250th row\n",
      "300th row\n",
      "Structure exists: 'Y:/Yuan/temp\\pdb1a30.ent' \n"
     ]
    },
    {
     "name": "stderr",
     "output_type": "stream",
     "text": [
      "C:\\Users\\Administrator\\Anaconda3\\envs\\pdbPy3\\lib\\site-packages\\Bio\\PDB\\StructureBuilder.py:91: PDBConstructionWarning: WARNING: Chain A is discontinuous at line 1886.\n",
      "  PDBConstructionWarning)\n",
      "C:\\Users\\Administrator\\Anaconda3\\envs\\pdbPy3\\lib\\site-packages\\Bio\\PDB\\StructureBuilder.py:91: PDBConstructionWarning: WARNING: Chain B is discontinuous at line 1992.\n",
      "  PDBConstructionWarning)\n",
      "C:\\Users\\Administrator\\Anaconda3\\envs\\pdbPy3\\lib\\site-packages\\Bio\\PDB\\StructureBuilder.py:91: PDBConstructionWarning: WARNING: Chain C is discontinuous at line 2099.\n",
      "  PDBConstructionWarning)\n"
     ]
    },
    {
     "name": "stdout",
     "output_type": "stream",
     "text": [
      "0th row\n"
     ]
    },
    {
     "name": "stderr",
     "output_type": "stream",
     "text": [
      "C:\\Users\\Administrator\\Anaconda3\\envs\\pdbPy3\\lib\\site-packages\\ipykernel_launcher.py:46: RuntimeWarning: invalid value encountered in arccos\n"
     ]
    },
    {
     "name": "stdout",
     "output_type": "stream",
     "text": [
      "50th row\n",
      "Structure exists: 'Y:/Yuan/temp\\pdb1a30.ent' \n"
     ]
    },
    {
     "name": "stderr",
     "output_type": "stream",
     "text": [
      "C:\\Users\\Administrator\\Anaconda3\\envs\\pdbPy3\\lib\\site-packages\\Bio\\PDB\\StructureBuilder.py:91: PDBConstructionWarning: WARNING: Chain A is discontinuous at line 1886.\n",
      "  PDBConstructionWarning)\n",
      "C:\\Users\\Administrator\\Anaconda3\\envs\\pdbPy3\\lib\\site-packages\\Bio\\PDB\\StructureBuilder.py:91: PDBConstructionWarning: WARNING: Chain B is discontinuous at line 1992.\n",
      "  PDBConstructionWarning)\n",
      "C:\\Users\\Administrator\\Anaconda3\\envs\\pdbPy3\\lib\\site-packages\\Bio\\PDB\\StructureBuilder.py:91: PDBConstructionWarning: WARNING: Chain C is discontinuous at line 2099.\n",
      "  PDBConstructionWarning)\n"
     ]
    },
    {
     "name": "stdout",
     "output_type": "stream",
     "text": [
      "1a30 skipped\n",
      "Structure exists: 'Y:/Yuan/temp\\pdb1s2k.ent' \n"
     ]
    },
    {
     "name": "stderr",
     "output_type": "stream",
     "text": [
      "C:\\Users\\Administrator\\Anaconda3\\envs\\pdbPy3\\lib\\site-packages\\Bio\\PDB\\StructureBuilder.py:91: PDBConstructionWarning: WARNING: Chain A is discontinuous at line 1889.\n",
      "  PDBConstructionWarning)\n",
      "C:\\Users\\Administrator\\Anaconda3\\envs\\pdbPy3\\lib\\site-packages\\Bio\\PDB\\StructureBuilder.py:91: PDBConstructionWarning: WARNING: Chain B is discontinuous at line 2022.\n",
      "  PDBConstructionWarning)\n"
     ]
    },
    {
     "name": "stdout",
     "output_type": "stream",
     "text": [
      "0th row\n"
     ]
    },
    {
     "name": "stderr",
     "output_type": "stream",
     "text": [
      "C:\\Users\\Administrator\\Anaconda3\\envs\\pdbPy3\\lib\\site-packages\\ipykernel_launcher.py:46: RuntimeWarning: invalid value encountered in arccos\n"
     ]
    },
    {
     "name": "stdout",
     "output_type": "stream",
     "text": [
      "50th row\n",
      "100th row\n",
      "150th row\n",
      "Structure exists: 'Y:/Yuan/temp\\pdb1i78.ent' \n"
     ]
    },
    {
     "name": "stderr",
     "output_type": "stream",
     "text": [
      "C:\\Users\\Administrator\\Anaconda3\\envs\\pdbPy3\\lib\\site-packages\\Bio\\PDB\\StructureBuilder.py:91: PDBConstructionWarning: WARNING: Chain A is discontinuous at line 5121.\n",
      "  PDBConstructionWarning)\n",
      "C:\\Users\\Administrator\\Anaconda3\\envs\\pdbPy3\\lib\\site-packages\\Bio\\PDB\\StructureBuilder.py:91: PDBConstructionWarning: WARNING: Chain B is discontinuous at line 5177.\n",
      "  PDBConstructionWarning)\n",
      "C:\\Users\\Administrator\\Anaconda3\\envs\\pdbPy3\\lib\\site-packages\\Bio\\PDB\\StructureBuilder.py:91: PDBConstructionWarning: WARNING: Chain A is discontinuous at line 5217.\n",
      "  PDBConstructionWarning)\n",
      "C:\\Users\\Administrator\\Anaconda3\\envs\\pdbPy3\\lib\\site-packages\\Bio\\PDB\\StructureBuilder.py:91: PDBConstructionWarning: WARNING: Chain B is discontinuous at line 5236.\n",
      "  PDBConstructionWarning)\n"
     ]
    },
    {
     "name": "stdout",
     "output_type": "stream",
     "text": [
      "0th row\n"
     ]
    },
    {
     "name": "stderr",
     "output_type": "stream",
     "text": [
      "C:\\Users\\Administrator\\Anaconda3\\envs\\pdbPy3\\lib\\site-packages\\ipykernel_launcher.py:46: RuntimeWarning: invalid value encountered in arccos\n"
     ]
    },
    {
     "name": "stdout",
     "output_type": "stream",
     "text": [
      "50th row\n",
      "100th row\n",
      "150th row\n",
      "200th row\n",
      "250th row\n",
      "Structure exists: 'Y:/Yuan/temp\\pdb1r1j.ent' \n",
      "0th row\n"
     ]
    },
    {
     "name": "stderr",
     "output_type": "stream",
     "text": [
      "C:\\Users\\Administrator\\Anaconda3\\envs\\pdbPy3\\lib\\site-packages\\ipykernel_launcher.py:46: RuntimeWarning: invalid value encountered in arccos\n"
     ]
    },
    {
     "name": "stdout",
     "output_type": "stream",
     "text": [
      "50th row\n",
      "100th row\n",
      "150th row\n",
      "200th row\n",
      "250th row\n",
      "300th row\n",
      "350th row\n",
      "400th row\n",
      "450th row\n",
      "500th row\n",
      "550th row\n",
      "600th row\n",
      "650th row\n",
      "Structure exists: 'Y:/Yuan/temp\\pdb1i1i.ent' \n",
      "Structure exists: 'Y:/Yuan/temp\\pdb1hfs.ent' \n",
      "0th row\n"
     ]
    },
    {
     "name": "stderr",
     "output_type": "stream",
     "text": [
      "C:\\Users\\Administrator\\Anaconda3\\envs\\pdbPy3\\lib\\site-packages\\ipykernel_launcher.py:46: RuntimeWarning: invalid value encountered in arccos\n"
     ]
    },
    {
     "name": "stdout",
     "output_type": "stream",
     "text": [
      "50th row\n",
      "100th row\n",
      "150th row\n",
      "Structure exists: 'Y:/Yuan/temp\\pdb1ge7.ent' \n"
     ]
    },
    {
     "name": "stderr",
     "output_type": "stream",
     "text": [
      "C:\\Users\\Administrator\\Anaconda3\\envs\\pdbPy3\\lib\\site-packages\\Bio\\PDB\\StructureBuilder.py:91: PDBConstructionWarning: WARNING: Chain A is discontinuous at line 2964.\n",
      "  PDBConstructionWarning)\n",
      "C:\\Users\\Administrator\\Anaconda3\\envs\\pdbPy3\\lib\\site-packages\\Bio\\PDB\\StructureBuilder.py:91: PDBConstructionWarning: WARNING: Chain B is discontinuous at line 2976.\n",
      "  PDBConstructionWarning)\n",
      "C:\\Users\\Administrator\\Anaconda3\\envs\\pdbPy3\\lib\\site-packages\\Bio\\PDB\\StructureBuilder.py:91: PDBConstructionWarning: WARNING: Chain A is discontinuous at line 2988.\n",
      "  PDBConstructionWarning)\n",
      "C:\\Users\\Administrator\\Anaconda3\\envs\\pdbPy3\\lib\\site-packages\\Bio\\PDB\\StructureBuilder.py:91: PDBConstructionWarning: WARNING: Chain B is discontinuous at line 3138.\n",
      "  PDBConstructionWarning)\n"
     ]
    },
    {
     "name": "stdout",
     "output_type": "stream",
     "text": [
      "0th row\n"
     ]
    },
    {
     "name": "stderr",
     "output_type": "stream",
     "text": [
      "C:\\Users\\Administrator\\Anaconda3\\envs\\pdbPy3\\lib\\site-packages\\ipykernel_launcher.py:46: RuntimeWarning: invalid value encountered in arccos\n"
     ]
    },
    {
     "name": "stdout",
     "output_type": "stream",
     "text": [
      "50th row\n",
      "100th row\n",
      "150th row\n",
      "Structure exists: 'Y:/Yuan/temp\\pdb1ast.ent' \n",
      "0th row\n"
     ]
    },
    {
     "name": "stderr",
     "output_type": "stream",
     "text": [
      "C:\\Users\\Administrator\\Anaconda3\\envs\\pdbPy3\\lib\\site-packages\\ipykernel_launcher.py:46: RuntimeWarning: invalid value encountered in arccos\n"
     ]
    },
    {
     "name": "stdout",
     "output_type": "stream",
     "text": [
      "50th row\n",
      "100th row\n",
      "150th row\n",
      "Structure exists: 'Y:/Yuan/temp\\pdb1qib.ent' \n",
      "0th row\n"
     ]
    },
    {
     "name": "stderr",
     "output_type": "stream",
     "text": [
      "C:\\Users\\Administrator\\Anaconda3\\envs\\pdbPy3\\lib\\site-packages\\ipykernel_launcher.py:46: RuntimeWarning: invalid value encountered in arccos\n"
     ]
    },
    {
     "name": "stdout",
     "output_type": "stream",
     "text": [
      "50th row\n",
      "100th row\n",
      "150th row\n",
      "Structure exists: 'Y:/Yuan/temp\\pdb1kei.ent' \n",
      "0th row\n"
     ]
    },
    {
     "name": "stderr",
     "output_type": "stream",
     "text": [
      "C:\\Users\\Administrator\\Anaconda3\\envs\\pdbPy3\\lib\\site-packages\\ipykernel_launcher.py:46: RuntimeWarning: invalid value encountered in arccos\n"
     ]
    },
    {
     "name": "stdout",
     "output_type": "stream",
     "text": [
      "50th row\n",
      "100th row\n",
      "150th row\n",
      "200th row\n",
      "250th row\n",
      "300th row\n",
      "Structure exists: 'Y:/Yuan/temp\\pdb1lml.ent' \n",
      "0th row\n"
     ]
    },
    {
     "name": "stderr",
     "output_type": "stream",
     "text": [
      "C:\\Users\\Administrator\\Anaconda3\\envs\\pdbPy3\\lib\\site-packages\\ipykernel_launcher.py:46: RuntimeWarning: invalid value encountered in arccos\n"
     ]
    },
    {
     "name": "stdout",
     "output_type": "stream",
     "text": [
      "50th row\n",
      "100th row\n",
      "150th row\n",
      "200th row\n",
      "250th row\n",
      "300th row\n",
      "350th row\n",
      "400th row\n",
      "450th row\n",
      "Structure exists: 'Y:/Yuan/temp\\pdb1eb6.ent' \n",
      "0th row\n"
     ]
    },
    {
     "name": "stderr",
     "output_type": "stream",
     "text": [
      "C:\\Users\\Administrator\\Anaconda3\\envs\\pdbPy3\\lib\\site-packages\\ipykernel_launcher.py:46: RuntimeWarning: invalid value encountered in arccos\n"
     ]
    },
    {
     "name": "stdout",
     "output_type": "stream",
     "text": [
      "50th row\n",
      "100th row\n",
      "150th row\n",
      "Structure exists: 'Y:/Yuan/temp\\pdb1hr6.ent' \n"
     ]
    },
    {
     "name": "stderr",
     "output_type": "stream",
     "text": [
      "C:\\Users\\Administrator\\Anaconda3\\envs\\pdbPy3\\lib\\site-packages\\Bio\\PDB\\StructureBuilder.py:91: PDBConstructionWarning: WARNING: Chain A is discontinuous at line 29084.\n",
      "  PDBConstructionWarning)\n",
      "C:\\Users\\Administrator\\Anaconda3\\envs\\pdbPy3\\lib\\site-packages\\Bio\\PDB\\StructureBuilder.py:91: PDBConstructionWarning: WARNING: Chain B is discontinuous at line 29099.\n",
      "  PDBConstructionWarning)\n",
      "C:\\Users\\Administrator\\Anaconda3\\envs\\pdbPy3\\lib\\site-packages\\Bio\\PDB\\StructureBuilder.py:91: PDBConstructionWarning: WARNING: Chain D is discontinuous at line 29100.\n",
      "  PDBConstructionWarning)\n",
      "C:\\Users\\Administrator\\Anaconda3\\envs\\pdbPy3\\lib\\site-packages\\Bio\\PDB\\StructureBuilder.py:91: PDBConstructionWarning: WARNING: Chain F is discontinuous at line 29101.\n",
      "  PDBConstructionWarning)\n",
      "C:\\Users\\Administrator\\Anaconda3\\envs\\pdbPy3\\lib\\site-packages\\Bio\\PDB\\StructureBuilder.py:91: PDBConstructionWarning: WARNING: Chain G is discontinuous at line 29102.\n",
      "  PDBConstructionWarning)\n",
      "C:\\Users\\Administrator\\Anaconda3\\envs\\pdbPy3\\lib\\site-packages\\Bio\\PDB\\StructureBuilder.py:91: PDBConstructionWarning: WARNING: Chain H is discontinuous at line 29117.\n",
      "  PDBConstructionWarning)\n",
      "C:\\Users\\Administrator\\Anaconda3\\envs\\pdbPy3\\lib\\site-packages\\Bio\\PDB\\StructureBuilder.py:91: PDBConstructionWarning: WARNING: Chain A is discontinuous at line 29118.\n",
      "  PDBConstructionWarning)\n",
      "C:\\Users\\Administrator\\Anaconda3\\envs\\pdbPy3\\lib\\site-packages\\Bio\\PDB\\StructureBuilder.py:91: PDBConstructionWarning: WARNING: Chain B is discontinuous at line 29165.\n",
      "  PDBConstructionWarning)\n",
      "C:\\Users\\Administrator\\Anaconda3\\envs\\pdbPy3\\lib\\site-packages\\Bio\\PDB\\StructureBuilder.py:91: PDBConstructionWarning: WARNING: Chain C is discontinuous at line 29219.\n",
      "  PDBConstructionWarning)\n",
      "C:\\Users\\Administrator\\Anaconda3\\envs\\pdbPy3\\lib\\site-packages\\Bio\\PDB\\StructureBuilder.py:91: PDBConstructionWarning: WARNING: Chain D is discontinuous at line 29247.\n",
      "  PDBConstructionWarning)\n",
      "C:\\Users\\Administrator\\Anaconda3\\envs\\pdbPy3\\lib\\site-packages\\Bio\\PDB\\StructureBuilder.py:91: PDBConstructionWarning: WARNING: Chain E is discontinuous at line 29268.\n",
      "  PDBConstructionWarning)\n",
      "C:\\Users\\Administrator\\Anaconda3\\envs\\pdbPy3\\lib\\site-packages\\Bio\\PDB\\StructureBuilder.py:91: PDBConstructionWarning: WARNING: Chain F is discontinuous at line 29303.\n",
      "  PDBConstructionWarning)\n",
      "C:\\Users\\Administrator\\Anaconda3\\envs\\pdbPy3\\lib\\site-packages\\Bio\\PDB\\StructureBuilder.py:91: PDBConstructionWarning: WARNING: Chain G is discontinuous at line 29313.\n",
      "  PDBConstructionWarning)\n",
      "C:\\Users\\Administrator\\Anaconda3\\envs\\pdbPy3\\lib\\site-packages\\Bio\\PDB\\StructureBuilder.py:91: PDBConstructionWarning: WARNING: Chain H is discontinuous at line 29338.\n",
      "  PDBConstructionWarning)\n"
     ]
    },
    {
     "name": "stdout",
     "output_type": "stream",
     "text": [
      "0th row\n"
     ]
    },
    {
     "name": "stderr",
     "output_type": "stream",
     "text": [
      "C:\\Users\\Administrator\\Anaconda3\\envs\\pdbPy3\\lib\\site-packages\\ipykernel_launcher.py:46: RuntimeWarning: invalid value encountered in arccos\n"
     ]
    },
    {
     "name": "stdout",
     "output_type": "stream",
     "text": [
      "50th row\n",
      "100th row\n",
      "150th row\n",
      "200th row\n",
      "250th row\n",
      "300th row\n",
      "350th row\n",
      "400th row\n",
      "Structure exists: 'Y:/Yuan/temp\\pdb1i1e.ent' \n",
      "0th row\n"
     ]
    },
    {
     "name": "stderr",
     "output_type": "stream",
     "text": [
      "C:\\Users\\Administrator\\Anaconda3\\envs\\pdbPy3\\lib\\site-packages\\ipykernel_launcher.py:46: RuntimeWarning: invalid value encountered in arccos\n"
     ]
    },
    {
     "name": "stdout",
     "output_type": "stream",
     "text": [
      "50th row\n",
      "100th row\n",
      "150th row\n",
      "200th row\n",
      "250th row\n",
      "300th row\n",
      "350th row\n",
      "400th row\n",
      "450th row\n",
      "500th row\n",
      "550th row\n",
      "600th row\n",
      "650th row\n",
      "700th row\n",
      "750th row\n",
      "800th row\n",
      "850th row\n",
      "900th row\n",
      "950th row\n",
      "1000th row\n",
      "1050th row\n",
      "1100th row\n",
      "1150th row\n",
      "1200th row\n",
      "1250th row\n",
      "Structure exists: 'Y:/Yuan/temp\\pdb1pwv.ent' \n",
      "0th row\n"
     ]
    },
    {
     "name": "stderr",
     "output_type": "stream",
     "text": [
      "C:\\Users\\Administrator\\Anaconda3\\envs\\pdbPy3\\lib\\site-packages\\ipykernel_launcher.py:46: RuntimeWarning: invalid value encountered in arccos\n"
     ]
    },
    {
     "name": "stdout",
     "output_type": "stream",
     "text": [
      "50th row\n",
      "100th row\n",
      "150th row\n",
      "200th row\n",
      "250th row\n",
      "300th row\n",
      "350th row\n",
      "400th row\n",
      "450th row\n",
      "500th row\n",
      "550th row\n",
      "600th row\n",
      "650th row\n",
      "700th row\n",
      "Structure exists: 'Y:/Yuan/temp\\pdb1ryp.ent' \n"
     ]
    },
    {
     "name": "stderr",
     "output_type": "stream",
     "text": [
      "C:\\Users\\Administrator\\Anaconda3\\envs\\pdbPy3\\lib\\site-packages\\Bio\\PDB\\StructureBuilder.py:91: PDBConstructionWarning: WARNING: Chain A is discontinuous at line 51464.\n",
      "  PDBConstructionWarning)\n",
      "C:\\Users\\Administrator\\Anaconda3\\envs\\pdbPy3\\lib\\site-packages\\Bio\\PDB\\StructureBuilder.py:91: PDBConstructionWarning: WARNING: Chain E is discontinuous at line 51466.\n",
      "  PDBConstructionWarning)\n",
      "C:\\Users\\Administrator\\Anaconda3\\envs\\pdbPy3\\lib\\site-packages\\Bio\\PDB\\StructureBuilder.py:91: PDBConstructionWarning: WARNING: Chain G is discontinuous at line 51467.\n",
      "  PDBConstructionWarning)\n",
      "C:\\Users\\Administrator\\Anaconda3\\envs\\pdbPy3\\lib\\site-packages\\Bio\\PDB\\StructureBuilder.py:91: PDBConstructionWarning: WARNING: Chain H is discontinuous at line 51468.\n",
      "  PDBConstructionWarning)\n",
      "C:\\Users\\Administrator\\Anaconda3\\envs\\pdbPy3\\lib\\site-packages\\Bio\\PDB\\StructureBuilder.py:91: PDBConstructionWarning: WARNING: Chain I is discontinuous at line 51469.\n",
      "  PDBConstructionWarning)\n",
      "C:\\Users\\Administrator\\Anaconda3\\envs\\pdbPy3\\lib\\site-packages\\Bio\\PDB\\StructureBuilder.py:91: PDBConstructionWarning: WARNING: Chain J is discontinuous at line 51470.\n",
      "  PDBConstructionWarning)\n",
      "C:\\Users\\Administrator\\Anaconda3\\envs\\pdbPy3\\lib\\site-packages\\Bio\\PDB\\StructureBuilder.py:91: PDBConstructionWarning: WARNING: Chain L is discontinuous at line 51472.\n",
      "  PDBConstructionWarning)\n",
      "C:\\Users\\Administrator\\Anaconda3\\envs\\pdbPy3\\lib\\site-packages\\Bio\\PDB\\StructureBuilder.py:91: PDBConstructionWarning: WARNING: Chain M is discontinuous at line 51473.\n",
      "  PDBConstructionWarning)\n",
      "C:\\Users\\Administrator\\Anaconda3\\envs\\pdbPy3\\lib\\site-packages\\Bio\\PDB\\StructureBuilder.py:91: PDBConstructionWarning: WARNING: Chain O is discontinuous at line 51474.\n",
      "  PDBConstructionWarning)\n",
      "C:\\Users\\Administrator\\Anaconda3\\envs\\pdbPy3\\lib\\site-packages\\Bio\\PDB\\StructureBuilder.py:91: PDBConstructionWarning: WARNING: Chain S is discontinuous at line 51476.\n",
      "  PDBConstructionWarning)\n",
      "C:\\Users\\Administrator\\Anaconda3\\envs\\pdbPy3\\lib\\site-packages\\Bio\\PDB\\StructureBuilder.py:91: PDBConstructionWarning: WARNING: Chain U is discontinuous at line 51477.\n",
      "  PDBConstructionWarning)\n",
      "C:\\Users\\Administrator\\Anaconda3\\envs\\pdbPy3\\lib\\site-packages\\Bio\\PDB\\StructureBuilder.py:91: PDBConstructionWarning: WARNING: Chain V is discontinuous at line 51478.\n",
      "  PDBConstructionWarning)\n",
      "C:\\Users\\Administrator\\Anaconda3\\envs\\pdbPy3\\lib\\site-packages\\Bio\\PDB\\StructureBuilder.py:91: PDBConstructionWarning: WARNING: Chain W is discontinuous at line 51479.\n",
      "  PDBConstructionWarning)\n",
      "C:\\Users\\Administrator\\Anaconda3\\envs\\pdbPy3\\lib\\site-packages\\Bio\\PDB\\StructureBuilder.py:91: PDBConstructionWarning: WARNING: Chain X is discontinuous at line 51480.\n",
      "  PDBConstructionWarning)\n",
      "C:\\Users\\Administrator\\Anaconda3\\envs\\pdbPy3\\lib\\site-packages\\Bio\\PDB\\StructureBuilder.py:91: PDBConstructionWarning: WARNING: Chain Z is discontinuous at line 51482.\n",
      "  PDBConstructionWarning)\n",
      "C:\\Users\\Administrator\\Anaconda3\\envs\\pdbPy3\\lib\\site-packages\\Bio\\PDB\\StructureBuilder.py:91: PDBConstructionWarning: WARNING: Chain 1 is discontinuous at line 51483.\n",
      "  PDBConstructionWarning)\n",
      "C:\\Users\\Administrator\\Anaconda3\\envs\\pdbPy3\\lib\\site-packages\\Bio\\PDB\\StructureBuilder.py:91: PDBConstructionWarning: WARNING: Chain A is discontinuous at line 51484.\n",
      "  PDBConstructionWarning)\n",
      "C:\\Users\\Administrator\\Anaconda3\\envs\\pdbPy3\\lib\\site-packages\\Bio\\PDB\\StructureBuilder.py:91: PDBConstructionWarning: WARNING: Chain B is discontinuous at line 51597.\n",
      "  PDBConstructionWarning)\n",
      "C:\\Users\\Administrator\\Anaconda3\\envs\\pdbPy3\\lib\\site-packages\\Bio\\PDB\\StructureBuilder.py:91: PDBConstructionWarning: WARNING: Chain C is discontinuous at line 51706.\n",
      "  PDBConstructionWarning)\n",
      "C:\\Users\\Administrator\\Anaconda3\\envs\\pdbPy3\\lib\\site-packages\\Bio\\PDB\\StructureBuilder.py:91: PDBConstructionWarning: WARNING: Chain D is discontinuous at line 51779.\n",
      "  PDBConstructionWarning)\n",
      "C:\\Users\\Administrator\\Anaconda3\\envs\\pdbPy3\\lib\\site-packages\\Bio\\PDB\\StructureBuilder.py:91: PDBConstructionWarning: WARNING: Chain E is discontinuous at line 51845.\n",
      "  PDBConstructionWarning)\n",
      "C:\\Users\\Administrator\\Anaconda3\\envs\\pdbPy3\\lib\\site-packages\\Bio\\PDB\\StructureBuilder.py:91: PDBConstructionWarning: WARNING: Chain F is discontinuous at line 51933.\n",
      "  PDBConstructionWarning)\n",
      "C:\\Users\\Administrator\\Anaconda3\\envs\\pdbPy3\\lib\\site-packages\\Bio\\PDB\\StructureBuilder.py:91: PDBConstructionWarning: WARNING: Chain G is discontinuous at line 51991.\n",
      "  PDBConstructionWarning)\n",
      "C:\\Users\\Administrator\\Anaconda3\\envs\\pdbPy3\\lib\\site-packages\\Bio\\PDB\\StructureBuilder.py:91: PDBConstructionWarning: WARNING: Chain H is discontinuous at line 52082.\n",
      "  PDBConstructionWarning)\n",
      "C:\\Users\\Administrator\\Anaconda3\\envs\\pdbPy3\\lib\\site-packages\\Bio\\PDB\\StructureBuilder.py:91: PDBConstructionWarning: WARNING: Chain I is discontinuous at line 52196.\n",
      "  PDBConstructionWarning)\n",
      "C:\\Users\\Administrator\\Anaconda3\\envs\\pdbPy3\\lib\\site-packages\\Bio\\PDB\\StructureBuilder.py:91: PDBConstructionWarning: WARNING: Chain J is discontinuous at line 52318.\n",
      "  PDBConstructionWarning)\n",
      "C:\\Users\\Administrator\\Anaconda3\\envs\\pdbPy3\\lib\\site-packages\\Bio\\PDB\\StructureBuilder.py:91: PDBConstructionWarning: WARNING: Chain K is discontinuous at line 52431.\n",
      "  PDBConstructionWarning)\n",
      "C:\\Users\\Administrator\\Anaconda3\\envs\\pdbPy3\\lib\\site-packages\\Bio\\PDB\\StructureBuilder.py:91: PDBConstructionWarning: WARNING: Chain L is discontinuous at line 52548.\n",
      "  PDBConstructionWarning)\n",
      "C:\\Users\\Administrator\\Anaconda3\\envs\\pdbPy3\\lib\\site-packages\\Bio\\PDB\\StructureBuilder.py:91: PDBConstructionWarning: WARNING: Chain M is discontinuous at line 52648.\n",
      "  PDBConstructionWarning)\n",
      "C:\\Users\\Administrator\\Anaconda3\\envs\\pdbPy3\\lib\\site-packages\\Bio\\PDB\\StructureBuilder.py:91: PDBConstructionWarning: WARNING: Chain N is discontinuous at line 52783.\n",
      "  PDBConstructionWarning)\n",
      "C:\\Users\\Administrator\\Anaconda3\\envs\\pdbPy3\\lib\\site-packages\\Bio\\PDB\\StructureBuilder.py:91: PDBConstructionWarning: WARNING: Chain O is discontinuous at line 52941.\n",
      "  PDBConstructionWarning)\n",
      "C:\\Users\\Administrator\\Anaconda3\\envs\\pdbPy3\\lib\\site-packages\\Bio\\PDB\\StructureBuilder.py:91: PDBConstructionWarning: WARNING: Chain P is discontinuous at line 53049.\n",
      "  PDBConstructionWarning)\n",
      "C:\\Users\\Administrator\\Anaconda3\\envs\\pdbPy3\\lib\\site-packages\\Bio\\PDB\\StructureBuilder.py:91: PDBConstructionWarning: WARNING: Chain Q is discontinuous at line 53154.\n",
      "  PDBConstructionWarning)\n",
      "C:\\Users\\Administrator\\Anaconda3\\envs\\pdbPy3\\lib\\site-packages\\Bio\\PDB\\StructureBuilder.py:91: PDBConstructionWarning: WARNING: Chain R is discontinuous at line 53232.\n",
      "  PDBConstructionWarning)\n",
      "C:\\Users\\Administrator\\Anaconda3\\envs\\pdbPy3\\lib\\site-packages\\Bio\\PDB\\StructureBuilder.py:91: PDBConstructionWarning: WARNING: Chain S is discontinuous at line 53295.\n",
      "  PDBConstructionWarning)\n",
      "C:\\Users\\Administrator\\Anaconda3\\envs\\pdbPy3\\lib\\site-packages\\Bio\\PDB\\StructureBuilder.py:91: PDBConstructionWarning: WARNING: Chain T is discontinuous at line 53383.\n",
      "  PDBConstructionWarning)\n",
      "C:\\Users\\Administrator\\Anaconda3\\envs\\pdbPy3\\lib\\site-packages\\Bio\\PDB\\StructureBuilder.py:91: PDBConstructionWarning: WARNING: Chain U is discontinuous at line 53438.\n",
      "  PDBConstructionWarning)\n",
      "C:\\Users\\Administrator\\Anaconda3\\envs\\pdbPy3\\lib\\site-packages\\Bio\\PDB\\StructureBuilder.py:91: PDBConstructionWarning: WARNING: Chain V is discontinuous at line 53530.\n",
      "  PDBConstructionWarning)\n",
      "C:\\Users\\Administrator\\Anaconda3\\envs\\pdbPy3\\lib\\site-packages\\Bio\\PDB\\StructureBuilder.py:91: PDBConstructionWarning: WARNING: Chain W is discontinuous at line 53651.\n",
      "  PDBConstructionWarning)\n",
      "C:\\Users\\Administrator\\Anaconda3\\envs\\pdbPy3\\lib\\site-packages\\Bio\\PDB\\StructureBuilder.py:91: PDBConstructionWarning: WARNING: Chain X is discontinuous at line 53775.\n",
      "  PDBConstructionWarning)\n",
      "C:\\Users\\Administrator\\Anaconda3\\envs\\pdbPy3\\lib\\site-packages\\Bio\\PDB\\StructureBuilder.py:91: PDBConstructionWarning: WARNING: Chain Y is discontinuous at line 53885.\n",
      "  PDBConstructionWarning)\n",
      "C:\\Users\\Administrator\\Anaconda3\\envs\\pdbPy3\\lib\\site-packages\\Bio\\PDB\\StructureBuilder.py:91: PDBConstructionWarning: WARNING: Chain Z is discontinuous at line 54000.\n",
      "  PDBConstructionWarning)\n",
      "C:\\Users\\Administrator\\Anaconda3\\envs\\pdbPy3\\lib\\site-packages\\Bio\\PDB\\StructureBuilder.py:91: PDBConstructionWarning: WARNING: Chain 1 is discontinuous at line 54100.\n",
      "  PDBConstructionWarning)\n",
      "C:\\Users\\Administrator\\Anaconda3\\envs\\pdbPy3\\lib\\site-packages\\Bio\\PDB\\StructureBuilder.py:91: PDBConstructionWarning: WARNING: Chain 2 is discontinuous at line 54239.\n",
      "  PDBConstructionWarning)\n"
     ]
    },
    {
     "name": "stdout",
     "output_type": "stream",
     "text": [
      "0th row\n"
     ]
    },
    {
     "name": "stderr",
     "output_type": "stream",
     "text": [
      "C:\\Users\\Administrator\\Anaconda3\\envs\\pdbPy3\\lib\\site-packages\\ipykernel_launcher.py:46: RuntimeWarning: invalid value encountered in arccos\n"
     ]
    },
    {
     "name": "stdout",
     "output_type": "stream",
     "text": [
      "50th row\n",
      "100th row\n",
      "150th row\n",
      "200th row\n",
      "Structure exists: 'Y:/Yuan/temp\\pdb1ht1.ent' \n"
     ]
    },
    {
     "name": "stderr",
     "output_type": "stream",
     "text": [
      "C:\\Users\\Administrator\\Anaconda3\\envs\\pdbPy3\\lib\\site-packages\\Bio\\PDB\\StructureBuilder.py:91: PDBConstructionWarning: WARNING: Chain E is discontinuous at line 24864.\n",
      "  PDBConstructionWarning)\n",
      "C:\\Users\\Administrator\\Anaconda3\\envs\\pdbPy3\\lib\\site-packages\\Bio\\PDB\\StructureBuilder.py:91: PDBConstructionWarning: WARNING: Chain F is discontinuous at line 24891.\n",
      "  PDBConstructionWarning)\n",
      "C:\\Users\\Administrator\\Anaconda3\\envs\\pdbPy3\\lib\\site-packages\\Bio\\PDB\\StructureBuilder.py:91: PDBConstructionWarning: WARNING: Chain G is discontinuous at line 24918.\n",
      "  PDBConstructionWarning)\n",
      "C:\\Users\\Administrator\\Anaconda3\\envs\\pdbPy3\\lib\\site-packages\\Bio\\PDB\\StructureBuilder.py:91: PDBConstructionWarning: WARNING: Chain I is discontinuous at line 24945.\n",
      "  PDBConstructionWarning)\n"
     ]
    },
    {
     "name": "stdout",
     "output_type": "stream",
     "text": [
      "0th row\n"
     ]
    },
    {
     "name": "stderr",
     "output_type": "stream",
     "text": [
      "C:\\Users\\Administrator\\Anaconda3\\envs\\pdbPy3\\lib\\site-packages\\ipykernel_launcher.py:46: RuntimeWarning: invalid value encountered in arccos\n"
     ]
    },
    {
     "name": "stdout",
     "output_type": "stream",
     "text": [
      "50th row\n",
      "100th row\n",
      "150th row\n",
      "200th row\n",
      "250th row\n",
      "300th row\n",
      "350th row\n",
      "400th row\n"
     ]
    }
   ],
   "source": [
    "#define two residue types for plotting\n",
    "residue1 = \"GLY\"\n",
    "residue2 = \"ASP\"\n",
    "resultContainer = list()\n",
    "for index, oneRow in uniqueList.iterrows():\n",
    "    try:\n",
    "        pdbID = oneRow[\"PDB\"]\n",
    "        chainOrder = oneRow[\"chain/kegg compound\"]\n",
    "        PDB = PDBList()\n",
    "        PDB.retrieve_pdb_file(pdb_code = pdbID, pdir = \"Y:/Yuan/temp\", file_format=\"pdb\")\n",
    "        p = PDBParser()\n",
    "        structure = p.get_structure(\"X\",\"Y:/Yuan/temp/pdb\"+pdbID+\".ent\")\n",
    "        oneChain = pd.DataFrame(columns = [\"Seq\",\"Residue\",\"Center\",\"Direction\"])\n",
    "        if structure.header[\"resolution\"]<=3.0:\n",
    "            if chainOrder in [x.id for x in list(structure[0].get_chains())]: #Chain information not in pdb file\n",
    "                for residue in structure[0][chainOrder]: \n",
    "                    if residue.get_resname() in aminoAcidCodes: # Only treat common amino acid\n",
    "                        if residue.get_id()[2] == \" \": #ignore insertions\n",
    "                            if len(list(residue.get_atoms())) >3:\n",
    "                                if residue.get_resname() != \"GLY\":  # Glysine as a special case\n",
    "                                    point = vectors.Vector([0,0,0])\n",
    "                                    for atom in residue:\n",
    "                                        if(atom.get_name() not in backbone):\n",
    "                                            point = point + atom.get_vector()\n",
    "                                    center = point.__div__(len(residue)-4)\n",
    "                                    cToRGroup = residue[\"CA\"].get_vector()-center\n",
    "                                    oneChain.loc[len(oneChain)] = [residue.get_id()[1],residue.get_resname(),center,cToRGroup]        \n",
    "                                else:\n",
    "                                    center = residue[\"CA\"].get_vector()\n",
    "                                    cToRGroup = center - (residue[\"C\"].get_vector()+residue[\"N\"].get_vector()+residue[\"O\"].get_vector()).__div__(3)\n",
    "                                    oneChain.loc[len(oneChain)] = [residue.get_id()[1],residue.get_resname(),center,cToRGroup]\n",
    "            allTwoResidue = oneChain[(oneChain[\"Residue\"] == residue1)|(oneChain[\"Residue\"] == residue2)]\n",
    "            allTwoResidue.is_copy = False\n",
    "            allTwoResidue.loc[:,\"active\"] = np.where(allTwoResidue[\"Seq\"].isin(bindingSiteDic[pdbID][chainOrder]),\"yes\",\"no\")\n",
    "        distanceMatrix = pd.DataFrame(columns = list(oneChain.iloc[:,0]),index = list(oneChain.iloc[:,0]))\n",
    "        angleMatrix = pd.DataFrame(columns = list(oneChain.iloc[:,0]),index = list(oneChain.iloc[:,0]))\n",
    "        numResidue = len(oneChain)\n",
    "        for row in range(0,numResidue):\n",
    "            if row % 50 ==0:\n",
    "                print(str(row)+\"th row\")\n",
    "            for column in range(0,numResidue):\n",
    "                coordinatesSubstraction = list(oneChain.loc[row,\"Center\"] - oneChain.loc[column,\"Center\"])\n",
    "                distanceMatrix.iloc[row,column] = sqrt(sum(list(map(lambda x:x*x, coordinatesSubstraction))))\n",
    "                v1 = oneChain.loc[row,\"Direction\"] \n",
    "                v2 = oneChain.loc[column,\"Direction\"]\n",
    "                angleMatrix.iloc[row,column] = 180*np.arccos(np.dot(v1,v2)/(np.linalg.norm(v1) * np.linalg.norm(v2)))/np.pi\n",
    "        allTwoResidue[\"all_point\"] = None\n",
    "        allTwoResidue[\"PDBID\"] = pdbID\n",
    "        allTwoResidue[\"Chain\"] = chainOrder\n",
    "        rawAllTwoResidue=allTwoResidue.copy(deep=True)\n",
    "        for i,row in allTwoResidue.iterrows():\n",
    "            if row[\"Residue\"] == residue1:\n",
    "                allPoint = list()\n",
    "                oneResidue1 = row[\"Seq\"]\n",
    "                for oneResidue2 in rawAllTwoResidue[rawAllTwoResidue[\"Residue\"]==residue2][\"Seq\"]:\n",
    "                    coordinate1=distanceMatrix.loc[oneResidue1,oneResidue2]\n",
    "                    coordinate2=angleMatrix.loc[oneResidue1,oneResidue2]      \n",
    "                    allPoint.append(str(coordinate1))\n",
    "                    allPoint.append(str(coordinate2))\n",
    "                allTwoResidue.set_value(i,\"all_point\",\",\".join(allPoint))\n",
    "        resultContainer.append(allTwoResidue)\n",
    "    except Exception:\n",
    "        print(pdbID,\"skipped\")\n",
    "combinedResult = pd.concat(resultContainer)"
   ]
  },
  {
   "cell_type": "code",
   "execution_count": 424,
   "metadata": {},
   "outputs": [],
   "source": [
    "combinedResult.to_csv(\"combineResult.csv\")"
   ]
  },
  {
   "cell_type": "code",
   "execution_count": 432,
   "metadata": {},
   "outputs": [],
   "source": [
    "coordinate1 = list()\n",
    "coordinate2 = list()\n",
    "flag = False\n",
    "for eachRow in combinedResult[(combinedResult[\"Residue\"] != residue2)&(combinedResult[\"active\"]==\"yes\")][\"all_point\"]:\n",
    "    if eachRow != None:\n",
    "        if len(eachRow.strip().split(\",\"))>1:\n",
    "            for i,element in enumerate(eachRow.strip().split(\",\")):\n",
    "                if i%2 == 0:\n",
    "                    if float(element) <17:\n",
    "                        flag = True\n",
    "                        coordinate1.append(element)\n",
    "                elif i%2 ==1 & flag:\n",
    "                    coordinate2.append(element)\n",
    "                    flag = False"
   ]
  },
  {
   "cell_type": "code",
   "execution_count": 433,
   "metadata": {},
   "outputs": [
    {
     "data": {
      "image/png": "[encoded data removed]",
      "text/plain": [
       "<matplotlib.figure.Figure at 0xaa6dcf10f0>"
      ]
     },
     "metadata": {},
     "output_type": "display_data"
    }
   ],
   "source": [
    "plt.figure(figsize = (10,5),dpi=80)\n",
    "\n",
    "plt.scatter(coordinate1,coordinate2,\n",
    "           marker = \"s\")\n",
    "\n",
    "\n",
    "#plt.legend([\"ASP_Neg\",\"ASP_Pos\",\"HIS_Neg\",\"His_Pos\"])\n",
    "\n",
    "plt.xlabel(\"Distance\")\n",
    "plt.ylabel(\"Angle\")\n",
    "\n",
    "plt.title(\"Active {} vs {}\".format(residue1,residue2))\n",
    "plt.savefig(\"Active {} vs {}.png\".format(residue1,residue2),dpi=300, facecolor='w', edgecolor='w',\n",
    "        orientation='portrait', papertype=None, format=None,\n",
    "        transparent=False, bbox_inches=None, pad_inches=0.1,\n",
    "        frameon=None, metadata=None)\n",
    "\n",
    "plt.show()"
   ]
  },
  {
   "cell_type": "code",
   "execution_count": 434,
   "metadata": {},
   "outputs": [
    {
     "data": {
      "image/png": "[encoded data removed]",
      "text/plain": [
       "<matplotlib.figure.Figure at 0xaa03db26a0>"
      ]
     },
     "metadata": {},
     "output_type": "display_data"
    }
   ],
   "source": [
    "plt.figure(figsize = (10,5),dpi=80)\n",
    "plt.hist([float(x) for x in coordinate2], bins=20)\n",
    "plt.title(\"Active {} vs {} angle\".format(residue1,residue2))\n",
    "plt.savefig(\"Active {} vs {} angle.png\".format(residue1,residue2),dpi=300, facecolor='w', edgecolor='w',\n",
    "        orientation='portrait', papertype=None, format=None,\n",
    "        transparent=False, bbox_inches=None, pad_inches=0.1,\n",
    "        frameon=None, metadata=None)\n",
    "plt.show()"
   ]
  },
  {
   "cell_type": "code",
   "execution_count": 435,
   "metadata": {},
   "outputs": [],
   "source": [
    "coordinate1 = list()\n",
    "coordinate2 = list()\n",
    "flag = False\n",
    "for eachRow in combinedResult[(combinedResult[\"Residue\"] != residue2)&(combinedResult[\"active\"]==\"no\")][\"all_point\"]:\n",
    "    if eachRow != None:\n",
    "        if (len(eachRow.strip().split(\",\"))>2):\n",
    "            for i,element in enumerate(eachRow.split(\",\")):\n",
    "                if i%2 == 0:\n",
    "                    if float(element) <17:\n",
    "                        flag = True\n",
    "                        coordinate1.append(element)\n",
    "                elif i%2 ==1 & flag:\n",
    "                    coordinate2.append(element)\n",
    "                    flag = False"
   ]
  },
  {
   "cell_type": "code",
   "execution_count": 436,
   "metadata": {},
   "outputs": [
    {
     "data": {
      "image/png": "[encoded data removed]",
      "text/plain": [
       "<matplotlib.figure.Figure at 0xaa0321ac88>"
      ]
     },
     "metadata": {},
     "output_type": "display_data"
    }
   ],
   "source": [
    "plt.figure(figsize = (10,5),dpi=80)\n",
    "\n",
    "plt.scatter(coordinate1,coordinate2,\n",
    "           marker = \"s\")\n",
    "\n",
    "\n",
    "#plt.legend([\"ASP_Neg\",\"ASP_Pos\",\"HIS_Neg\",\"His_Pos\"])\n",
    "\n",
    "plt.xlabel(\"Distance\")\n",
    "plt.ylabel(\"Angle\")\n",
    "plt.title(\"Nonactive {} vs {}\".format(residue1,residue2))\n",
    "plt.savefig(\"NonActive {} vs {}.png\".format(residue1,residue2),dpi=300, facecolor='w', edgecolor='w',\n",
    "        orientation='portrait', papertype=None, format=None,\n",
    "        transparent=False, bbox_inches=None, pad_inches=0.1,\n",
    "        frameon=None, metadata=None)\n",
    "\n",
    "plt.show()\n"
   ]
  },
  {
   "cell_type": "code",
   "execution_count": 437,
   "metadata": {},
   "outputs": [
    {
     "data": {
      "image/png": "[encoded data removed]",
      "text/plain": [
       "<matplotlib.figure.Figure at 0xaa03fbdcc0>"
      ]
     },
     "metadata": {},
     "output_type": "display_data"
    }
   ],
   "source": [
    "plt.figure(figsize = (10,5),dpi=80)\n",
    "plt.hist([float(x) for x in coordinate2], bins=20)\n",
    "plt.title(\"Nonactive {} vs {} angle\".format(residue1,residue2))\n",
    "plt.savefig(\"Nonactive {} vs {} angle.png\".format(residue1,residue2),dpi=300, facecolor='w', edgecolor='w',\n",
    "        orientation='portrait', papertype=None, format=None,\n",
    "        transparent=False, bbox_inches=None, pad_inches=0.1,\n",
    "        frameon=None, metadata=None)\n",
    "plt.show()"
   ]
  },
  {
   "cell_type": "code",
   "execution_count": 411,
   "metadata": {},
   "outputs": [
    {
     "data": {
      "text/html": [
       "<div>\n",
       "<style>\n",
       "    .dataframe thead tr:only-child th {\n",
       "        text-align: right;\n",
       "    }\n",
       "\n",
       "    .dataframe thead th {\n",
       "        text-align: left;\n",
       "    }\n",
       "\n",
       "    .dataframe tbody tr th {\n",
       "        vertical-align: top;\n",
       "    }\n",
       "</style>\n",
       "<table border=\"1\" class=\"dataframe\">\n",
       "  <thead>\n",
       "    <tr style=\"text-align: right;\">\n",
       "      <th></th>\n",
       "      <th>Seq</th>\n",
       "      <th>Residue</th>\n",
       "      <th>Center</th>\n",
       "      <th>Direction</th>\n",
       "      <th>active</th>\n",
       "      <th>all_point</th>\n",
       "      <th>PDBID</th>\n",
       "      <th>Chain</th>\n",
       "    </tr>\n",
       "  </thead>\n",
       "  <tbody>\n",
       "    <tr>\n",
       "      <th>15</th>\n",
       "      <td>16</td>\n",
       "      <td>ASP</td>\n",
       "      <td>&lt;Vector 23.62, 84.02, 43.35&gt;</td>\n",
       "      <td>&lt;Vector 2.43, 0.02, -0.50&gt;</td>\n",
       "      <td>no</td>\n",
       "      <td>None</td>\n",
       "      <td>1lam</td>\n",
       "      <td>A</td>\n",
       "    </tr>\n",
       "    <tr>\n",
       "      <th>57</th>\n",
       "      <td>58</td>\n",
       "      <td>HIS</td>\n",
       "      <td>&lt;Vector 15.20, 75.91, 19.99&gt;</td>\n",
       "      <td>&lt;Vector -0.44, -2.51, 1.82&gt;</td>\n",
       "      <td>no</td>\n",
       "      <td>26.125732528229232,105.19996336,4.807243279502...</td>\n",
       "      <td>1lam</td>\n",
       "      <td>A</td>\n",
       "    </tr>\n",
       "    <tr>\n",
       "      <th>59</th>\n",
       "      <td>60</td>\n",
       "      <td>ASP</td>\n",
       "      <td>&lt;Vector 15.93, 74.69, 15.40&gt;</td>\n",
       "      <td>&lt;Vector 0.50, -2.05, 1.31&gt;</td>\n",
       "      <td>no</td>\n",
       "      <td>None</td>\n",
       "      <td>1lam</td>\n",
       "      <td>A</td>\n",
       "    </tr>\n",
       "    <tr>\n",
       "      <th>76</th>\n",
       "      <td>77</td>\n",
       "      <td>ASP</td>\n",
       "      <td>&lt;Vector 49.98, 77.01, 35.15&gt;</td>\n",
       "      <td>&lt;Vector 0.43, 2.03, -1.37&gt;</td>\n",
       "      <td>no</td>\n",
       "      <td>None</td>\n",
       "      <td>1lam</td>\n",
       "      <td>A</td>\n",
       "    </tr>\n",
       "    <tr>\n",
       "      <th>82</th>\n",
       "      <td>83</td>\n",
       "      <td>HIS</td>\n",
       "      <td>&lt;Vector 46.12, 81.02, 27.26&gt;</td>\n",
       "      <td>&lt;Vector 2.07, -2.13, 0.90&gt;</td>\n",
       "      <td>no</td>\n",
       "      <td>27.821842311835272,53.8826501875,33.0438805709...</td>\n",
       "      <td>1lam</td>\n",
       "      <td>A</td>\n",
       "    </tr>\n",
       "    <tr>\n",
       "      <th>101</th>\n",
       "      <td>102</td>\n",
       "      <td>ASP</td>\n",
       "      <td>&lt;Vector 28.14, 57.32, 23.27&gt;</td>\n",
       "      <td>&lt;Vector -0.12, 1.39, -2.03&gt;</td>\n",
       "      <td>no</td>\n",
       "      <td>None</td>\n",
       "      <td>1lam</td>\n",
       "      <td>A</td>\n",
       "    </tr>\n",
       "    <tr>\n",
       "      <th>110</th>\n",
       "      <td>111</td>\n",
       "      <td>ASP</td>\n",
       "      <td>&lt;Vector 29.99, 78.36, 23.55&gt;</td>\n",
       "      <td>&lt;Vector 0.28, -0.93, -2.32&gt;</td>\n",
       "      <td>no</td>\n",
       "      <td>None</td>\n",
       "      <td>1lam</td>\n",
       "      <td>A</td>\n",
       "    </tr>\n",
       "    <tr>\n",
       "      <th>114</th>\n",
       "      <td>115</td>\n",
       "      <td>ASP</td>\n",
       "      <td>&lt;Vector 40.95, 80.87, 22.20&gt;</td>\n",
       "      <td>&lt;Vector -2.39, 0.58, -0.35&gt;</td>\n",
       "      <td>no</td>\n",
       "      <td>None</td>\n",
       "      <td>1lam</td>\n",
       "      <td>A</td>\n",
       "    </tr>\n",
       "    <tr>\n",
       "      <th>130</th>\n",
       "      <td>131</td>\n",
       "      <td>ASP</td>\n",
       "      <td>&lt;Vector 36.87, 55.21, 11.29&gt;</td>\n",
       "      <td>&lt;Vector 2.07, -1.36, -0.32&gt;</td>\n",
       "      <td>no</td>\n",
       "      <td>None</td>\n",
       "      <td>1lam</td>\n",
       "      <td>A</td>\n",
       "    </tr>\n",
       "    <tr>\n",
       "      <th>131</th>\n",
       "      <td>132</td>\n",
       "      <td>ASP</td>\n",
       "      <td>&lt;Vector 40.63, 55.34, 6.20&gt;</td>\n",
       "      <td>&lt;Vector -1.26, -1.91, 0.99&gt;</td>\n",
       "      <td>no</td>\n",
       "      <td>None</td>\n",
       "      <td>1lam</td>\n",
       "      <td>A</td>\n",
       "    </tr>\n",
       "    <tr>\n",
       "      <th>145</th>\n",
       "      <td>146</td>\n",
       "      <td>HIS</td>\n",
       "      <td>&lt;Vector 25.59, 78.34, 18.73&gt;</td>\n",
       "      <td>&lt;Vector 2.34, -0.19, -2.12&gt;</td>\n",
       "      <td>no</td>\n",
       "      <td>25.344180431843245,30.8789536022,10.8444363215...</td>\n",
       "      <td>1lam</td>\n",
       "      <td>A</td>\n",
       "    </tr>\n",
       "    <tr>\n",
       "      <th>149</th>\n",
       "      <td>150</td>\n",
       "      <td>ASP</td>\n",
       "      <td>&lt;Vector 33.94, 84.37, 17.52&gt;</td>\n",
       "      <td>&lt;Vector 0.41, -0.16, -2.44&gt;</td>\n",
       "      <td>no</td>\n",
       "      <td>None</td>\n",
       "      <td>1lam</td>\n",
       "      <td>A</td>\n",
       "    </tr>\n",
       "    <tr>\n",
       "      <th>198</th>\n",
       "      <td>199</td>\n",
       "      <td>ASP</td>\n",
       "      <td>&lt;Vector 58.39, 72.97, -7.92&gt;</td>\n",
       "      <td>&lt;Vector -1.25, -1.30, 1.69&gt;</td>\n",
       "      <td>no</td>\n",
       "      <td>None</td>\n",
       "      <td>1lam</td>\n",
       "      <td>A</td>\n",
       "    </tr>\n",
       "    <tr>\n",
       "      <th>232</th>\n",
       "      <td>233</td>\n",
       "      <td>HIS</td>\n",
       "      <td>&lt;Vector 61.97, 72.74, -3.67&gt;</td>\n",
       "      <td>&lt;Vector -2.62, 0.48, 1.83&gt;</td>\n",
       "      <td>no</td>\n",
       "      <td>61.719855670227616,154.951748788,49.8655223618...</td>\n",
       "      <td>1lam</td>\n",
       "      <td>A</td>\n",
       "    </tr>\n",
       "    <tr>\n",
       "      <th>254</th>\n",
       "      <td>255</td>\n",
       "      <td>ASP</td>\n",
       "      <td>&lt;Vector 63.21, 50.66, 13.47&gt;</td>\n",
       "      <td>&lt;Vector -1.74, -1.04, -1.42&gt;</td>\n",
       "      <td>no</td>\n",
       "      <td>None</td>\n",
       "      <td>1lam</td>\n",
       "      <td>A</td>\n",
       "    </tr>\n",
       "    <tr>\n",
       "      <th>267</th>\n",
       "      <td>268</td>\n",
       "      <td>ASP</td>\n",
       "      <td>&lt;Vector 51.46, 47.25, 17.28&gt;</td>\n",
       "      <td>&lt;Vector 2.03, -0.09, -1.40&gt;</td>\n",
       "      <td>no</td>\n",
       "      <td>None</td>\n",
       "      <td>1lam</td>\n",
       "      <td>A</td>\n",
       "    </tr>\n",
       "    <tr>\n",
       "      <th>272</th>\n",
       "      <td>273</td>\n",
       "      <td>ASP</td>\n",
       "      <td>&lt;Vector 61.04, 54.43, 13.75&gt;</td>\n",
       "      <td>&lt;Vector -2.24, 0.95, -0.58&gt;</td>\n",
       "      <td>no</td>\n",
       "      <td>None</td>\n",
       "      <td>1lam</td>\n",
       "      <td>A</td>\n",
       "    </tr>\n",
       "    <tr>\n",
       "      <th>290</th>\n",
       "      <td>291</td>\n",
       "      <td>ASP</td>\n",
       "      <td>&lt;Vector 48.38, 80.91, 0.62&gt;</td>\n",
       "      <td>&lt;Vector 1.57, 0.06, 1.86&gt;</td>\n",
       "      <td>no</td>\n",
       "      <td>None</td>\n",
       "      <td>1lam</td>\n",
       "      <td>A</td>\n",
       "    </tr>\n",
       "    <tr>\n",
       "      <th>315</th>\n",
       "      <td>316</td>\n",
       "      <td>ASP</td>\n",
       "      <td>&lt;Vector 78.36, 46.10, 7.74&gt;</td>\n",
       "      <td>&lt;Vector 1.45, 1.51, 1.37&gt;</td>\n",
       "      <td>no</td>\n",
       "      <td>None</td>\n",
       "      <td>1lam</td>\n",
       "      <td>A</td>\n",
       "    </tr>\n",
       "    <tr>\n",
       "      <th>328</th>\n",
       "      <td>329</td>\n",
       "      <td>ASP</td>\n",
       "      <td>&lt;Vector 79.48, 49.25, 17.21&gt;</td>\n",
       "      <td>&lt;Vector -2.08, -0.26, -1.33&gt;</td>\n",
       "      <td>no</td>\n",
       "      <td>None</td>\n",
       "      <td>1lam</td>\n",
       "      <td>A</td>\n",
       "    </tr>\n",
       "    <tr>\n",
       "      <th>331</th>\n",
       "      <td>332</td>\n",
       "      <td>ASP</td>\n",
       "      <td>&lt;Vector 66.47, 49.23, 16.81&gt;</td>\n",
       "      <td>&lt;Vector 1.93, 0.43, -1.54&gt;</td>\n",
       "      <td>no</td>\n",
       "      <td>None</td>\n",
       "      <td>1lam</td>\n",
       "      <td>A</td>\n",
       "    </tr>\n",
       "    <tr>\n",
       "      <th>340</th>\n",
       "      <td>341</td>\n",
       "      <td>ASP</td>\n",
       "      <td>&lt;Vector 73.48, 60.14, 3.89&gt;</td>\n",
       "      <td>&lt;Vector -0.86, 2.10, 0.97&gt;</td>\n",
       "      <td>no</td>\n",
       "      <td>None</td>\n",
       "      <td>1lam</td>\n",
       "      <td>A</td>\n",
       "    </tr>\n",
       "    <tr>\n",
       "      <th>346</th>\n",
       "      <td>347</td>\n",
       "      <td>HIS</td>\n",
       "      <td>&lt;Vector 74.43, 71.90, 6.67&gt;</td>\n",
       "      <td>&lt;Vector -1.40, 0.77, -2.72&gt;</td>\n",
       "      <td>no</td>\n",
       "      <td>63.8294607783262,105.031323186,59.207552131220...</td>\n",
       "      <td>1lam</td>\n",
       "      <td>A</td>\n",
       "    </tr>\n",
       "    <tr>\n",
       "      <th>364</th>\n",
       "      <td>365</td>\n",
       "      <td>ASP</td>\n",
       "      <td>&lt;Vector 58.87, 56.60, 26.20&gt;</td>\n",
       "      <td>&lt;Vector 1.79, 1.69, 0.13&gt;</td>\n",
       "      <td>no</td>\n",
       "      <td>None</td>\n",
       "      <td>1lam</td>\n",
       "      <td>A</td>\n",
       "    </tr>\n",
       "    <tr>\n",
       "      <th>394</th>\n",
       "      <td>395</td>\n",
       "      <td>ASP</td>\n",
       "      <td>&lt;Vector 52.03, 69.19, 20.92&gt;</td>\n",
       "      <td>&lt;Vector -0.07, 1.73, 1.77&gt;</td>\n",
       "      <td>no</td>\n",
       "      <td>None</td>\n",
       "      <td>1lam</td>\n",
       "      <td>A</td>\n",
       "    </tr>\n",
       "    <tr>\n",
       "      <th>404</th>\n",
       "      <td>405</td>\n",
       "      <td>HIS</td>\n",
       "      <td>&lt;Vector 79.31, 64.24, 29.60&gt;</td>\n",
       "      <td>&lt;Vector 1.27, 1.29, -2.64&gt;</td>\n",
       "      <td>no</td>\n",
       "      <td>60.67563029643674,56.1399855607,65.78316564752...</td>\n",
       "      <td>1lam</td>\n",
       "      <td>A</td>\n",
       "    </tr>\n",
       "    <tr>\n",
       "      <th>411</th>\n",
       "      <td>412</td>\n",
       "      <td>ASP</td>\n",
       "      <td>&lt;Vector 86.09, 56.26, 22.63&gt;</td>\n",
       "      <td>&lt;Vector -0.60, 1.20, -2.11&gt;</td>\n",
       "      <td>no</td>\n",
       "      <td>None</td>\n",
       "      <td>1lam</td>\n",
       "      <td>A</td>\n",
       "    </tr>\n",
       "    <tr>\n",
       "      <th>416</th>\n",
       "      <td>417</td>\n",
       "      <td>ASP</td>\n",
       "      <td>&lt;Vector 85.66, 59.82, 10.29&gt;</td>\n",
       "      <td>&lt;Vector -0.69, -1.06, 2.13&gt;</td>\n",
       "      <td>no</td>\n",
       "      <td>None</td>\n",
       "      <td>1lam</td>\n",
       "      <td>A</td>\n",
       "    </tr>\n",
       "    <tr>\n",
       "      <th>441</th>\n",
       "      <td>442</td>\n",
       "      <td>HIS</td>\n",
       "      <td>&lt;Vector 72.00, 76.80, 9.58&gt;</td>\n",
       "      <td>&lt;Vector 2.67, -1.27, 1.06&gt;</td>\n",
       "      <td>no</td>\n",
       "      <td>59.4475419789984,40.4049627033,56.409264326898...</td>\n",
       "      <td>1lam</td>\n",
       "      <td>A</td>\n",
       "    </tr>\n",
       "    <tr>\n",
       "      <th>446</th>\n",
       "      <td>447</td>\n",
       "      <td>HIS</td>\n",
       "      <td>&lt;Vector 67.36, 65.54, 17.51&gt;</td>\n",
       "      <td>&lt;Vector -0.65, 2.97, -0.81&gt;</td>\n",
       "      <td>no</td>\n",
       "      <td>54.06632079359645,98.2163486502,52.27914335239...</td>\n",
       "      <td>1lam</td>\n",
       "      <td>A</td>\n",
       "    </tr>\n",
       "    <tr>\n",
       "      <th>...</th>\n",
       "      <td>...</td>\n",
       "      <td>...</td>\n",
       "      <td>...</td>\n",
       "      <td>...</td>\n",
       "      <td>...</td>\n",
       "      <td>...</td>\n",
       "      <td>...</td>\n",
       "      <td>...</td>\n",
       "    </tr>\n",
       "    <tr>\n",
       "      <th>45</th>\n",
       "      <td>46</td>\n",
       "      <td>HIS</td>\n",
       "      <td>&lt;Vector -36.10, 107.28, 120.42&gt;</td>\n",
       "      <td>&lt;Vector 0.33, 1.83, -2.56&gt;</td>\n",
       "      <td>no</td>\n",
       "      <td>35.12130889323589,106.781198315,33.89528200477...</td>\n",
       "      <td>1ht1</td>\n",
       "      <td>E</td>\n",
       "    </tr>\n",
       "    <tr>\n",
       "      <th>96</th>\n",
       "      <td>97</td>\n",
       "      <td>ASP</td>\n",
       "      <td>&lt;Vector -14.68, 104.76, 111.57&gt;</td>\n",
       "      <td>&lt;Vector 0.25, 2.44, -0.14&gt;</td>\n",
       "      <td>no</td>\n",
       "      <td>None</td>\n",
       "      <td>1ht1</td>\n",
       "      <td>E</td>\n",
       "    </tr>\n",
       "    <tr>\n",
       "      <th>101</th>\n",
       "      <td>102</td>\n",
       "      <td>ASP</td>\n",
       "      <td>&lt;Vector -9.66, 114.00, 113.73&gt;</td>\n",
       "      <td>&lt;Vector -1.69, 0.32, 1.75&gt;</td>\n",
       "      <td>no</td>\n",
       "      <td>None</td>\n",
       "      <td>1ht1</td>\n",
       "      <td>E</td>\n",
       "    </tr>\n",
       "    <tr>\n",
       "      <th>104</th>\n",
       "      <td>105</td>\n",
       "      <td>ASP</td>\n",
       "      <td>&lt;Vector -9.41, 113.65, 119.60&gt;</td>\n",
       "      <td>&lt;Vector -1.45, 1.90, 0.52&gt;</td>\n",
       "      <td>no</td>\n",
       "      <td>None</td>\n",
       "      <td>1ht1</td>\n",
       "      <td>E</td>\n",
       "    </tr>\n",
       "    <tr>\n",
       "      <th>132</th>\n",
       "      <td>133</td>\n",
       "      <td>ASP</td>\n",
       "      <td>&lt;Vector -4.92, 130.36, 154.86&gt;</td>\n",
       "      <td>&lt;Vector 2.03, 1.36, 0.38&gt;</td>\n",
       "      <td>no</td>\n",
       "      <td>None</td>\n",
       "      <td>1ht1</td>\n",
       "      <td>E</td>\n",
       "    </tr>\n",
       "    <tr>\n",
       "      <th>168</th>\n",
       "      <td>169</td>\n",
       "      <td>ASP</td>\n",
       "      <td>&lt;Vector 5.69, 139.26, 148.39&gt;</td>\n",
       "      <td>&lt;Vector 2.05, -1.04, -0.90&gt;</td>\n",
       "      <td>no</td>\n",
       "      <td>None</td>\n",
       "      <td>1ht1</td>\n",
       "      <td>E</td>\n",
       "    </tr>\n",
       "    <tr>\n",
       "      <th>169</th>\n",
       "      <td>170</td>\n",
       "      <td>ASP</td>\n",
       "      <td>&lt;Vector 11.12, 135.18, 149.87&gt;</td>\n",
       "      <td>&lt;Vector -1.95, -0.39, -1.45&gt;</td>\n",
       "      <td>no</td>\n",
       "      <td>None</td>\n",
       "      <td>1ht1</td>\n",
       "      <td>E</td>\n",
       "    </tr>\n",
       "    <tr>\n",
       "      <th>184</th>\n",
       "      <td>220</td>\n",
       "      <td>ASP</td>\n",
       "      <td>&lt;Vector 7.68, 131.03, 141.38&gt;</td>\n",
       "      <td>&lt;Vector -2.39, 0.41, 0.63&gt;</td>\n",
       "      <td>no</td>\n",
       "      <td>None</td>\n",
       "      <td>1ht1</td>\n",
       "      <td>E</td>\n",
       "    </tr>\n",
       "    <tr>\n",
       "      <th>206</th>\n",
       "      <td>242</td>\n",
       "      <td>ASP</td>\n",
       "      <td>&lt;Vector -20.32, 117.45, 130.17&gt;</td>\n",
       "      <td>&lt;Vector 0.73, -1.36, -1.92&gt;</td>\n",
       "      <td>no</td>\n",
       "      <td>None</td>\n",
       "      <td>1ht1</td>\n",
       "      <td>E</td>\n",
       "    </tr>\n",
       "    <tr>\n",
       "      <th>209</th>\n",
       "      <td>245</td>\n",
       "      <td>ASP</td>\n",
       "      <td>&lt;Vector -22.86, 114.49, 127.32&gt;</td>\n",
       "      <td>&lt;Vector 0.14, 0.31, -2.44&gt;</td>\n",
       "      <td>no</td>\n",
       "      <td>None</td>\n",
       "      <td>1ht1</td>\n",
       "      <td>E</td>\n",
       "    </tr>\n",
       "    <tr>\n",
       "      <th>214</th>\n",
       "      <td>250</td>\n",
       "      <td>HIS</td>\n",
       "      <td>&lt;Vector -25.56, 120.67, 121.38&gt;</td>\n",
       "      <td>&lt;Vector 1.01, -1.10, -2.76&gt;</td>\n",
       "      <td>no</td>\n",
       "      <td>22.728162628085187,90.0758572614,24.4854177966...</td>\n",
       "      <td>1ht1</td>\n",
       "      <td>E</td>\n",
       "    </tr>\n",
       "    <tr>\n",
       "      <th>220</th>\n",
       "      <td>256</td>\n",
       "      <td>ASP</td>\n",
       "      <td>&lt;Vector -14.34, 121.88, 101.33&gt;</td>\n",
       "      <td>&lt;Vector -1.43, -1.92, 0.57&gt;</td>\n",
       "      <td>no</td>\n",
       "      <td>None</td>\n",
       "      <td>1ht1</td>\n",
       "      <td>E</td>\n",
       "    </tr>\n",
       "    <tr>\n",
       "      <th>223</th>\n",
       "      <td>259</td>\n",
       "      <td>ASP</td>\n",
       "      <td>&lt;Vector -17.92, 119.10, 94.09&gt;</td>\n",
       "      <td>&lt;Vector -0.70, -2.31, 0.59&gt;</td>\n",
       "      <td>no</td>\n",
       "      <td>None</td>\n",
       "      <td>1ht1</td>\n",
       "      <td>E</td>\n",
       "    </tr>\n",
       "    <tr>\n",
       "      <th>235</th>\n",
       "      <td>271</td>\n",
       "      <td>ASP</td>\n",
       "      <td>&lt;Vector -15.71, 106.88, 88.14&gt;</td>\n",
       "      <td>&lt;Vector 0.64, -0.71, 2.27&gt;</td>\n",
       "      <td>no</td>\n",
       "      <td>None</td>\n",
       "      <td>1ht1</td>\n",
       "      <td>E</td>\n",
       "    </tr>\n",
       "    <tr>\n",
       "      <th>244</th>\n",
       "      <td>280</td>\n",
       "      <td>ASP</td>\n",
       "      <td>&lt;Vector -15.66, 103.98, 102.84&gt;</td>\n",
       "      <td>&lt;Vector -2.20, 0.81, 0.81&gt;</td>\n",
       "      <td>no</td>\n",
       "      <td>None</td>\n",
       "      <td>1ht1</td>\n",
       "      <td>E</td>\n",
       "    </tr>\n",
       "    <tr>\n",
       "      <th>258</th>\n",
       "      <td>294</td>\n",
       "      <td>HIS</td>\n",
       "      <td>&lt;Vector -10.91, 111.75, 124.01&gt;</td>\n",
       "      <td>&lt;Vector -1.70, -2.55, 0.98&gt;</td>\n",
       "      <td>no</td>\n",
       "      <td>35.645262322877095,105.495190078,37.8570634828...</td>\n",
       "      <td>1ht1</td>\n",
       "      <td>E</td>\n",
       "    </tr>\n",
       "    <tr>\n",
       "      <th>264</th>\n",
       "      <td>300</td>\n",
       "      <td>ASP</td>\n",
       "      <td>&lt;Vector -28.33, 107.73, 115.22&gt;</td>\n",
       "      <td>&lt;Vector 0.86, 2.21, -0.57&gt;</td>\n",
       "      <td>no</td>\n",
       "      <td>None</td>\n",
       "      <td>1ht1</td>\n",
       "      <td>E</td>\n",
       "    </tr>\n",
       "    <tr>\n",
       "      <th>265</th>\n",
       "      <td>301</td>\n",
       "      <td>HIS</td>\n",
       "      <td>&lt;Vector -30.28, 112.69, 117.01&gt;</td>\n",
       "      <td>&lt;Vector 2.51, 0.93, -1.54&gt;</td>\n",
       "      <td>no</td>\n",
       "      <td>27.925391798643933,59.2836147732,27.1397423927...</td>\n",
       "      <td>1ht1</td>\n",
       "      <td>E</td>\n",
       "    </tr>\n",
       "    <tr>\n",
       "      <th>281</th>\n",
       "      <td>317</td>\n",
       "      <td>ASP</td>\n",
       "      <td>&lt;Vector -23.55, 112.59, 88.79&gt;</td>\n",
       "      <td>&lt;Vector -1.01, -0.55, 2.17&gt;</td>\n",
       "      <td>no</td>\n",
       "      <td>None</td>\n",
       "      <td>1ht1</td>\n",
       "      <td>E</td>\n",
       "    </tr>\n",
       "    <tr>\n",
       "      <th>303</th>\n",
       "      <td>339</td>\n",
       "      <td>ASP</td>\n",
       "      <td>&lt;Vector -21.42, 140.54, 97.06&gt;</td>\n",
       "      <td>&lt;Vector 1.58, 1.70, 0.95&gt;</td>\n",
       "      <td>no</td>\n",
       "      <td>None</td>\n",
       "      <td>1ht1</td>\n",
       "      <td>E</td>\n",
       "    </tr>\n",
       "    <tr>\n",
       "      <th>334</th>\n",
       "      <td>370</td>\n",
       "      <td>ASP</td>\n",
       "      <td>&lt;Vector -16.73, 155.80, 101.60&gt;</td>\n",
       "      <td>&lt;Vector 2.21, -0.71, -0.85&gt;</td>\n",
       "      <td>no</td>\n",
       "      <td>None</td>\n",
       "      <td>1ht1</td>\n",
       "      <td>E</td>\n",
       "    </tr>\n",
       "    <tr>\n",
       "      <th>360</th>\n",
       "      <td>396</td>\n",
       "      <td>HIS</td>\n",
       "      <td>&lt;Vector -8.73, 137.31, 103.37&gt;</td>\n",
       "      <td>&lt;Vector 2.12, 1.83, -1.40&gt;</td>\n",
       "      <td>no</td>\n",
       "      <td>19.38591576765313,68.0422385369,22.42877836600...</td>\n",
       "      <td>1ht1</td>\n",
       "      <td>E</td>\n",
       "    </tr>\n",
       "    <tr>\n",
       "      <th>373</th>\n",
       "      <td>409</td>\n",
       "      <td>ASP</td>\n",
       "      <td>&lt;Vector 8.29, 152.10, 107.11&gt;</td>\n",
       "      <td>&lt;Vector -0.89, -1.01, 2.08&gt;</td>\n",
       "      <td>no</td>\n",
       "      <td>None</td>\n",
       "      <td>1ht1</td>\n",
       "      <td>E</td>\n",
       "    </tr>\n",
       "    <tr>\n",
       "      <th>376</th>\n",
       "      <td>412</td>\n",
       "      <td>ASP</td>\n",
       "      <td>&lt;Vector 10.92, 153.07, 112.77&gt;</td>\n",
       "      <td>&lt;Vector -2.08, 1.20, 0.61&gt;</td>\n",
       "      <td>no</td>\n",
       "      <td>None</td>\n",
       "      <td>1ht1</td>\n",
       "      <td>E</td>\n",
       "    </tr>\n",
       "    <tr>\n",
       "      <th>385</th>\n",
       "      <td>421</td>\n",
       "      <td>ASP</td>\n",
       "      <td>&lt;Vector -5.81, 158.66, 99.84&gt;</td>\n",
       "      <td>&lt;Vector -1.21, -2.15, 0.14&gt;</td>\n",
       "      <td>no</td>\n",
       "      <td>None</td>\n",
       "      <td>1ht1</td>\n",
       "      <td>E</td>\n",
       "    </tr>\n",
       "    <tr>\n",
       "      <th>387</th>\n",
       "      <td>423</td>\n",
       "      <td>ASP</td>\n",
       "      <td>&lt;Vector -4.21, 159.91, 95.23&gt;</td>\n",
       "      <td>&lt;Vector 0.11, -2.43, 0.31&gt;</td>\n",
       "      <td>no</td>\n",
       "      <td>None</td>\n",
       "      <td>1ht1</td>\n",
       "      <td>E</td>\n",
       "    </tr>\n",
       "    <tr>\n",
       "      <th>392</th>\n",
       "      <td>428</td>\n",
       "      <td>HIS</td>\n",
       "      <td>&lt;Vector 1.76, 151.61, 98.31&gt;</td>\n",
       "      <td>&lt;Vector -0.98, -1.32, -2.70&gt;</td>\n",
       "      <td>no</td>\n",
       "      <td>33.28820624042169,124.176886476,36.71428636310...</td>\n",
       "      <td>1ht1</td>\n",
       "      <td>E</td>\n",
       "    </tr>\n",
       "    <tr>\n",
       "      <th>394</th>\n",
       "      <td>430</td>\n",
       "      <td>ASP</td>\n",
       "      <td>&lt;Vector -3.28, 151.07, 89.88&gt;</td>\n",
       "      <td>&lt;Vector 1.38, -2.03, 0.14&gt;</td>\n",
       "      <td>no</td>\n",
       "      <td>None</td>\n",
       "      <td>1ht1</td>\n",
       "      <td>E</td>\n",
       "    </tr>\n",
       "    <tr>\n",
       "      <th>399</th>\n",
       "      <td>435</td>\n",
       "      <td>ASP</td>\n",
       "      <td>&lt;Vector 3.57, 142.00, 85.48&gt;</td>\n",
       "      <td>&lt;Vector -2.36, 0.68, -0.11&gt;</td>\n",
       "      <td>no</td>\n",
       "      <td>None</td>\n",
       "      <td>1ht1</td>\n",
       "      <td>E</td>\n",
       "    </tr>\n",
       "    <tr>\n",
       "      <th>401</th>\n",
       "      <td>437</td>\n",
       "      <td>ASP</td>\n",
       "      <td>&lt;Vector 4.57, 135.53, 85.07&gt;</td>\n",
       "      <td>&lt;Vector -2.13, 1.25, 0.37&gt;</td>\n",
       "      <td>no</td>\n",
       "      <td>None</td>\n",
       "      <td>1ht1</td>\n",
       "      <td>E</td>\n",
       "    </tr>\n",
       "  </tbody>\n",
       "</table>\n",
       "<p>1878 rows × 8 columns</p>\n",
       "</div>"
      ],
      "text/plain": [
       "     Seq Residue                           Center  \\\n",
       "15    16     ASP     <Vector 23.62, 84.02, 43.35>   \n",
       "57    58     HIS     <Vector 15.20, 75.91, 19.99>   \n",
       "59    60     ASP     <Vector 15.93, 74.69, 15.40>   \n",
       "76    77     ASP     <Vector 49.98, 77.01, 35.15>   \n",
       "82    83     HIS     <Vector 46.12, 81.02, 27.26>   \n",
       "101  102     ASP     <Vector 28.14, 57.32, 23.27>   \n",
       "110  111     ASP     <Vector 29.99, 78.36, 23.55>   \n",
       "114  115     ASP     <Vector 40.95, 80.87, 22.20>   \n",
       "130  131     ASP     <Vector 36.87, 55.21, 11.29>   \n",
       "131  132     ASP      <Vector 40.63, 55.34, 6.20>   \n",
       "145  146     HIS     <Vector 25.59, 78.34, 18.73>   \n",
       "149  150     ASP     <Vector 33.94, 84.37, 17.52>   \n",
       "198  199     ASP     <Vector 58.39, 72.97, -7.92>   \n",
       "232  233     HIS     <Vector 61.97, 72.74, -3.67>   \n",
       "254  255     ASP     <Vector 63.21, 50.66, 13.47>   \n",
       "267  268     ASP     <Vector 51.46, 47.25, 17.28>   \n",
       "272  273     ASP     <Vector 61.04, 54.43, 13.75>   \n",
       "290  291     ASP      <Vector 48.38, 80.91, 0.62>   \n",
       "315  316     ASP      <Vector 78.36, 46.10, 7.74>   \n",
       "328  329     ASP     <Vector 79.48, 49.25, 17.21>   \n",
       "331  332     ASP     <Vector 66.47, 49.23, 16.81>   \n",
       "340  341     ASP      <Vector 73.48, 60.14, 3.89>   \n",
       "346  347     HIS      <Vector 74.43, 71.90, 6.67>   \n",
       "364  365     ASP     <Vector 58.87, 56.60, 26.20>   \n",
       "394  395     ASP     <Vector 52.03, 69.19, 20.92>   \n",
       "404  405     HIS     <Vector 79.31, 64.24, 29.60>   \n",
       "411  412     ASP     <Vector 86.09, 56.26, 22.63>   \n",
       "416  417     ASP     <Vector 85.66, 59.82, 10.29>   \n",
       "441  442     HIS      <Vector 72.00, 76.80, 9.58>   \n",
       "446  447     HIS     <Vector 67.36, 65.54, 17.51>   \n",
       "..   ...     ...                              ...   \n",
       "45    46     HIS  <Vector -36.10, 107.28, 120.42>   \n",
       "96    97     ASP  <Vector -14.68, 104.76, 111.57>   \n",
       "101  102     ASP   <Vector -9.66, 114.00, 113.73>   \n",
       "104  105     ASP   <Vector -9.41, 113.65, 119.60>   \n",
       "132  133     ASP   <Vector -4.92, 130.36, 154.86>   \n",
       "168  169     ASP    <Vector 5.69, 139.26, 148.39>   \n",
       "169  170     ASP   <Vector 11.12, 135.18, 149.87>   \n",
       "184  220     ASP    <Vector 7.68, 131.03, 141.38>   \n",
       "206  242     ASP  <Vector -20.32, 117.45, 130.17>   \n",
       "209  245     ASP  <Vector -22.86, 114.49, 127.32>   \n",
       "214  250     HIS  <Vector -25.56, 120.67, 121.38>   \n",
       "220  256     ASP  <Vector -14.34, 121.88, 101.33>   \n",
       "223  259     ASP   <Vector -17.92, 119.10, 94.09>   \n",
       "235  271     ASP   <Vector -15.71, 106.88, 88.14>   \n",
       "244  280     ASP  <Vector -15.66, 103.98, 102.84>   \n",
       "258  294     HIS  <Vector -10.91, 111.75, 124.01>   \n",
       "264  300     ASP  <Vector -28.33, 107.73, 115.22>   \n",
       "265  301     HIS  <Vector -30.28, 112.69, 117.01>   \n",
       "281  317     ASP   <Vector -23.55, 112.59, 88.79>   \n",
       "303  339     ASP   <Vector -21.42, 140.54, 97.06>   \n",
       "334  370     ASP  <Vector -16.73, 155.80, 101.60>   \n",
       "360  396     HIS   <Vector -8.73, 137.31, 103.37>   \n",
       "373  409     ASP    <Vector 8.29, 152.10, 107.11>   \n",
       "376  412     ASP   <Vector 10.92, 153.07, 112.77>   \n",
       "385  421     ASP    <Vector -5.81, 158.66, 99.84>   \n",
       "387  423     ASP    <Vector -4.21, 159.91, 95.23>   \n",
       "392  428     HIS     <Vector 1.76, 151.61, 98.31>   \n",
       "394  430     ASP    <Vector -3.28, 151.07, 89.88>   \n",
       "399  435     ASP     <Vector 3.57, 142.00, 85.48>   \n",
       "401  437     ASP     <Vector 4.57, 135.53, 85.07>   \n",
       "\n",
       "                        Direction active  \\\n",
       "15     <Vector 2.43, 0.02, -0.50>     no   \n",
       "57    <Vector -0.44, -2.51, 1.82>     no   \n",
       "59     <Vector 0.50, -2.05, 1.31>     no   \n",
       "76     <Vector 0.43, 2.03, -1.37>     no   \n",
       "82     <Vector 2.07, -2.13, 0.90>     no   \n",
       "101   <Vector -0.12, 1.39, -2.03>     no   \n",
       "110   <Vector 0.28, -0.93, -2.32>     no   \n",
       "114   <Vector -2.39, 0.58, -0.35>     no   \n",
       "130   <Vector 2.07, -1.36, -0.32>     no   \n",
       "131   <Vector -1.26, -1.91, 0.99>     no   \n",
       "145   <Vector 2.34, -0.19, -2.12>     no   \n",
       "149   <Vector 0.41, -0.16, -2.44>     no   \n",
       "198   <Vector -1.25, -1.30, 1.69>     no   \n",
       "232    <Vector -2.62, 0.48, 1.83>     no   \n",
       "254  <Vector -1.74, -1.04, -1.42>     no   \n",
       "267   <Vector 2.03, -0.09, -1.40>     no   \n",
       "272   <Vector -2.24, 0.95, -0.58>     no   \n",
       "290     <Vector 1.57, 0.06, 1.86>     no   \n",
       "315     <Vector 1.45, 1.51, 1.37>     no   \n",
       "328  <Vector -2.08, -0.26, -1.33>     no   \n",
       "331    <Vector 1.93, 0.43, -1.54>     no   \n",
       "340    <Vector -0.86, 2.10, 0.97>     no   \n",
       "346   <Vector -1.40, 0.77, -2.72>     no   \n",
       "364     <Vector 1.79, 1.69, 0.13>     no   \n",
       "394    <Vector -0.07, 1.73, 1.77>     no   \n",
       "404    <Vector 1.27, 1.29, -2.64>     no   \n",
       "411   <Vector -0.60, 1.20, -2.11>     no   \n",
       "416   <Vector -0.69, -1.06, 2.13>     no   \n",
       "441    <Vector 2.67, -1.27, 1.06>     no   \n",
       "446   <Vector -0.65, 2.97, -0.81>     no   \n",
       "..                            ...    ...   \n",
       "45     <Vector 0.33, 1.83, -2.56>     no   \n",
       "96     <Vector 0.25, 2.44, -0.14>     no   \n",
       "101    <Vector -1.69, 0.32, 1.75>     no   \n",
       "104    <Vector -1.45, 1.90, 0.52>     no   \n",
       "132     <Vector 2.03, 1.36, 0.38>     no   \n",
       "168   <Vector 2.05, -1.04, -0.90>     no   \n",
       "169  <Vector -1.95, -0.39, -1.45>     no   \n",
       "184    <Vector -2.39, 0.41, 0.63>     no   \n",
       "206   <Vector 0.73, -1.36, -1.92>     no   \n",
       "209    <Vector 0.14, 0.31, -2.44>     no   \n",
       "214   <Vector 1.01, -1.10, -2.76>     no   \n",
       "220   <Vector -1.43, -1.92, 0.57>     no   \n",
       "223   <Vector -0.70, -2.31, 0.59>     no   \n",
       "235    <Vector 0.64, -0.71, 2.27>     no   \n",
       "244    <Vector -2.20, 0.81, 0.81>     no   \n",
       "258   <Vector -1.70, -2.55, 0.98>     no   \n",
       "264    <Vector 0.86, 2.21, -0.57>     no   \n",
       "265    <Vector 2.51, 0.93, -1.54>     no   \n",
       "281   <Vector -1.01, -0.55, 2.17>     no   \n",
       "303     <Vector 1.58, 1.70, 0.95>     no   \n",
       "334   <Vector 2.21, -0.71, -0.85>     no   \n",
       "360    <Vector 2.12, 1.83, -1.40>     no   \n",
       "373   <Vector -0.89, -1.01, 2.08>     no   \n",
       "376    <Vector -2.08, 1.20, 0.61>     no   \n",
       "385   <Vector -1.21, -2.15, 0.14>     no   \n",
       "387    <Vector 0.11, -2.43, 0.31>     no   \n",
       "392  <Vector -0.98, -1.32, -2.70>     no   \n",
       "394    <Vector 1.38, -2.03, 0.14>     no   \n",
       "399   <Vector -2.36, 0.68, -0.11>     no   \n",
       "401    <Vector -2.13, 1.25, 0.37>     no   \n",
       "\n",
       "                                             all_point PDBID Chain  \n",
       "15                                                None  1lam     A  \n",
       "57   26.125732528229232,105.19996336,4.807243279502...  1lam     A  \n",
       "59                                                None  1lam     A  \n",
       "76                                                None  1lam     A  \n",
       "82   27.821842311835272,53.8826501875,33.0438805709...  1lam     A  \n",
       "101                                               None  1lam     A  \n",
       "110                                               None  1lam     A  \n",
       "114                                               None  1lam     A  \n",
       "130                                               None  1lam     A  \n",
       "131                                               None  1lam     A  \n",
       "145  25.344180431843245,30.8789536022,10.8444363215...  1lam     A  \n",
       "149                                               None  1lam     A  \n",
       "198                                               None  1lam     A  \n",
       "232  61.719855670227616,154.951748788,49.8655223618...  1lam     A  \n",
       "254                                               None  1lam     A  \n",
       "267                                               None  1lam     A  \n",
       "272                                               None  1lam     A  \n",
       "290                                               None  1lam     A  \n",
       "315                                               None  1lam     A  \n",
       "328                                               None  1lam     A  \n",
       "331                                               None  1lam     A  \n",
       "340                                               None  1lam     A  \n",
       "346  63.8294607783262,105.031323186,59.207552131220...  1lam     A  \n",
       "364                                               None  1lam     A  \n",
       "394                                               None  1lam     A  \n",
       "404  60.67563029643674,56.1399855607,65.78316564752...  1lam     A  \n",
       "411                                               None  1lam     A  \n",
       "416                                               None  1lam     A  \n",
       "441  59.4475419789984,40.4049627033,56.409264326898...  1lam     A  \n",
       "446  54.06632079359645,98.2163486502,52.27914335239...  1lam     A  \n",
       "..                                                 ...   ...   ...  \n",
       "45   35.12130889323589,106.781198315,33.89528200477...  1ht1     E  \n",
       "96                                                None  1ht1     E  \n",
       "101                                               None  1ht1     E  \n",
       "104                                               None  1ht1     E  \n",
       "132                                               None  1ht1     E  \n",
       "168                                               None  1ht1     E  \n",
       "169                                               None  1ht1     E  \n",
       "184                                               None  1ht1     E  \n",
       "206                                               None  1ht1     E  \n",
       "209                                               None  1ht1     E  \n",
       "214  22.728162628085187,90.0758572614,24.4854177966...  1ht1     E  \n",
       "220                                               None  1ht1     E  \n",
       "223                                               None  1ht1     E  \n",
       "235                                               None  1ht1     E  \n",
       "244                                               None  1ht1     E  \n",
       "258  35.645262322877095,105.495190078,37.8570634828...  1ht1     E  \n",
       "264                                               None  1ht1     E  \n",
       "265  27.925391798643933,59.2836147732,27.1397423927...  1ht1     E  \n",
       "281                                               None  1ht1     E  \n",
       "303                                               None  1ht1     E  \n",
       "334                                               None  1ht1     E  \n",
       "360  19.38591576765313,68.0422385369,22.42877836600...  1ht1     E  \n",
       "373                                               None  1ht1     E  \n",
       "376                                               None  1ht1     E  \n",
       "385                                               None  1ht1     E  \n",
       "387                                               None  1ht1     E  \n",
       "392  33.28820624042169,124.176886476,36.71428636310...  1ht1     E  \n",
       "394                                               None  1ht1     E  \n",
       "399                                               None  1ht1     E  \n",
       "401                                               None  1ht1     E  \n",
       "\n",
       "[1878 rows x 8 columns]"
      ]
     },
     "execution_count": 411,
     "metadata": {},
     "output_type": "execute_result"
    }
   ],
   "source": [
    "combinedResult"
   ]
  },
  {
   "cell_type": "code",
   "execution_count": null,
   "metadata": {
    "collapsed": true
   },
   "outputs": [],
   "source": []
  },
  {
   "cell_type": "code",
   "execution_count": null,
   "metadata": {
    "collapsed": true
   },
   "outputs": [],
   "source": []
  },
  {
   "cell_type": "code",
   "execution_count": null,
   "metadata": {
    "collapsed": true
   },
   "outputs": [],
   "source": []
  },
  {
   "cell_type": "code",
   "execution_count": null,
   "metadata": {
    "collapsed": true
   },
   "outputs": [],
   "source": []
  },
  {
   "cell_type": "code",
   "execution_count": null,
   "metadata": {
    "collapsed": true
   },
   "outputs": [],
   "source": []
  },
  {
   "cell_type": "code",
   "execution_count": null,
   "metadata": {
    "collapsed": true
   },
   "outputs": [],
   "source": []
  },
  {
   "cell_type": "code",
   "execution_count": null,
   "metadata": {
    "collapsed": true
   },
   "outputs": [],
   "source": []
  },
  {
   "cell_type": "code",
   "execution_count": null,
   "metadata": {
    "collapsed": true
   },
   "outputs": [],
   "source": []
  },
  {
   "cell_type": "code",
   "execution_count": 10,
   "metadata": {
    "collapsed": true
   },
   "outputs": [],
   "source": [
    "allSerAndHisAndAsp = oneChain[(oneChain[\"Residue\"] == \"SER\")|(oneChain[\"Residue\"] == \"HIS\")|(oneChain[\"Residue\"] == \"ASP\")]"
   ]
  },
  {
   "cell_type": "code",
   "execution_count": 11,
   "metadata": {},
   "outputs": [
    {
     "data": {
      "text/html": [
       "<div>\n",
       "<style>\n",
       "    .dataframe thead tr:only-child th {\n",
       "        text-align: right;\n",
       "    }\n",
       "\n",
       "    .dataframe thead th {\n",
       "        text-align: left;\n",
       "    }\n",
       "\n",
       "    .dataframe tbody tr th {\n",
       "        vertical-align: top;\n",
       "    }\n",
       "</style>\n",
       "<table border=\"1\" class=\"dataframe\">\n",
       "  <thead>\n",
       "    <tr style=\"text-align: right;\">\n",
       "      <th></th>\n",
       "      <th>Seq</th>\n",
       "      <th>Residue</th>\n",
       "      <th>Center</th>\n",
       "      <th>Direction</th>\n",
       "    </tr>\n",
       "  </thead>\n",
       "  <tbody>\n",
       "    <tr>\n",
       "      <th>0</th>\n",
       "      <td>7</td>\n",
       "      <td>ASP</td>\n",
       "      <td>&lt;Vector 4.91, 28.58, 19.99&gt;</td>\n",
       "      <td>&lt;Vector 0.43, 0.22, -1.46&gt;</td>\n",
       "    </tr>\n",
       "    <tr>\n",
       "      <th>15</th>\n",
       "      <td>24</td>\n",
       "      <td>ASP</td>\n",
       "      <td>&lt;Vector 34.94, 28.06, -11.47&gt;</td>\n",
       "      <td>&lt;Vector -1.30, 1.80, 1.08&gt;</td>\n",
       "    </tr>\n",
       "    <tr>\n",
       "      <th>37</th>\n",
       "      <td>46</td>\n",
       "      <td>HIS</td>\n",
       "      <td>&lt;Vector 24.92, 16.64, 2.13&gt;</td>\n",
       "      <td>&lt;Vector 3.05, -0.02, 0.95&gt;</td>\n",
       "    </tr>\n",
       "    <tr>\n",
       "      <th>44</th>\n",
       "      <td>53</td>\n",
       "      <td>ASP</td>\n",
       "      <td>&lt;Vector 35.82, 29.70, -5.74&gt;</td>\n",
       "      <td>&lt;Vector -0.62, 0.44, 2.35&gt;</td>\n",
       "    </tr>\n",
       "    <tr>\n",
       "      <th>48</th>\n",
       "      <td>58</td>\n",
       "      <td>ASP</td>\n",
       "      <td>&lt;Vector 19.70, 36.26, 6.09&gt;</td>\n",
       "      <td>&lt;Vector 1.52, -1.03, -1.65&gt;</td>\n",
       "    </tr>\n",
       "    <tr>\n",
       "      <th>53</th>\n",
       "      <td>64</td>\n",
       "      <td>ASP</td>\n",
       "      <td>&lt;Vector 37.77, 28.95, 3.31&gt;</td>\n",
       "      <td>&lt;Vector -1.83, 1.18, 1.16&gt;</td>\n",
       "    </tr>\n",
       "    <tr>\n",
       "      <th>54</th>\n",
       "      <td>65</td>\n",
       "      <td>SER</td>\n",
       "      <td>&lt;Vector 38.98, 33.91, 5.44&gt;</td>\n",
       "      <td>&lt;Vector -0.79, -1.43, 0.99&gt;</td>\n",
       "    </tr>\n",
       "    <tr>\n",
       "      <th>55</th>\n",
       "      <td>66</td>\n",
       "      <td>ASP</td>\n",
       "      <td>&lt;Vector 34.50, 35.73, 6.35&gt;</td>\n",
       "      <td>&lt;Vector 0.56, -1.76, 1.68&gt;</td>\n",
       "    </tr>\n",
       "    <tr>\n",
       "      <th>69</th>\n",
       "      <td>80</td>\n",
       "      <td>ASP</td>\n",
       "      <td>&lt;Vector 33.31, 4.93, 15.93&gt;</td>\n",
       "      <td>&lt;Vector -1.61, 0.02, -1.85&gt;</td>\n",
       "    </tr>\n",
       "    <tr>\n",
       "      <th>71</th>\n",
       "      <td>83</td>\n",
       "      <td>SER</td>\n",
       "      <td>&lt;Vector 25.99, 14.08, 12.71&gt;</td>\n",
       "      <td>&lt;Vector 1.00, -1.14, -1.16&gt;</td>\n",
       "    </tr>\n",
       "    <tr>\n",
       "      <th>72</th>\n",
       "      <td>84</td>\n",
       "      <td>ASP</td>\n",
       "      <td>&lt;Vector 24.61, 15.06, 6.32&gt;</td>\n",
       "      <td>&lt;Vector 1.05, -0.26, 2.20&gt;</td>\n",
       "    </tr>\n",
       "    <tr>\n",
       "      <th>78</th>\n",
       "      <td>91</td>\n",
       "      <td>HIS</td>\n",
       "      <td>&lt;Vector 36.46, 33.50, 12.53&gt;</td>\n",
       "      <td>&lt;Vector -2.63, 1.36, 1.04&gt;</td>\n",
       "    </tr>\n",
       "    <tr>\n",
       "      <th>85</th>\n",
       "      <td>98</td>\n",
       "      <td>ASP</td>\n",
       "      <td>&lt;Vector 21.26, 29.27, 23.75&gt;</td>\n",
       "      <td>&lt;Vector -1.29, 0.99, -1.86&gt;</td>\n",
       "    </tr>\n",
       "    <tr>\n",
       "      <th>89</th>\n",
       "      <td>102</td>\n",
       "      <td>HIS</td>\n",
       "      <td>&lt;Vector 13.12, 25.45, 22.58&gt;</td>\n",
       "      <td>&lt;Vector 1.59, -2.69, 0.01&gt;</td>\n",
       "    </tr>\n",
       "    <tr>\n",
       "      <th>92</th>\n",
       "      <td>105</td>\n",
       "      <td>ASP</td>\n",
       "      <td>&lt;Vector 20.67, 14.85, 26.10&gt;</td>\n",
       "      <td>&lt;Vector -1.79, -1.16, -1.23&gt;</td>\n",
       "    </tr>\n",
       "    <tr>\n",
       "      <th>109</th>\n",
       "      <td>123</td>\n",
       "      <td>ASP</td>\n",
       "      <td>&lt;Vector 14.08, 25.90, -4.85&gt;</td>\n",
       "      <td>&lt;Vector 0.51, 2.23, 0.96&gt;</td>\n",
       "    </tr>\n",
       "    <tr>\n",
       "      <th>116</th>\n",
       "      <td>130</td>\n",
       "      <td>SER</td>\n",
       "      <td>&lt;Vector 3.13, 18.85, 7.55&gt;</td>\n",
       "      <td>&lt;Vector 1.85, -0.40, -0.16&gt;</td>\n",
       "    </tr>\n",
       "    <tr>\n",
       "      <th>124</th>\n",
       "      <td>138</td>\n",
       "      <td>ASP</td>\n",
       "      <td>&lt;Vector 14.80, 5.17, 22.12&gt;</td>\n",
       "      <td>&lt;Vector -0.29, 1.12, -2.17&gt;</td>\n",
       "    </tr>\n",
       "    <tr>\n",
       "      <th>151</th>\n",
       "      <td>171</td>\n",
       "      <td>ASP</td>\n",
       "      <td>&lt;Vector 9.99, 12.92, 24.00&gt;</td>\n",
       "      <td>&lt;Vector -1.70, 0.23, -1.81&gt;</td>\n",
       "    </tr>\n",
       "    <tr>\n",
       "      <th>154</th>\n",
       "      <td>174</td>\n",
       "      <td>ASP</td>\n",
       "      <td>&lt;Vector 7.19, 17.02, 24.78&gt;</td>\n",
       "      <td>&lt;Vector -1.04, 0.45, -1.02&gt;</td>\n",
       "    </tr>\n",
       "    <tr>\n",
       "      <th>161</th>\n",
       "      <td>181</td>\n",
       "      <td>HIS</td>\n",
       "      <td>&lt;Vector 15.73, 17.08, 4.59&gt;</td>\n",
       "      <td>&lt;Vector 1.46, 0.39, 2.76&gt;</td>\n",
       "    </tr>\n",
       "    <tr>\n",
       "      <th>162</th>\n",
       "      <td>182</td>\n",
       "      <td>SER</td>\n",
       "      <td>&lt;Vector 20.98, 14.68, 6.63&gt;</td>\n",
       "      <td>&lt;Vector -1.05, 1.02, -1.20&gt;</td>\n",
       "    </tr>\n",
       "    <tr>\n",
       "      <th>172</th>\n",
       "      <td>192</td>\n",
       "      <td>SER</td>\n",
       "      <td>&lt;Vector 22.13, 14.30, 10.22&gt;</td>\n",
       "      <td>&lt;Vector -1.47, -0.39, 1.14&gt;</td>\n",
       "    </tr>\n",
       "    <tr>\n",
       "      <th>175</th>\n",
       "      <td>195</td>\n",
       "      <td>SER</td>\n",
       "      <td>&lt;Vector 22.77, 14.57, 21.77&gt;</td>\n",
       "      <td>&lt;Vector -1.42, 1.03, -0.75&gt;</td>\n",
       "    </tr>\n",
       "    <tr>\n",
       "      <th>177</th>\n",
       "      <td>197</td>\n",
       "      <td>SER</td>\n",
       "      <td>&lt;Vector 24.91, 15.45, 25.38&gt;</td>\n",
       "      <td>&lt;Vector -0.43, 1.84, -0.26&gt;</td>\n",
       "    </tr>\n",
       "    <tr>\n",
       "      <th>183</th>\n",
       "      <td>205</td>\n",
       "      <td>HIS</td>\n",
       "      <td>&lt;Vector 36.43, 22.05, 20.16&gt;</td>\n",
       "      <td>&lt;Vector -1.74, 1.19, 2.34&gt;</td>\n",
       "    </tr>\n",
       "  </tbody>\n",
       "</table>\n",
       "</div>"
      ],
      "text/plain": [
       "     Seq Residue                         Center                     Direction\n",
       "0      7     ASP    <Vector 4.91, 28.58, 19.99>    <Vector 0.43, 0.22, -1.46>\n",
       "15    24     ASP  <Vector 34.94, 28.06, -11.47>    <Vector -1.30, 1.80, 1.08>\n",
       "37    46     HIS    <Vector 24.92, 16.64, 2.13>    <Vector 3.05, -0.02, 0.95>\n",
       "44    53     ASP   <Vector 35.82, 29.70, -5.74>    <Vector -0.62, 0.44, 2.35>\n",
       "48    58     ASP    <Vector 19.70, 36.26, 6.09>   <Vector 1.52, -1.03, -1.65>\n",
       "53    64     ASP    <Vector 37.77, 28.95, 3.31>    <Vector -1.83, 1.18, 1.16>\n",
       "54    65     SER    <Vector 38.98, 33.91, 5.44>   <Vector -0.79, -1.43, 0.99>\n",
       "55    66     ASP    <Vector 34.50, 35.73, 6.35>    <Vector 0.56, -1.76, 1.68>\n",
       "69    80     ASP    <Vector 33.31, 4.93, 15.93>   <Vector -1.61, 0.02, -1.85>\n",
       "71    83     SER   <Vector 25.99, 14.08, 12.71>   <Vector 1.00, -1.14, -1.16>\n",
       "72    84     ASP    <Vector 24.61, 15.06, 6.32>    <Vector 1.05, -0.26, 2.20>\n",
       "78    91     HIS   <Vector 36.46, 33.50, 12.53>    <Vector -2.63, 1.36, 1.04>\n",
       "85    98     ASP   <Vector 21.26, 29.27, 23.75>   <Vector -1.29, 0.99, -1.86>\n",
       "89   102     HIS   <Vector 13.12, 25.45, 22.58>    <Vector 1.59, -2.69, 0.01>\n",
       "92   105     ASP   <Vector 20.67, 14.85, 26.10>  <Vector -1.79, -1.16, -1.23>\n",
       "109  123     ASP   <Vector 14.08, 25.90, -4.85>     <Vector 0.51, 2.23, 0.96>\n",
       "116  130     SER     <Vector 3.13, 18.85, 7.55>   <Vector 1.85, -0.40, -0.16>\n",
       "124  138     ASP    <Vector 14.80, 5.17, 22.12>   <Vector -0.29, 1.12, -2.17>\n",
       "151  171     ASP    <Vector 9.99, 12.92, 24.00>   <Vector -1.70, 0.23, -1.81>\n",
       "154  174     ASP    <Vector 7.19, 17.02, 24.78>   <Vector -1.04, 0.45, -1.02>\n",
       "161  181     HIS    <Vector 15.73, 17.08, 4.59>     <Vector 1.46, 0.39, 2.76>\n",
       "162  182     SER    <Vector 20.98, 14.68, 6.63>   <Vector -1.05, 1.02, -1.20>\n",
       "172  192     SER   <Vector 22.13, 14.30, 10.22>   <Vector -1.47, -0.39, 1.14>\n",
       "175  195     SER   <Vector 22.77, 14.57, 21.77>   <Vector -1.42, 1.03, -0.75>\n",
       "177  197     SER   <Vector 24.91, 15.45, 25.38>   <Vector -0.43, 1.84, -0.26>\n",
       "183  205     HIS   <Vector 36.43, 22.05, 20.16>    <Vector -1.74, 1.19, 2.34>"
      ]
     },
     "execution_count": 11,
     "metadata": {},
     "output_type": "execute_result"
    }
   ],
   "source": [
    "allSerAndHisAndAsp"
   ]
  },
  {
   "cell_type": "code",
   "execution_count": 12,
   "metadata": {
    "collapsed": true
   },
   "outputs": [],
   "source": [
    "allSerAndHisAndAsp.is_copy = False\n",
    "allSerAndHisAndAsp.loc[:,\"active\"] = np.where(allSerAndHisAndAsp[\"Seq\"].isin(bindingSiteDic[\"2bhg\"][\"A\"]),\"yes\",\"no\")"
   ]
  },
  {
   "cell_type": "code",
   "execution_count": 13,
   "metadata": {},
   "outputs": [
    {
     "data": {
      "text/html": [
       "<div>\n",
       "<style>\n",
       "    .dataframe thead tr:only-child th {\n",
       "        text-align: right;\n",
       "    }\n",
       "\n",
       "    .dataframe thead th {\n",
       "        text-align: left;\n",
       "    }\n",
       "\n",
       "    .dataframe tbody tr th {\n",
       "        vertical-align: top;\n",
       "    }\n",
       "</style>\n",
       "<table border=\"1\" class=\"dataframe\">\n",
       "  <thead>\n",
       "    <tr style=\"text-align: right;\">\n",
       "      <th></th>\n",
       "      <th>Seq</th>\n",
       "      <th>Residue</th>\n",
       "      <th>Center</th>\n",
       "      <th>Direction</th>\n",
       "      <th>active</th>\n",
       "    </tr>\n",
       "  </thead>\n",
       "  <tbody>\n",
       "    <tr>\n",
       "      <th>0</th>\n",
       "      <td>7</td>\n",
       "      <td>ASP</td>\n",
       "      <td>&lt;Vector 4.91, 28.58, 19.99&gt;</td>\n",
       "      <td>&lt;Vector 0.43, 0.22, -1.46&gt;</td>\n",
       "      <td>no</td>\n",
       "    </tr>\n",
       "    <tr>\n",
       "      <th>15</th>\n",
       "      <td>24</td>\n",
       "      <td>ASP</td>\n",
       "      <td>&lt;Vector 34.94, 28.06, -11.47&gt;</td>\n",
       "      <td>&lt;Vector -1.30, 1.80, 1.08&gt;</td>\n",
       "      <td>no</td>\n",
       "    </tr>\n",
       "    <tr>\n",
       "      <th>37</th>\n",
       "      <td>46</td>\n",
       "      <td>HIS</td>\n",
       "      <td>&lt;Vector 24.92, 16.64, 2.13&gt;</td>\n",
       "      <td>&lt;Vector 3.05, -0.02, 0.95&gt;</td>\n",
       "      <td>yes</td>\n",
       "    </tr>\n",
       "    <tr>\n",
       "      <th>44</th>\n",
       "      <td>53</td>\n",
       "      <td>ASP</td>\n",
       "      <td>&lt;Vector 35.82, 29.70, -5.74&gt;</td>\n",
       "      <td>&lt;Vector -0.62, 0.44, 2.35&gt;</td>\n",
       "      <td>no</td>\n",
       "    </tr>\n",
       "    <tr>\n",
       "      <th>48</th>\n",
       "      <td>58</td>\n",
       "      <td>ASP</td>\n",
       "      <td>&lt;Vector 19.70, 36.26, 6.09&gt;</td>\n",
       "      <td>&lt;Vector 1.52, -1.03, -1.65&gt;</td>\n",
       "      <td>no</td>\n",
       "    </tr>\n",
       "    <tr>\n",
       "      <th>53</th>\n",
       "      <td>64</td>\n",
       "      <td>ASP</td>\n",
       "      <td>&lt;Vector 37.77, 28.95, 3.31&gt;</td>\n",
       "      <td>&lt;Vector -1.83, 1.18, 1.16&gt;</td>\n",
       "      <td>no</td>\n",
       "    </tr>\n",
       "    <tr>\n",
       "      <th>54</th>\n",
       "      <td>65</td>\n",
       "      <td>SER</td>\n",
       "      <td>&lt;Vector 38.98, 33.91, 5.44&gt;</td>\n",
       "      <td>&lt;Vector -0.79, -1.43, 0.99&gt;</td>\n",
       "      <td>no</td>\n",
       "    </tr>\n",
       "    <tr>\n",
       "      <th>55</th>\n",
       "      <td>66</td>\n",
       "      <td>ASP</td>\n",
       "      <td>&lt;Vector 34.50, 35.73, 6.35&gt;</td>\n",
       "      <td>&lt;Vector 0.56, -1.76, 1.68&gt;</td>\n",
       "      <td>no</td>\n",
       "    </tr>\n",
       "    <tr>\n",
       "      <th>69</th>\n",
       "      <td>80</td>\n",
       "      <td>ASP</td>\n",
       "      <td>&lt;Vector 33.31, 4.93, 15.93&gt;</td>\n",
       "      <td>&lt;Vector -1.61, 0.02, -1.85&gt;</td>\n",
       "      <td>no</td>\n",
       "    </tr>\n",
       "    <tr>\n",
       "      <th>71</th>\n",
       "      <td>83</td>\n",
       "      <td>SER</td>\n",
       "      <td>&lt;Vector 25.99, 14.08, 12.71&gt;</td>\n",
       "      <td>&lt;Vector 1.00, -1.14, -1.16&gt;</td>\n",
       "      <td>no</td>\n",
       "    </tr>\n",
       "    <tr>\n",
       "      <th>72</th>\n",
       "      <td>84</td>\n",
       "      <td>ASP</td>\n",
       "      <td>&lt;Vector 24.61, 15.06, 6.32&gt;</td>\n",
       "      <td>&lt;Vector 1.05, -0.26, 2.20&gt;</td>\n",
       "      <td>yes</td>\n",
       "    </tr>\n",
       "    <tr>\n",
       "      <th>78</th>\n",
       "      <td>91</td>\n",
       "      <td>HIS</td>\n",
       "      <td>&lt;Vector 36.46, 33.50, 12.53&gt;</td>\n",
       "      <td>&lt;Vector -2.63, 1.36, 1.04&gt;</td>\n",
       "      <td>no</td>\n",
       "    </tr>\n",
       "    <tr>\n",
       "      <th>85</th>\n",
       "      <td>98</td>\n",
       "      <td>ASP</td>\n",
       "      <td>&lt;Vector 21.26, 29.27, 23.75&gt;</td>\n",
       "      <td>&lt;Vector -1.29, 0.99, -1.86&gt;</td>\n",
       "      <td>no</td>\n",
       "    </tr>\n",
       "    <tr>\n",
       "      <th>89</th>\n",
       "      <td>102</td>\n",
       "      <td>HIS</td>\n",
       "      <td>&lt;Vector 13.12, 25.45, 22.58&gt;</td>\n",
       "      <td>&lt;Vector 1.59, -2.69, 0.01&gt;</td>\n",
       "      <td>no</td>\n",
       "    </tr>\n",
       "    <tr>\n",
       "      <th>92</th>\n",
       "      <td>105</td>\n",
       "      <td>ASP</td>\n",
       "      <td>&lt;Vector 20.67, 14.85, 26.10&gt;</td>\n",
       "      <td>&lt;Vector -1.79, -1.16, -1.23&gt;</td>\n",
       "      <td>no</td>\n",
       "    </tr>\n",
       "    <tr>\n",
       "      <th>109</th>\n",
       "      <td>123</td>\n",
       "      <td>ASP</td>\n",
       "      <td>&lt;Vector 14.08, 25.90, -4.85&gt;</td>\n",
       "      <td>&lt;Vector 0.51, 2.23, 0.96&gt;</td>\n",
       "      <td>no</td>\n",
       "    </tr>\n",
       "    <tr>\n",
       "      <th>116</th>\n",
       "      <td>130</td>\n",
       "      <td>SER</td>\n",
       "      <td>&lt;Vector 3.13, 18.85, 7.55&gt;</td>\n",
       "      <td>&lt;Vector 1.85, -0.40, -0.16&gt;</td>\n",
       "      <td>no</td>\n",
       "    </tr>\n",
       "    <tr>\n",
       "      <th>124</th>\n",
       "      <td>138</td>\n",
       "      <td>ASP</td>\n",
       "      <td>&lt;Vector 14.80, 5.17, 22.12&gt;</td>\n",
       "      <td>&lt;Vector -0.29, 1.12, -2.17&gt;</td>\n",
       "      <td>no</td>\n",
       "    </tr>\n",
       "    <tr>\n",
       "      <th>151</th>\n",
       "      <td>171</td>\n",
       "      <td>ASP</td>\n",
       "      <td>&lt;Vector 9.99, 12.92, 24.00&gt;</td>\n",
       "      <td>&lt;Vector -1.70, 0.23, -1.81&gt;</td>\n",
       "      <td>no</td>\n",
       "    </tr>\n",
       "    <tr>\n",
       "      <th>154</th>\n",
       "      <td>174</td>\n",
       "      <td>ASP</td>\n",
       "      <td>&lt;Vector 7.19, 17.02, 24.78&gt;</td>\n",
       "      <td>&lt;Vector -1.04, 0.45, -1.02&gt;</td>\n",
       "      <td>no</td>\n",
       "    </tr>\n",
       "    <tr>\n",
       "      <th>161</th>\n",
       "      <td>181</td>\n",
       "      <td>HIS</td>\n",
       "      <td>&lt;Vector 15.73, 17.08, 4.59&gt;</td>\n",
       "      <td>&lt;Vector 1.46, 0.39, 2.76&gt;</td>\n",
       "      <td>no</td>\n",
       "    </tr>\n",
       "    <tr>\n",
       "      <th>162</th>\n",
       "      <td>182</td>\n",
       "      <td>SER</td>\n",
       "      <td>&lt;Vector 20.98, 14.68, 6.63&gt;</td>\n",
       "      <td>&lt;Vector -1.05, 1.02, -1.20&gt;</td>\n",
       "      <td>yes</td>\n",
       "    </tr>\n",
       "    <tr>\n",
       "      <th>172</th>\n",
       "      <td>192</td>\n",
       "      <td>SER</td>\n",
       "      <td>&lt;Vector 22.13, 14.30, 10.22&gt;</td>\n",
       "      <td>&lt;Vector -1.47, -0.39, 1.14&gt;</td>\n",
       "      <td>no</td>\n",
       "    </tr>\n",
       "    <tr>\n",
       "      <th>175</th>\n",
       "      <td>195</td>\n",
       "      <td>SER</td>\n",
       "      <td>&lt;Vector 22.77, 14.57, 21.77&gt;</td>\n",
       "      <td>&lt;Vector -1.42, 1.03, -0.75&gt;</td>\n",
       "      <td>no</td>\n",
       "    </tr>\n",
       "    <tr>\n",
       "      <th>177</th>\n",
       "      <td>197</td>\n",
       "      <td>SER</td>\n",
       "      <td>&lt;Vector 24.91, 15.45, 25.38&gt;</td>\n",
       "      <td>&lt;Vector -0.43, 1.84, -0.26&gt;</td>\n",
       "      <td>no</td>\n",
       "    </tr>\n",
       "    <tr>\n",
       "      <th>183</th>\n",
       "      <td>205</td>\n",
       "      <td>HIS</td>\n",
       "      <td>&lt;Vector 36.43, 22.05, 20.16&gt;</td>\n",
       "      <td>&lt;Vector -1.74, 1.19, 2.34&gt;</td>\n",
       "      <td>no</td>\n",
       "    </tr>\n",
       "  </tbody>\n",
       "</table>\n",
       "</div>"
      ],
      "text/plain": [
       "     Seq Residue                         Center                     Direction  \\\n",
       "0      7     ASP    <Vector 4.91, 28.58, 19.99>    <Vector 0.43, 0.22, -1.46>   \n",
       "15    24     ASP  <Vector 34.94, 28.06, -11.47>    <Vector -1.30, 1.80, 1.08>   \n",
       "37    46     HIS    <Vector 24.92, 16.64, 2.13>    <Vector 3.05, -0.02, 0.95>   \n",
       "44    53     ASP   <Vector 35.82, 29.70, -5.74>    <Vector -0.62, 0.44, 2.35>   \n",
       "48    58     ASP    <Vector 19.70, 36.26, 6.09>   <Vector 1.52, -1.03, -1.65>   \n",
       "53    64     ASP    <Vector 37.77, 28.95, 3.31>    <Vector -1.83, 1.18, 1.16>   \n",
       "54    65     SER    <Vector 38.98, 33.91, 5.44>   <Vector -0.79, -1.43, 0.99>   \n",
       "55    66     ASP    <Vector 34.50, 35.73, 6.35>    <Vector 0.56, -1.76, 1.68>   \n",
       "69    80     ASP    <Vector 33.31, 4.93, 15.93>   <Vector -1.61, 0.02, -1.85>   \n",
       "71    83     SER   <Vector 25.99, 14.08, 12.71>   <Vector 1.00, -1.14, -1.16>   \n",
       "72    84     ASP    <Vector 24.61, 15.06, 6.32>    <Vector 1.05, -0.26, 2.20>   \n",
       "78    91     HIS   <Vector 36.46, 33.50, 12.53>    <Vector -2.63, 1.36, 1.04>   \n",
       "85    98     ASP   <Vector 21.26, 29.27, 23.75>   <Vector -1.29, 0.99, -1.86>   \n",
       "89   102     HIS   <Vector 13.12, 25.45, 22.58>    <Vector 1.59, -2.69, 0.01>   \n",
       "92   105     ASP   <Vector 20.67, 14.85, 26.10>  <Vector -1.79, -1.16, -1.23>   \n",
       "109  123     ASP   <Vector 14.08, 25.90, -4.85>     <Vector 0.51, 2.23, 0.96>   \n",
       "116  130     SER     <Vector 3.13, 18.85, 7.55>   <Vector 1.85, -0.40, -0.16>   \n",
       "124  138     ASP    <Vector 14.80, 5.17, 22.12>   <Vector -0.29, 1.12, -2.17>   \n",
       "151  171     ASP    <Vector 9.99, 12.92, 24.00>   <Vector -1.70, 0.23, -1.81>   \n",
       "154  174     ASP    <Vector 7.19, 17.02, 24.78>   <Vector -1.04, 0.45, -1.02>   \n",
       "161  181     HIS    <Vector 15.73, 17.08, 4.59>     <Vector 1.46, 0.39, 2.76>   \n",
       "162  182     SER    <Vector 20.98, 14.68, 6.63>   <Vector -1.05, 1.02, -1.20>   \n",
       "172  192     SER   <Vector 22.13, 14.30, 10.22>   <Vector -1.47, -0.39, 1.14>   \n",
       "175  195     SER   <Vector 22.77, 14.57, 21.77>   <Vector -1.42, 1.03, -0.75>   \n",
       "177  197     SER   <Vector 24.91, 15.45, 25.38>   <Vector -0.43, 1.84, -0.26>   \n",
       "183  205     HIS   <Vector 36.43, 22.05, 20.16>    <Vector -1.74, 1.19, 2.34>   \n",
       "\n",
       "    active  \n",
       "0       no  \n",
       "15      no  \n",
       "37     yes  \n",
       "44      no  \n",
       "48      no  \n",
       "53      no  \n",
       "54      no  \n",
       "55      no  \n",
       "69      no  \n",
       "71      no  \n",
       "72     yes  \n",
       "78      no  \n",
       "85      no  \n",
       "89      no  \n",
       "92      no  \n",
       "109     no  \n",
       "116     no  \n",
       "124     no  \n",
       "151     no  \n",
       "154     no  \n",
       "161     no  \n",
       "162    yes  \n",
       "172     no  \n",
       "175     no  \n",
       "177     no  \n",
       "183     no  "
      ]
     },
     "execution_count": 13,
     "metadata": {},
     "output_type": "execute_result"
    }
   ],
   "source": [
    "allSerAndHisAndAsp"
   ]
  },
  {
   "cell_type": "markdown",
   "metadata": {},
   "source": [
    "#### two example plot ser 83 and 182 ser"
   ]
  },
  {
   "cell_type": "code",
   "execution_count": 14,
   "metadata": {
    "collapsed": true
   },
   "outputs": [],
   "source": [
    "HisAndAsp = allSerAndHisAndAsp[(allSerAndHisAndAsp[\"Residue\"]==\"HIS\")|(allSerAndHisAndAsp[\"Residue\"]==\"ASP\")]"
   ]
  },
  {
   "cell_type": "code",
   "execution_count": 15,
   "metadata": {},
   "outputs": [
    {
     "data": {
      "text/plain": [
       "0        7\n",
       "15      24\n",
       "44      53\n",
       "48      58\n",
       "53      64\n",
       "55      66\n",
       "69      80\n",
       "85      98\n",
       "92     105\n",
       "109    123\n",
       "124    138\n",
       "151    171\n",
       "154    174\n",
       "Name: Seq, dtype: object"
      ]
     },
     "execution_count": 15,
     "metadata": {},
     "output_type": "execute_result"
    }
   ],
   "source": [
    "HisAndAsp[(HisAndAsp[\"Residue\"]==\"ASP\")&(HisAndAsp[\"active\"]==\"no\")][\"Seq\"]"
   ]
  },
  {
   "cell_type": "code",
   "execution_count": 203,
   "metadata": {},
   "outputs": [
    {
     "data": {
      "image/png": "[encoded data removed]",
      "text/plain": [
       "<matplotlib.figure.Figure at 0xffb1132b38>"
      ]
     },
     "metadata": {},
     "output_type": "display_data"
    }
   ],
   "source": [
    "plt.figure(figsize = (12,8),dpi=300)\n",
    "\n",
    "plt.scatter(distanceMatrix.loc[83,HisAndAsp[(HisAndAsp[\"Residue\"]==\"ASP\")&(HisAndAsp[\"active\"]==\"no\")][\"Seq\"]],\n",
    "           angleMatrix.loc[83,HisAndAsp[(HisAndAsp[\"Residue\"]==\"ASP\")&(HisAndAsp[\"active\"]==\"no\")][\"Seq\"]],\n",
    "           marker = \"s\")\n",
    "\n",
    "plt.scatter(distanceMatrix.loc[83,HisAndAsp[(HisAndAsp[\"Residue\"]==\"ASP\")&(HisAndAsp[\"active\"]==\"yes\")][\"Seq\"]],\n",
    "           angleMatrix.loc[83,HisAndAsp[(HisAndAsp[\"Residue\"]==\"ASP\")&(HisAndAsp[\"active\"]==\"yes\")][\"Seq\"]])\n",
    "\n",
    "plt.scatter(distanceMatrix.loc[83,HisAndAsp[(HisAndAsp[\"Residue\"]==\"HIS\")&(HisAndAsp[\"active\"]==\"no\")][\"Seq\"]],\n",
    "           angleMatrix.loc[83,HisAndAsp[(HisAndAsp[\"Residue\"]==\"HIS\")&(HisAndAsp[\"active\"]==\"no\")][\"Seq\"]],\n",
    "           marker = \"s\")\n",
    "\n",
    "plt.scatter(distanceMatrix.loc[83,HisAndAsp[(HisAndAsp[\"Residue\"]==\"HIS\")&(HisAndAsp[\"active\"]==\"yes\")][\"Seq\"]],\n",
    "           angleMatrix.loc[83,HisAndAsp[(HisAndAsp[\"Residue\"]==\"HIS\")&(HisAndAsp[\"active\"]==\"yes\")][\"Seq\"]])\n",
    "\n",
    "plt.legend([\"ASP_Neg\",\"ASP_Pos\",\"HIS_Neg\",\"His_Pos\"])\n",
    "plt.xlabel(\"Distance\")\n",
    "plt.ylabel(\"Angle\")\n",
    "plt.title(\"2bhg_A_SER_83_Nonactive\")\n",
    "plt.savefig(\"2bhg_A_SER_83_Nonactive.png\",dpi=None, facecolor='w', edgecolor='w',\n",
    "        orientation='portrait', papertype=None, format=None,\n",
    "        transparent=False, bbox_inches=None, pad_inches=0.1,\n",
    "        frameon=None, metadata=None)\n",
    "\n",
    "plt.show()"
   ]
  },
  {
   "cell_type": "code",
   "execution_count": 204,
   "metadata": {
    "scrolled": true
   },
   "outputs": [
    {
     "data": {
      "image/png": "[encoded data removed]",
      "text/plain": [
       "<matplotlib.figure.Figure at 0xffb32e0b70>"
      ]
     },
     "metadata": {},
     "output_type": "display_data"
    }
   ],
   "source": [
    "plt.figure(figsize = (12,8),dpi=300)\n",
    "\n",
    "plt.scatter(distanceMatrix.loc[182,HisAndAsp[(HisAndAsp[\"Residue\"]==\"ASP\")&(HisAndAsp[\"active\"]==\"no\")][\"Seq\"]],\n",
    "           angleMatrix.loc[182,HisAndAsp[(HisAndAsp[\"Residue\"]==\"ASP\")&(HisAndAsp[\"active\"]==\"no\")][\"Seq\"]],\n",
    "           marker = \"s\")\n",
    "\n",
    "plt.scatter(distanceMatrix.loc[182,HisAndAsp[(HisAndAsp[\"Residue\"]==\"ASP\")&(HisAndAsp[\"active\"]==\"yes\")][\"Seq\"]],\n",
    "           angleMatrix.loc[182,HisAndAsp[(HisAndAsp[\"Residue\"]==\"ASP\")&(HisAndAsp[\"active\"]==\"yes\")][\"Seq\"]])\n",
    "\n",
    "plt.scatter(distanceMatrix.loc[182,HisAndAsp[(HisAndAsp[\"Residue\"]==\"HIS\")&(HisAndAsp[\"active\"]==\"no\")][\"Seq\"]],\n",
    "           angleMatrix.loc[182,HisAndAsp[(HisAndAsp[\"Residue\"]==\"HIS\")&(HisAndAsp[\"active\"]==\"no\")][\"Seq\"]],\n",
    "           marker = \"s\")\n",
    "\n",
    "plt.scatter(distanceMatrix.loc[182,HisAndAsp[(HisAndAsp[\"Residue\"]==\"HIS\")&(HisAndAsp[\"active\"]==\"yes\")][\"Seq\"]],\n",
    "           angleMatrix.loc[182,HisAndAsp[(HisAndAsp[\"Residue\"]==\"HIS\")&(HisAndAsp[\"active\"]==\"yes\")][\"Seq\"]])\n",
    "\n",
    "plt.legend([\"ASP_Neg\",\"ASP_Pos\",\"HIS_Neg\",\"His_Pos\"])\n",
    "\n",
    "plt.xlabel(\"Distance\")\n",
    "plt.ylabel(\"Angle\")\n",
    "plt.title(\"2bhg_A_SER_182_active\")\n",
    "\n",
    "plt.savefig(\"2bhg_A_SER_182_active.png\",dpi=None, facecolor='w', edgecolor='w',\n",
    "        orientation='portrait', papertype=None, format=None,\n",
    "        transparent=False, bbox_inches=None, pad_inches=0.1,\n",
    "        frameon=None, metadata=None)\n",
    "\n",
    "plt.show()"
   ]
  },
  {
   "cell_type": "code",
   "execution_count": null,
   "metadata": {
    "collapsed": true
   },
   "outputs": [],
   "source": []
  },
  {
   "cell_type": "code",
   "execution_count": 16,
   "metadata": {},
   "outputs": [
    {
     "data": {
      "text/plain": [
       "7      25.0969\n",
       "24     26.4922\n",
       "53     24.4765\n",
       "58     21.6274\n",
       "64     22.2847\n",
       "66     25.0229\n",
       "80      18.263\n",
       "98     22.5003\n",
       "105    19.4658\n",
       "123    17.4717\n",
       "138    19.1918\n",
       "171    20.6311\n",
       "174    22.9166\n",
       "Name: 182, dtype: object"
      ]
     },
     "execution_count": 16,
     "metadata": {},
     "output_type": "execute_result"
    }
   ],
   "source": [
    "distanceMatrix.loc[182,HisAndAsp[(HisAndAsp[\"Residue\"]==\"ASP\")&(HisAndAsp[\"active\"]==\"no\")][\"Seq\"]]"
   ]
  },
  {
   "cell_type": "code",
   "execution_count": 17,
   "metadata": {},
   "outputs": [
    {
     "data": {
      "text/plain": [
       "7       58.422\n",
       "24     66.0099\n",
       "53     111.575\n",
       "58     98.0933\n",
       "64     68.3081\n",
       "66     158.661\n",
       "80     32.1407\n",
       "98     10.7261\n",
       "105    62.2729\n",
       "123    82.9376\n",
       "138     29.337\n",
       "171    27.3044\n",
       "174    16.0534\n",
       "Name: 182, dtype: object"
      ]
     },
     "execution_count": 17,
     "metadata": {},
     "output_type": "execute_result"
    }
   ],
   "source": [
    "angleMatrix.loc[182,HisAndAsp[(HisAndAsp[\"Residue\"]==\"ASP\")&(HisAndAsp[\"active\"]==\"no\")][\"Seq\"]]"
   ]
  },
  {
   "cell_type": "code",
   "execution_count": null,
   "metadata": {
    "collapsed": true
   },
   "outputs": [],
   "source": []
  }
 ],
 "metadata": {
  "kernelspec": {
   "display_name": "Python 3",
   "language": "python",
   "name": "python3"
  },
  "language_info": {
   "codemirror_mode": {
    "name": "ipython",
    "version": 3
   },
   "file_extension": ".py",
   "mimetype": "text/x-python",
   "name": "python",
   "nbconvert_exporter": "python",
   "pygments_lexer": "ipython3",
   "version": "3.6.2"
  }
 },
 "nbformat": 4,
 "nbformat_minor": 2
}
